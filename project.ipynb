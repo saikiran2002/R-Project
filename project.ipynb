{
 "cells": [
  {
   "cell_type": "markdown",
   "id": "c45b628d-523c-4a67-8e9c-d4bc8a4f7da5",
   "metadata": {},
   "source": [
    "# Project\n",
    "## Group members:\n",
    "* Naga Datha Saikiran Battula - nb547"
   ]
  },
  {
   "cell_type": "code",
   "execution_count": 1,
   "id": "eb8f58b7-2549-467b-883e-c5d635c27549",
   "metadata": {
    "execution": {
     "iopub.execute_input": "2024-03-30T20:28:17.885134Z",
     "iopub.status.busy": "2024-03-30T20:28:17.883003Z",
     "iopub.status.idle": "2024-03-30T20:28:18.206788Z",
     "shell.execute_reply": "2024-03-30T20:28:18.205235Z"
    }
   },
   "outputs": [
    {
     "name": "stderr",
     "output_type": "stream",
     "text": [
      "Loading required package: foreach\n",
      "\n",
      "Loading required package: iterators\n",
      "\n",
      "Loading required package: parallel\n",
      "\n"
     ]
    }
   ],
   "source": [
    "library(doParallel)\n",
    "\n",
    "num_cores <- 10\n",
    "cl <- makeCluster(num_cores)\n",
    "registerDoParallel(cl)"
   ]
  },
  {
   "cell_type": "markdown",
   "id": "05214d74-576c-4c30-bf2c-598a124779c5",
   "metadata": {},
   "source": [
    "# 1. Loading the Dataset"
   ]
  },
  {
   "cell_type": "code",
   "execution_count": 2,
   "id": "3b7489df-6fbb-42ed-ba3e-8be83c9665b9",
   "metadata": {
    "execution": {
     "iopub.execute_input": "2024-03-30T20:28:18.227344Z",
     "iopub.status.busy": "2024-03-30T20:28:18.208978Z",
     "iopub.status.idle": "2024-03-30T20:28:20.741106Z",
     "shell.execute_reply": "2024-03-30T20:28:20.740393Z"
    },
    "vscode": {
     "languageId": "r"
    }
   },
   "outputs": [],
   "source": [
    "sales_train <- read.csv(\"./dataset/sales_train.csv\")\n",
    "test <- read.csv(\"./dataset/test.csv\")\n",
    "items <- read.csv(\"./dataset/items.csv\")\n",
    "item_categories <- read.csv(\"./dataset/item_categories.csv\")\n",
    "shops <- read.csv(\"./dataset/shops.csv\")"
   ]
  },
  {
   "cell_type": "markdown",
   "id": "aac174a2-3d7b-476e-9bd4-d6f786e8eb4c",
   "metadata": {},
   "source": [
    "# 2. Data Exploration and Preprocessing"
   ]
  },
  {
   "cell_type": "code",
   "execution_count": 3,
   "id": "79ab51be-4fd8-4bf1-a899-af0456147527",
   "metadata": {
    "execution": {
     "iopub.execute_input": "2024-03-30T20:28:20.742484Z",
     "iopub.status.busy": "2024-03-30T20:28:20.742022Z",
     "iopub.status.idle": "2024-03-30T20:28:20.750550Z",
     "shell.execute_reply": "2024-03-30T20:28:20.749871Z"
    },
    "vscode": {
     "languageId": "r"
    }
   },
   "outputs": [
    {
     "name": "stdout",
     "output_type": "stream",
     "text": [
      "'data.frame':\t2935849 obs. of  6 variables:\n",
      " $ date          : chr  \"02.01.2013\" \"03.01.2013\" \"05.01.2013\" \"06.01.2013\" ...\n",
      " $ date_block_num: int  0 0 0 0 0 0 0 0 0 0 ...\n",
      " $ shop_id       : int  59 25 25 25 25 25 25 25 25 25 ...\n",
      " $ item_id       : int  22154 2552 2552 2554 2555 2564 2565 2572 2572 2573 ...\n",
      " $ item_price    : num  999 899 899 1709 1099 ...\n",
      " $ item_cnt_day  : num  1 1 -1 1 1 1 1 1 1 3 ...\n"
     ]
    }
   ],
   "source": [
    "str(sales_train)"
   ]
  },
  {
   "cell_type": "code",
   "execution_count": 4,
   "id": "aac1dd01-75ea-4546-901a-0fe2141d39fc",
   "metadata": {
    "execution": {
     "iopub.execute_input": "2024-03-30T20:28:20.752014Z",
     "iopub.status.busy": "2024-03-30T20:28:20.751489Z",
     "iopub.status.idle": "2024-03-30T20:28:21.066698Z",
     "shell.execute_reply": "2024-03-30T20:28:21.066079Z"
    },
    "vscode": {
     "languageId": "r"
    }
   },
   "outputs": [
    {
     "data": {
      "text/plain": [
       "     date           date_block_num     shop_id      item_id     \n",
       " Length:2935849     Min.   : 0.00   Min.   : 0   Min.   :    0  \n",
       " Class :character   1st Qu.: 7.00   1st Qu.:22   1st Qu.: 4476  \n",
       " Mode  :character   Median :14.00   Median :31   Median : 9343  \n",
       "                    Mean   :14.57   Mean   :33   Mean   :10197  \n",
       "                    3rd Qu.:23.00   3rd Qu.:47   3rd Qu.:15684  \n",
       "                    Max.   :33.00   Max.   :59   Max.   :22169  \n",
       "   item_price        item_cnt_day     \n",
       " Min.   :    -1.0   Min.   : -22.000  \n",
       " 1st Qu.:   249.0   1st Qu.:   1.000  \n",
       " Median :   399.0   Median :   1.000  \n",
       " Mean   :   890.9   Mean   :   1.243  \n",
       " 3rd Qu.:   999.0   3rd Qu.:   1.000  \n",
       " Max.   :307980.0   Max.   :2169.000  "
      ]
     },
     "metadata": {},
     "output_type": "display_data"
    }
   ],
   "source": [
    "summary(sales_train)"
   ]
  },
  {
   "cell_type": "code",
   "execution_count": 5,
   "id": "5a84c42e-ed06-404b-93de-3629190e849a",
   "metadata": {
    "execution": {
     "iopub.execute_input": "2024-03-30T20:28:21.068102Z",
     "iopub.status.busy": "2024-03-30T20:28:21.067613Z",
     "iopub.status.idle": "2024-03-30T20:28:21.073897Z",
     "shell.execute_reply": "2024-03-30T20:28:21.073202Z"
    },
    "vscode": {
     "languageId": "r"
    }
   },
   "outputs": [
    {
     "name": "stdout",
     "output_type": "stream",
     "text": [
      "'data.frame':\t214200 obs. of  3 variables:\n",
      " $ ID     : int  0 1 2 3 4 5 6 7 8 9 ...\n",
      " $ shop_id: int  5 5 5 5 5 5 5 5 5 5 ...\n",
      " $ item_id: int  5037 5320 5233 5232 5268 5039 5041 5046 5319 5003 ...\n"
     ]
    }
   ],
   "source": [
    "str(test)"
   ]
  },
  {
   "cell_type": "code",
   "execution_count": 6,
   "id": "ab91f6c6-92e8-4128-a57a-77738d528a9f",
   "metadata": {
    "execution": {
     "iopub.execute_input": "2024-03-30T20:28:21.076157Z",
     "iopub.status.busy": "2024-03-30T20:28:21.075385Z",
     "iopub.status.idle": "2024-03-30T20:28:21.090228Z",
     "shell.execute_reply": "2024-03-30T20:28:21.089220Z"
    },
    "vscode": {
     "languageId": "r"
    }
   },
   "outputs": [
    {
     "data": {
      "text/plain": [
       "       ID            shop_id         item_id     \n",
       " Min.   :     0   Min.   : 2.00   Min.   :   30  \n",
       " 1st Qu.: 53550   1st Qu.:16.00   1st Qu.: 5382  \n",
       " Median :107100   Median :34.50   Median :11203  \n",
       " Mean   :107100   Mean   :31.64   Mean   :11019  \n",
       " 3rd Qu.:160649   3rd Qu.:47.00   3rd Qu.:16072  \n",
       " Max.   :214199   Max.   :59.00   Max.   :22167  "
      ]
     },
     "metadata": {},
     "output_type": "display_data"
    }
   ],
   "source": [
    "summary(test)"
   ]
  },
  {
   "cell_type": "code",
   "execution_count": 7,
   "id": "bd04895e-9096-40eb-82b2-f13e52be63cd",
   "metadata": {
    "execution": {
     "iopub.execute_input": "2024-03-30T20:28:21.091900Z",
     "iopub.status.busy": "2024-03-30T20:28:21.091359Z",
     "iopub.status.idle": "2024-03-30T20:28:21.099085Z",
     "shell.execute_reply": "2024-03-30T20:28:21.098402Z"
    },
    "vscode": {
     "languageId": "r"
    }
   },
   "outputs": [
    {
     "name": "stdout",
     "output_type": "stream",
     "text": [
      "'data.frame':\t22170 obs. of  3 variables:\n",
      " $ item_name       : chr  \"! ВО ВЛАСТИ НАВАЖДЕНИЯ (ПЛАСТ.)         D\" \"!ABBYY FineReader 12 Professional Edition Full [PC, Цифровая версия]\" \"***В ЛУЧАХ СЛАВЫ   (UNV)                    D\" \"***ГОЛУБАЯ ВОЛНА  (Univ)                      D\" ...\n",
      " $ item_id         : int  0 1 2 3 4 5 6 7 8 9 ...\n",
      " $ item_category_id: int  40 76 40 40 40 40 40 40 40 40 ...\n"
     ]
    }
   ],
   "source": [
    "str(items)"
   ]
  },
  {
   "cell_type": "code",
   "execution_count": 8,
   "id": "ebd423bf-42fb-4ea8-ba1f-9bc16c2a51b6",
   "metadata": {
    "execution": {
     "iopub.execute_input": "2024-03-30T20:28:21.100733Z",
     "iopub.status.busy": "2024-03-30T20:28:21.100121Z",
     "iopub.status.idle": "2024-03-30T20:28:21.108114Z",
     "shell.execute_reply": "2024-03-30T20:28:21.107430Z"
    },
    "vscode": {
     "languageId": "r"
    }
   },
   "outputs": [
    {
     "data": {
      "text/plain": [
       "  item_name            item_id      item_category_id\n",
       " Length:22170       Min.   :    0   Min.   : 0.00   \n",
       " Class :character   1st Qu.: 5542   1st Qu.:37.00   \n",
       " Mode  :character   Median :11084   Median :40.00   \n",
       "                    Mean   :11084   Mean   :46.29   \n",
       "                    3rd Qu.:16627   3rd Qu.:58.00   \n",
       "                    Max.   :22169   Max.   :83.00   "
      ]
     },
     "metadata": {},
     "output_type": "display_data"
    }
   ],
   "source": [
    "summary(items)"
   ]
  },
  {
   "cell_type": "code",
   "execution_count": 9,
   "id": "aae1927a-22ad-48bd-bc59-031193fc31ed",
   "metadata": {
    "execution": {
     "iopub.execute_input": "2024-03-30T20:28:21.109638Z",
     "iopub.status.busy": "2024-03-30T20:28:21.109112Z",
     "iopub.status.idle": "2024-03-30T20:28:21.116440Z",
     "shell.execute_reply": "2024-03-30T20:28:21.115622Z"
    },
    "vscode": {
     "languageId": "r"
    }
   },
   "outputs": [
    {
     "name": "stdout",
     "output_type": "stream",
     "text": [
      "'data.frame':\t84 obs. of  2 variables:\n",
      " $ item_category_name: chr  \"PC - Гарнитуры/Наушники\" \"Аксессуары - PS2\" \"Аксессуары - PS3\" \"Аксессуары - PS4\" ...\n",
      " $ item_category_id  : int  0 1 2 3 4 5 6 7 8 9 ...\n"
     ]
    }
   ],
   "source": [
    "str(item_categories)"
   ]
  },
  {
   "cell_type": "code",
   "execution_count": 10,
   "id": "9a70b12a-59e9-43af-816a-57e19108302d",
   "metadata": {
    "execution": {
     "iopub.execute_input": "2024-03-30T20:28:21.118024Z",
     "iopub.status.busy": "2024-03-30T20:28:21.117510Z",
     "iopub.status.idle": "2024-03-30T20:28:21.124557Z",
     "shell.execute_reply": "2024-03-30T20:28:21.123777Z"
    },
    "vscode": {
     "languageId": "r"
    }
   },
   "outputs": [
    {
     "data": {
      "text/plain": [
       " item_category_name item_category_id\n",
       " Length:84          Min.   : 0.00   \n",
       " Class :character   1st Qu.:20.75   \n",
       " Mode  :character   Median :41.50   \n",
       "                    Mean   :41.50   \n",
       "                    3rd Qu.:62.25   \n",
       "                    Max.   :83.00   "
      ]
     },
     "metadata": {},
     "output_type": "display_data"
    }
   ],
   "source": [
    "summary(item_categories)"
   ]
  },
  {
   "cell_type": "code",
   "execution_count": 11,
   "id": "d9132952-1e90-4f57-bccd-141d75a4725c",
   "metadata": {
    "execution": {
     "iopub.execute_input": "2024-03-30T20:28:21.126036Z",
     "iopub.status.busy": "2024-03-30T20:28:21.125546Z",
     "iopub.status.idle": "2024-03-30T20:28:21.136648Z",
     "shell.execute_reply": "2024-03-30T20:28:21.132072Z"
    },
    "vscode": {
     "languageId": "r"
    }
   },
   "outputs": [
    {
     "name": "stdout",
     "output_type": "stream",
     "text": [
      "'data.frame':\t60 obs. of  2 variables:\n",
      " $ shop_name: chr  \"!Якутск Орджоникидзе, 56 фран\" \"!Якутск ТЦ \\\"Центральный\\\" фран\" \"Адыгея ТЦ \\\"Мега\\\"\" \"Балашиха ТРК \\\"Октябрь-Киномир\\\"\" ...\n",
      " $ shop_id  : int  0 1 2 3 4 5 6 7 8 9 ...\n"
     ]
    }
   ],
   "source": [
    "str(shops)"
   ]
  },
  {
   "cell_type": "code",
   "execution_count": 12,
   "id": "ed180dd3-93f6-48c1-8a96-f88227f50abb",
   "metadata": {
    "execution": {
     "iopub.execute_input": "2024-03-30T20:28:21.138220Z",
     "iopub.status.busy": "2024-03-30T20:28:21.137698Z",
     "iopub.status.idle": "2024-03-30T20:28:21.144176Z",
     "shell.execute_reply": "2024-03-30T20:28:21.143246Z"
    },
    "vscode": {
     "languageId": "r"
    }
   },
   "outputs": [
    {
     "data": {
      "text/plain": [
       "  shop_name            shop_id     \n",
       " Length:60          Min.   : 0.00  \n",
       " Class :character   1st Qu.:14.75  \n",
       " Mode  :character   Median :29.50  \n",
       "                    Mean   :29.50  \n",
       "                    3rd Qu.:44.25  \n",
       "                    Max.   :59.00  "
      ]
     },
     "metadata": {},
     "output_type": "display_data"
    }
   ],
   "source": [
    "summary(shops)"
   ]
  },
  {
   "cell_type": "code",
   "execution_count": 13,
   "id": "e64133cf-9651-4cd5-bcc5-559afb496355",
   "metadata": {
    "execution": {
     "iopub.execute_input": "2024-03-30T20:28:21.145631Z",
     "iopub.status.busy": "2024-03-30T20:28:21.145159Z",
     "iopub.status.idle": "2024-03-30T20:28:33.856381Z",
     "shell.execute_reply": "2024-03-30T20:28:33.855605Z"
    },
    "vscode": {
     "languageId": "r"
    }
   },
   "outputs": [
    {
     "name": "stderr",
     "output_type": "stream",
     "text": [
      "\n",
      "Attaching package: ‘dplyr’\n",
      "\n",
      "\n",
      "The following objects are masked from ‘package:stats’:\n",
      "\n",
      "    filter, lag\n",
      "\n",
      "\n",
      "The following objects are masked from ‘package:base’:\n",
      "\n",
      "    intersect, setdiff, setequal, union\n",
      "\n",
      "\n",
      "\u001b[1m\u001b[22m`summarise()` has grouped output by 'year', 'month', 'shop_id'. You can override using the\n",
      "`.groups` argument.\n"
     ]
    }
   ],
   "source": [
    "library(dplyr)\n",
    "sales_train$date <- as.Date(sales_train$date,format=\"%d.%m.%Y\")\n",
    "\n",
    "sales_train$month <- format(sales_train$date,\"%m\")\n",
    "sales_train$year <- format(sales_train$date,\"%Y\")\n",
    "monthly_sales <- sales_train %>%\n",
    "    group_by(year,month,shop_id,item_id) %>%\n",
    "    summarise(total_sales = sum(item_cnt_day*item_price))"
   ]
  },
  {
   "cell_type": "code",
   "execution_count": 14,
   "id": "00b2f5f0-1360-4a7b-a7e9-f64f22083e92",
   "metadata": {
    "execution": {
     "iopub.execute_input": "2024-03-30T20:28:33.858002Z",
     "iopub.status.busy": "2024-03-30T20:28:33.857468Z",
     "iopub.status.idle": "2024-03-30T20:28:33.892584Z",
     "shell.execute_reply": "2024-03-30T20:28:33.891932Z"
    },
    "scrolled": true,
    "vscode": {
     "languageId": "r"
    }
   },
   "outputs": [
    {
     "data": {
      "text/html": [
       "<table class=\"dataframe\">\n",
       "<caption>A grouped_df: 1609124 × 5</caption>\n",
       "<thead>\n",
       "\t<tr><th scope=col>year</th><th scope=col>month</th><th scope=col>shop_id</th><th scope=col>item_id</th><th scope=col>total_sales</th></tr>\n",
       "\t<tr><th scope=col>&lt;chr&gt;</th><th scope=col>&lt;chr&gt;</th><th scope=col>&lt;int&gt;</th><th scope=col>&lt;int&gt;</th><th scope=col>&lt;dbl&gt;</th></tr>\n",
       "</thead>\n",
       "<tbody>\n",
       "\t<tr><td>2013</td><td>01</td><td>0</td><td> 32</td><td>1326</td></tr>\n",
       "\t<tr><td>2013</td><td>01</td><td>0</td><td> 33</td><td>1041</td></tr>\n",
       "\t<tr><td>2013</td><td>01</td><td>0</td><td> 35</td><td> 247</td></tr>\n",
       "\t<tr><td>2013</td><td>01</td><td>0</td><td> 43</td><td> 221</td></tr>\n",
       "\t<tr><td>2013</td><td>01</td><td>0</td><td> 51</td><td> 257</td></tr>\n",
       "\t<tr><td>2013</td><td>01</td><td>0</td><td> 61</td><td> 195</td></tr>\n",
       "\t<tr><td>2013</td><td>01</td><td>0</td><td> 75</td><td>  76</td></tr>\n",
       "\t<tr><td>2013</td><td>01</td><td>0</td><td> 88</td><td>  76</td></tr>\n",
       "\t<tr><td>2013</td><td>01</td><td>0</td><td> 95</td><td> 193</td></tr>\n",
       "\t<tr><td>2013</td><td>01</td><td>0</td><td> 96</td><td>  70</td></tr>\n",
       "\t<tr><td>2013</td><td>01</td><td>0</td><td> 98</td><td>6700</td></tr>\n",
       "\t<tr><td>2013</td><td>01</td><td>0</td><td>111</td><td>  89</td></tr>\n",
       "\t<tr><td>2013</td><td>01</td><td>0</td><td>149</td><td> 297</td></tr>\n",
       "\t<tr><td>2013</td><td>01</td><td>0</td><td>151</td><td>  75</td></tr>\n",
       "\t<tr><td>2013</td><td>01</td><td>0</td><td>153</td><td> 258</td></tr>\n",
       "\t<tr><td>2013</td><td>01</td><td>0</td><td>198</td><td> 112</td></tr>\n",
       "\t<tr><td>2013</td><td>01</td><td>0</td><td>210</td><td> 236</td></tr>\n",
       "\t<tr><td>2013</td><td>01</td><td>0</td><td>282</td><td> 109</td></tr>\n",
       "\t<tr><td>2013</td><td>01</td><td>0</td><td>306</td><td>  59</td></tr>\n",
       "\t<tr><td>2013</td><td>01</td><td>0</td><td>351</td><td>  89</td></tr>\n",
       "\t<tr><td>2013</td><td>01</td><td>0</td><td>421</td><td> 162</td></tr>\n",
       "\t<tr><td>2013</td><td>01</td><td>0</td><td>438</td><td> 162</td></tr>\n",
       "\t<tr><td>2013</td><td>01</td><td>0</td><td>482</td><td>2720</td></tr>\n",
       "\t<tr><td>2013</td><td>01</td><td>0</td><td>484</td><td> 496</td></tr>\n",
       "\t<tr><td>2013</td><td>01</td><td>0</td><td>491</td><td> 361</td></tr>\n",
       "\t<tr><td>2013</td><td>01</td><td>0</td><td>498</td><td> 124</td></tr>\n",
       "\t<tr><td>2013</td><td>01</td><td>0</td><td>556</td><td> 810</td></tr>\n",
       "\t<tr><td>2013</td><td>01</td><td>0</td><td>642</td><td> 540</td></tr>\n",
       "\t<tr><td>2013</td><td>01</td><td>0</td><td>651</td><td> 630</td></tr>\n",
       "\t<tr><td>2013</td><td>01</td><td>0</td><td>657</td><td> 180</td></tr>\n",
       "\t<tr><td>⋮</td><td>⋮</td><td>⋮</td><td>⋮</td><td>⋮</td></tr>\n",
       "\t<tr><td>2015</td><td>10</td><td>59</td><td>19894</td><td> 199</td></tr>\n",
       "\t<tr><td>2015</td><td>10</td><td>59</td><td>19985</td><td> 299</td></tr>\n",
       "\t<tr><td>2015</td><td>10</td><td>59</td><td>20303</td><td> 399</td></tr>\n",
       "\t<tr><td>2015</td><td>10</td><td>59</td><td>20305</td><td> 449</td></tr>\n",
       "\t<tr><td>2015</td><td>10</td><td>59</td><td>20335</td><td>1149</td></tr>\n",
       "\t<tr><td>2015</td><td>10</td><td>59</td><td>20355</td><td>1249</td></tr>\n",
       "\t<tr><td>2015</td><td>10</td><td>59</td><td>20392</td><td>2199</td></tr>\n",
       "\t<tr><td>2015</td><td>10</td><td>59</td><td>20604</td><td>1998</td></tr>\n",
       "\t<tr><td>2015</td><td>10</td><td>59</td><td>20614</td><td>1099</td></tr>\n",
       "\t<tr><td>2015</td><td>10</td><td>59</td><td>20629</td><td>2399</td></tr>\n",
       "\t<tr><td>2015</td><td>10</td><td>59</td><td>20730</td><td> 499</td></tr>\n",
       "\t<tr><td>2015</td><td>10</td><td>59</td><td>20751</td><td> 699</td></tr>\n",
       "\t<tr><td>2015</td><td>10</td><td>59</td><td>20866</td><td>2796</td></tr>\n",
       "\t<tr><td>2015</td><td>10</td><td>59</td><td>20949</td><td>  95</td></tr>\n",
       "\t<tr><td>2015</td><td>10</td><td>59</td><td>21361</td><td>1999</td></tr>\n",
       "\t<tr><td>2015</td><td>10</td><td>59</td><td>21364</td><td> 399</td></tr>\n",
       "\t<tr><td>2015</td><td>10</td><td>59</td><td>21369</td><td> 338</td></tr>\n",
       "\t<tr><td>2015</td><td>10</td><td>59</td><td>21377</td><td> 169</td></tr>\n",
       "\t<tr><td>2015</td><td>10</td><td>59</td><td>21386</td><td> 169</td></tr>\n",
       "\t<tr><td>2015</td><td>10</td><td>59</td><td>21404</td><td> 169</td></tr>\n",
       "\t<tr><td>2015</td><td>10</td><td>59</td><td>21427</td><td> 169</td></tr>\n",
       "\t<tr><td>2015</td><td>10</td><td>59</td><td>21449</td><td> 898</td></tr>\n",
       "\t<tr><td>2015</td><td>10</td><td>59</td><td>21672</td><td> 249</td></tr>\n",
       "\t<tr><td>2015</td><td>10</td><td>59</td><td>21811</td><td> 199</td></tr>\n",
       "\t<tr><td>2015</td><td>10</td><td>59</td><td>21812</td><td>  99</td></tr>\n",
       "\t<tr><td>2015</td><td>10</td><td>59</td><td>22087</td><td> 714</td></tr>\n",
       "\t<tr><td>2015</td><td>10</td><td>59</td><td>22088</td><td> 238</td></tr>\n",
       "\t<tr><td>2015</td><td>10</td><td>59</td><td>22091</td><td> 179</td></tr>\n",
       "\t<tr><td>2015</td><td>10</td><td>59</td><td>22100</td><td> 629</td></tr>\n",
       "\t<tr><td>2015</td><td>10</td><td>59</td><td>22102</td><td>1250</td></tr>\n",
       "</tbody>\n",
       "</table>\n"
      ],
      "text/latex": [
       "A grouped\\_df: 1609124 × 5\n",
       "\\begin{tabular}{lllll}\n",
       " year & month & shop\\_id & item\\_id & total\\_sales\\\\\n",
       " <chr> & <chr> & <int> & <int> & <dbl>\\\\\n",
       "\\hline\n",
       "\t 2013 & 01 & 0 &  32 & 1326\\\\\n",
       "\t 2013 & 01 & 0 &  33 & 1041\\\\\n",
       "\t 2013 & 01 & 0 &  35 &  247\\\\\n",
       "\t 2013 & 01 & 0 &  43 &  221\\\\\n",
       "\t 2013 & 01 & 0 &  51 &  257\\\\\n",
       "\t 2013 & 01 & 0 &  61 &  195\\\\\n",
       "\t 2013 & 01 & 0 &  75 &   76\\\\\n",
       "\t 2013 & 01 & 0 &  88 &   76\\\\\n",
       "\t 2013 & 01 & 0 &  95 &  193\\\\\n",
       "\t 2013 & 01 & 0 &  96 &   70\\\\\n",
       "\t 2013 & 01 & 0 &  98 & 6700\\\\\n",
       "\t 2013 & 01 & 0 & 111 &   89\\\\\n",
       "\t 2013 & 01 & 0 & 149 &  297\\\\\n",
       "\t 2013 & 01 & 0 & 151 &   75\\\\\n",
       "\t 2013 & 01 & 0 & 153 &  258\\\\\n",
       "\t 2013 & 01 & 0 & 198 &  112\\\\\n",
       "\t 2013 & 01 & 0 & 210 &  236\\\\\n",
       "\t 2013 & 01 & 0 & 282 &  109\\\\\n",
       "\t 2013 & 01 & 0 & 306 &   59\\\\\n",
       "\t 2013 & 01 & 0 & 351 &   89\\\\\n",
       "\t 2013 & 01 & 0 & 421 &  162\\\\\n",
       "\t 2013 & 01 & 0 & 438 &  162\\\\\n",
       "\t 2013 & 01 & 0 & 482 & 2720\\\\\n",
       "\t 2013 & 01 & 0 & 484 &  496\\\\\n",
       "\t 2013 & 01 & 0 & 491 &  361\\\\\n",
       "\t 2013 & 01 & 0 & 498 &  124\\\\\n",
       "\t 2013 & 01 & 0 & 556 &  810\\\\\n",
       "\t 2013 & 01 & 0 & 642 &  540\\\\\n",
       "\t 2013 & 01 & 0 & 651 &  630\\\\\n",
       "\t 2013 & 01 & 0 & 657 &  180\\\\\n",
       "\t ⋮ & ⋮ & ⋮ & ⋮ & ⋮\\\\\n",
       "\t 2015 & 10 & 59 & 19894 &  199\\\\\n",
       "\t 2015 & 10 & 59 & 19985 &  299\\\\\n",
       "\t 2015 & 10 & 59 & 20303 &  399\\\\\n",
       "\t 2015 & 10 & 59 & 20305 &  449\\\\\n",
       "\t 2015 & 10 & 59 & 20335 & 1149\\\\\n",
       "\t 2015 & 10 & 59 & 20355 & 1249\\\\\n",
       "\t 2015 & 10 & 59 & 20392 & 2199\\\\\n",
       "\t 2015 & 10 & 59 & 20604 & 1998\\\\\n",
       "\t 2015 & 10 & 59 & 20614 & 1099\\\\\n",
       "\t 2015 & 10 & 59 & 20629 & 2399\\\\\n",
       "\t 2015 & 10 & 59 & 20730 &  499\\\\\n",
       "\t 2015 & 10 & 59 & 20751 &  699\\\\\n",
       "\t 2015 & 10 & 59 & 20866 & 2796\\\\\n",
       "\t 2015 & 10 & 59 & 20949 &   95\\\\\n",
       "\t 2015 & 10 & 59 & 21361 & 1999\\\\\n",
       "\t 2015 & 10 & 59 & 21364 &  399\\\\\n",
       "\t 2015 & 10 & 59 & 21369 &  338\\\\\n",
       "\t 2015 & 10 & 59 & 21377 &  169\\\\\n",
       "\t 2015 & 10 & 59 & 21386 &  169\\\\\n",
       "\t 2015 & 10 & 59 & 21404 &  169\\\\\n",
       "\t 2015 & 10 & 59 & 21427 &  169\\\\\n",
       "\t 2015 & 10 & 59 & 21449 &  898\\\\\n",
       "\t 2015 & 10 & 59 & 21672 &  249\\\\\n",
       "\t 2015 & 10 & 59 & 21811 &  199\\\\\n",
       "\t 2015 & 10 & 59 & 21812 &   99\\\\\n",
       "\t 2015 & 10 & 59 & 22087 &  714\\\\\n",
       "\t 2015 & 10 & 59 & 22088 &  238\\\\\n",
       "\t 2015 & 10 & 59 & 22091 &  179\\\\\n",
       "\t 2015 & 10 & 59 & 22100 &  629\\\\\n",
       "\t 2015 & 10 & 59 & 22102 & 1250\\\\\n",
       "\\end{tabular}\n"
      ],
      "text/markdown": [
       "\n",
       "A grouped_df: 1609124 × 5\n",
       "\n",
       "| year &lt;chr&gt; | month &lt;chr&gt; | shop_id &lt;int&gt; | item_id &lt;int&gt; | total_sales &lt;dbl&gt; |\n",
       "|---|---|---|---|---|\n",
       "| 2013 | 01 | 0 |  32 | 1326 |\n",
       "| 2013 | 01 | 0 |  33 | 1041 |\n",
       "| 2013 | 01 | 0 |  35 |  247 |\n",
       "| 2013 | 01 | 0 |  43 |  221 |\n",
       "| 2013 | 01 | 0 |  51 |  257 |\n",
       "| 2013 | 01 | 0 |  61 |  195 |\n",
       "| 2013 | 01 | 0 |  75 |   76 |\n",
       "| 2013 | 01 | 0 |  88 |   76 |\n",
       "| 2013 | 01 | 0 |  95 |  193 |\n",
       "| 2013 | 01 | 0 |  96 |   70 |\n",
       "| 2013 | 01 | 0 |  98 | 6700 |\n",
       "| 2013 | 01 | 0 | 111 |   89 |\n",
       "| 2013 | 01 | 0 | 149 |  297 |\n",
       "| 2013 | 01 | 0 | 151 |   75 |\n",
       "| 2013 | 01 | 0 | 153 |  258 |\n",
       "| 2013 | 01 | 0 | 198 |  112 |\n",
       "| 2013 | 01 | 0 | 210 |  236 |\n",
       "| 2013 | 01 | 0 | 282 |  109 |\n",
       "| 2013 | 01 | 0 | 306 |   59 |\n",
       "| 2013 | 01 | 0 | 351 |   89 |\n",
       "| 2013 | 01 | 0 | 421 |  162 |\n",
       "| 2013 | 01 | 0 | 438 |  162 |\n",
       "| 2013 | 01 | 0 | 482 | 2720 |\n",
       "| 2013 | 01 | 0 | 484 |  496 |\n",
       "| 2013 | 01 | 0 | 491 |  361 |\n",
       "| 2013 | 01 | 0 | 498 |  124 |\n",
       "| 2013 | 01 | 0 | 556 |  810 |\n",
       "| 2013 | 01 | 0 | 642 |  540 |\n",
       "| 2013 | 01 | 0 | 651 |  630 |\n",
       "| 2013 | 01 | 0 | 657 |  180 |\n",
       "| ⋮ | ⋮ | ⋮ | ⋮ | ⋮ |\n",
       "| 2015 | 10 | 59 | 19894 |  199 |\n",
       "| 2015 | 10 | 59 | 19985 |  299 |\n",
       "| 2015 | 10 | 59 | 20303 |  399 |\n",
       "| 2015 | 10 | 59 | 20305 |  449 |\n",
       "| 2015 | 10 | 59 | 20335 | 1149 |\n",
       "| 2015 | 10 | 59 | 20355 | 1249 |\n",
       "| 2015 | 10 | 59 | 20392 | 2199 |\n",
       "| 2015 | 10 | 59 | 20604 | 1998 |\n",
       "| 2015 | 10 | 59 | 20614 | 1099 |\n",
       "| 2015 | 10 | 59 | 20629 | 2399 |\n",
       "| 2015 | 10 | 59 | 20730 |  499 |\n",
       "| 2015 | 10 | 59 | 20751 |  699 |\n",
       "| 2015 | 10 | 59 | 20866 | 2796 |\n",
       "| 2015 | 10 | 59 | 20949 |   95 |\n",
       "| 2015 | 10 | 59 | 21361 | 1999 |\n",
       "| 2015 | 10 | 59 | 21364 |  399 |\n",
       "| 2015 | 10 | 59 | 21369 |  338 |\n",
       "| 2015 | 10 | 59 | 21377 |  169 |\n",
       "| 2015 | 10 | 59 | 21386 |  169 |\n",
       "| 2015 | 10 | 59 | 21404 |  169 |\n",
       "| 2015 | 10 | 59 | 21427 |  169 |\n",
       "| 2015 | 10 | 59 | 21449 |  898 |\n",
       "| 2015 | 10 | 59 | 21672 |  249 |\n",
       "| 2015 | 10 | 59 | 21811 |  199 |\n",
       "| 2015 | 10 | 59 | 21812 |   99 |\n",
       "| 2015 | 10 | 59 | 22087 |  714 |\n",
       "| 2015 | 10 | 59 | 22088 |  238 |\n",
       "| 2015 | 10 | 59 | 22091 |  179 |\n",
       "| 2015 | 10 | 59 | 22100 |  629 |\n",
       "| 2015 | 10 | 59 | 22102 | 1250 |\n",
       "\n"
      ],
      "text/plain": [
       "        year month shop_id item_id total_sales\n",
       "1       2013 01    0        32     1326       \n",
       "2       2013 01    0        33     1041       \n",
       "3       2013 01    0        35      247       \n",
       "4       2013 01    0        43      221       \n",
       "5       2013 01    0        51      257       \n",
       "6       2013 01    0        61      195       \n",
       "7       2013 01    0        75       76       \n",
       "8       2013 01    0        88       76       \n",
       "9       2013 01    0        95      193       \n",
       "10      2013 01    0        96       70       \n",
       "11      2013 01    0        98     6700       \n",
       "12      2013 01    0       111       89       \n",
       "13      2013 01    0       149      297       \n",
       "14      2013 01    0       151       75       \n",
       "15      2013 01    0       153      258       \n",
       "16      2013 01    0       198      112       \n",
       "17      2013 01    0       210      236       \n",
       "18      2013 01    0       282      109       \n",
       "19      2013 01    0       306       59       \n",
       "20      2013 01    0       351       89       \n",
       "21      2013 01    0       421      162       \n",
       "22      2013 01    0       438      162       \n",
       "23      2013 01    0       482     2720       \n",
       "24      2013 01    0       484      496       \n",
       "25      2013 01    0       491      361       \n",
       "26      2013 01    0       498      124       \n",
       "27      2013 01    0       556      810       \n",
       "28      2013 01    0       642      540       \n",
       "29      2013 01    0       651      630       \n",
       "30      2013 01    0       657      180       \n",
       "⋮       ⋮    ⋮     ⋮       ⋮       ⋮          \n",
       "1609095 2015 10    59      19894    199       \n",
       "1609096 2015 10    59      19985    299       \n",
       "1609097 2015 10    59      20303    399       \n",
       "1609098 2015 10    59      20305    449       \n",
       "1609099 2015 10    59      20335   1149       \n",
       "1609100 2015 10    59      20355   1249       \n",
       "1609101 2015 10    59      20392   2199       \n",
       "1609102 2015 10    59      20604   1998       \n",
       "1609103 2015 10    59      20614   1099       \n",
       "1609104 2015 10    59      20629   2399       \n",
       "1609105 2015 10    59      20730    499       \n",
       "1609106 2015 10    59      20751    699       \n",
       "1609107 2015 10    59      20866   2796       \n",
       "1609108 2015 10    59      20949     95       \n",
       "1609109 2015 10    59      21361   1999       \n",
       "1609110 2015 10    59      21364    399       \n",
       "1609111 2015 10    59      21369    338       \n",
       "1609112 2015 10    59      21377    169       \n",
       "1609113 2015 10    59      21386    169       \n",
       "1609114 2015 10    59      21404    169       \n",
       "1609115 2015 10    59      21427    169       \n",
       "1609116 2015 10    59      21449    898       \n",
       "1609117 2015 10    59      21672    249       \n",
       "1609118 2015 10    59      21811    199       \n",
       "1609119 2015 10    59      21812     99       \n",
       "1609120 2015 10    59      22087    714       \n",
       "1609121 2015 10    59      22088    238       \n",
       "1609122 2015 10    59      22091    179       \n",
       "1609123 2015 10    59      22100    629       \n",
       "1609124 2015 10    59      22102   1250       "
      ]
     },
     "metadata": {},
     "output_type": "display_data"
    }
   ],
   "source": [
    "monthly_sales"
   ]
  },
  {
   "cell_type": "code",
   "execution_count": 15,
   "id": "66693914-f0fd-4d18-a2a9-4351af005685",
   "metadata": {
    "execution": {
     "iopub.execute_input": "2024-03-30T20:28:33.894034Z",
     "iopub.status.busy": "2024-03-30T20:28:33.893537Z",
     "iopub.status.idle": "2024-03-30T20:28:41.816263Z",
     "shell.execute_reply": "2024-03-30T20:28:41.815541Z"
    },
    "vscode": {
     "languageId": "r"
    }
   },
   "outputs": [],
   "source": [
    "sales_train_data <- merge(sales_train,items,by=\"item_id\",all.x=TRUE)\n",
    "sales_train_data <- merge(sales_train_data,shops,by=\"shop_id\",all.x=TRUE)"
   ]
  },
  {
   "cell_type": "code",
   "execution_count": 16,
   "id": "d78bac12-1039-4e53-86a8-058276991cf4",
   "metadata": {
    "execution": {
     "iopub.execute_input": "2024-03-30T20:28:41.817898Z",
     "iopub.status.busy": "2024-03-30T20:28:41.817430Z",
     "iopub.status.idle": "2024-03-30T20:28:41.860363Z",
     "shell.execute_reply": "2024-03-30T20:28:41.859548Z"
    },
    "scrolled": true,
    "vscode": {
     "languageId": "r"
    }
   },
   "outputs": [
    {
     "data": {
      "text/html": [
       "<table class=\"dataframe\">\n",
       "<caption>A data.frame: 2935849 × 11</caption>\n",
       "<thead>\n",
       "\t<tr><th scope=col>shop_id</th><th scope=col>item_id</th><th scope=col>date</th><th scope=col>date_block_num</th><th scope=col>item_price</th><th scope=col>item_cnt_day</th><th scope=col>month</th><th scope=col>year</th><th scope=col>item_name</th><th scope=col>item_category_id</th><th scope=col>shop_name</th></tr>\n",
       "\t<tr><th scope=col>&lt;int&gt;</th><th scope=col>&lt;int&gt;</th><th scope=col>&lt;date&gt;</th><th scope=col>&lt;int&gt;</th><th scope=col>&lt;dbl&gt;</th><th scope=col>&lt;dbl&gt;</th><th scope=col>&lt;chr&gt;</th><th scope=col>&lt;chr&gt;</th><th scope=col>&lt;chr&gt;</th><th scope=col>&lt;int&gt;</th><th scope=col>&lt;chr&gt;</th></tr>\n",
       "</thead>\n",
       "<tbody>\n",
       "\t<tr><td>0</td><td>10851</td><td>2013-01-20</td><td>0</td><td>  66</td><td>1</td><td>01</td><td>2013</td><td>ДЕНЬ ВЫБОРОВ (Регион)                                                                               </td><td>40</td><td>!Якутск Орджоникидзе, 56 фран</td></tr>\n",
       "\t<tr><td>0</td><td> 3394</td><td>2013-02-14</td><td>1</td><td>1249</td><td>1</td><td>02</td><td>2013</td><td>Fable: Journey [только для Kinect] [Xbox 360, русская версия]                                       </td><td>23</td><td>!Якутск Орджоникидзе, 56 фран</td></tr>\n",
       "\t<tr><td>0</td><td> 4475</td><td>2013-02-11</td><td>1</td><td> 483</td><td>1</td><td>02</td><td>2013</td><td>LittleBigPlanet (Essentials) [PSP, русская документация]                                            </td><td>21</td><td>!Якутск Орджоникидзе, 56 фран</td></tr>\n",
       "\t<tr><td>0</td><td>22014</td><td>2013-01-10</td><td>0</td><td> 265</td><td>2</td><td>01</td><td>2013</td><td>ЭВОЛЮЦИЯ БОРНА                                                                                      </td><td>40</td><td>!Якутск Орджоникидзе, 56 фран</td></tr>\n",
       "\t<tr><td>0</td><td> 1830</td><td>2013-01-11</td><td>0</td><td> 353</td><td>1</td><td>01</td><td>2013</td><td>Battlefield 3 [PC, Jewel, русская версия]                                                           </td><td>30</td><td>!Якутск Орджоникидзе, 56 фран</td></tr>\n",
       "\t<tr><td>0</td><td> 3528</td><td>2013-02-12</td><td>1</td><td> 964</td><td>1</td><td>02</td><td>2013</td><td>FloorPlan 3D. Версия 12.0 DeLuxe (Box)                                                              </td><td>75</td><td>!Якутск Орджоникидзе, 56 фран</td></tr>\n",
       "\t<tr><td>0</td><td>13101</td><td>2013-02-28</td><td>1</td><td>1806</td><td>1</td><td>02</td><td>2013</td><td>Карта памяти Memory Stick Pro Duo HX 16GB (50МБ/с - чтение, 15МБ/с - запись)                        </td><td> 4</td><td>!Якутск Орджоникидзе, 56 фран</td></tr>\n",
       "\t<tr><td>0</td><td>18281</td><td>2013-01-03</td><td>0</td><td> 110</td><td>1</td><td>01</td><td>2013</td><td>СБ. ВИА  Золотые хиты  Мой Адрес - Советский Союз                                                   </td><td>55</td><td>!Якутск Орджоникидзе, 56 фран</td></tr>\n",
       "\t<tr><td>0</td><td>18424</td><td>2013-02-17</td><td>1</td><td> 110</td><td>1</td><td>02</td><td>2013</td><td>СБ. Посвящение Михею                                                                                </td><td>55</td><td>!Якутск Орджоникидзе, 56 фран</td></tr>\n",
       "\t<tr><td>0</td><td> 5623</td><td>2013-02-10</td><td>1</td><td> 294</td><td>1</td><td>02</td><td>2013</td><td>PS3: Кабель HDMI IT 3м Defender PRO (ver. 1.4)                                                      </td><td> 2</td><td>!Якутск Орджоникидзе, 56 фран</td></tr>\n",
       "\t<tr><td>0</td><td>14158</td><td>2013-01-26</td><td>0</td><td> 263</td><td>1</td><td>01</td><td>2013</td><td>Ледниковый период 4. Континентальный дрейф. Арктические игры [PC, Jewel русская версия]             </td><td>30</td><td>!Якутск Орджоникидзе, 56 фран</td></tr>\n",
       "\t<tr><td>0</td><td>12874</td><td>2013-01-08</td><td>0</td><td> 247</td><td>1</td><td>01</td><td>2013</td><td>КРАСНЫЕ ОГНИ (DVD+BD)                                                                               </td><td>40</td><td>!Якутск Орджоникидзе, 56 фран</td></tr>\n",
       "\t<tr><td>0</td><td>10331</td><td>2013-01-17</td><td>0</td><td>  76</td><td>1</td><td>01</td><td>2013</td><td>ГАРРИ ПОТТЕР И ДАРЫ СМЕРТИ. ЧАСТЬ 2 (регион)                                                        </td><td>40</td><td>!Якутск Орджоникидзе, 56 фран</td></tr>\n",
       "\t<tr><td>0</td><td>10949</td><td>2013-02-09</td><td>1</td><td> 167</td><td>1</td><td>02</td><td>2013</td><td>ДЕТЯМ Лучшие Песни Из Мультфильмов МР3                                                              </td><td>57</td><td>!Якутск Орджоникидзе, 56 фран</td></tr>\n",
       "\t<tr><td>0</td><td>13355</td><td>2013-01-06</td><td>0</td><td>  97</td><td>1</td><td>01</td><td>2013</td><td>Компактдиск Mirex DVD-R 4.7 Гб 16х Cake box 10                                                      </td><td>81</td><td>!Якутск Орджоникидзе, 56 фран</td></tr>\n",
       "\t<tr><td>0</td><td>16326</td><td>2013-02-26</td><td>1</td><td> 161</td><td>1</td><td>02</td><td>2013</td><td>Никольский Константин. Антология (mp3-CD) (Jewel)                                                   </td><td>57</td><td>!Якутск Орджоникидзе, 56 фран</td></tr>\n",
       "\t<tr><td>0</td><td>14137</td><td>2013-02-11</td><td>1</td><td> 190</td><td>1</td><td>02</td><td>2013</td><td>ЛЮДИ Х: НАЧАЛО. РОСОМАХА (BD)                                                                       </td><td>37</td><td>!Якутск Орджоникидзе, 56 фран</td></tr>\n",
       "\t<tr><td>0</td><td>17317</td><td>2013-01-05</td><td>0</td><td> 266</td><td>1</td><td>01</td><td>2013</td><td>ПРЕЗИДЕНТ ЛИНКОЛЬН: ОХОТНИК НА ВАМПИРОВ                                                             </td><td>40</td><td>!Якутск Орджоникидзе, 56 фран</td></tr>\n",
       "\t<tr><td>0</td><td>14810</td><td>2013-02-24</td><td>1</td><td>  70</td><td>1</td><td>02</td><td>2013</td><td>МСТИТЕЛИ WD (регион)                                                                                </td><td>40</td><td>!Якутск Орджоникидзе, 56 фран</td></tr>\n",
       "\t<tr><td>0</td><td>21789</td><td>2013-02-08</td><td>1</td><td>  27</td><td>1</td><td>02</td><td>2013</td><td>Чехол URBAN TOOL slyDog national TR                                                                 </td><td>71</td><td>!Якутск Орджоникидзе, 56 фран</td></tr>\n",
       "\t<tr><td>0</td><td>14782</td><td>2013-02-14</td><td>1</td><td>  75</td><td>1</td><td>02</td><td>2013</td><td>МОСКВА 2017 (регион)                                                                                </td><td>40</td><td>!Якутск Орджоникидзе, 56 фран</td></tr>\n",
       "\t<tr><td>0</td><td> 7893</td><td>2013-02-23</td><td>1</td><td>1473</td><td>6</td><td>02</td><td>2013</td><td>X360: Геймпад беспроводной черный - Wireless Controller BLACK (NSF-00002: Microsoft)                </td><td> 6</td><td>!Якутск Орджоникидзе, 56 фран</td></tr>\n",
       "\t<tr><td>0</td><td> 8621</td><td>2013-01-08</td><td>0</td><td>  77</td><td>1</td><td>01</td><td>2013</td><td>БАРБИ И ВОЛШЕБСТВО ПЕГАСA (регион)                                                                  </td><td>40</td><td>!Якутск Орджоникидзе, 56 фран</td></tr>\n",
       "\t<tr><td>0</td><td>  700</td><td>2013-02-13</td><td>1</td><td> 143</td><td>1</td><td>02</td><td>2013</td><td>1С:Познавательная коллекция. Интерактивный тренажер вождения по городу.С правилами ПДД 2013(DVD-box)</td><td>77</td><td>!Якутск Орджоникидзе, 56 фран</td></tr>\n",
       "\t<tr><td>0</td><td> 2321</td><td>2013-01-05</td><td>0</td><td> 735</td><td>1</td><td>01</td><td>2013</td><td>Call of Duty: Black Ops II. Расширенное издание [PС, русская версия]                                </td><td>28</td><td>!Якутск Орджоникидзе, 56 фран</td></tr>\n",
       "\t<tr><td>0</td><td> 7893</td><td>2013-02-07</td><td>1</td><td>1473</td><td>1</td><td>02</td><td>2013</td><td>X360: Геймпад беспроводной черный - Wireless Controller BLACK (NSF-00002: Microsoft)                </td><td> 6</td><td>!Якутск Орджоникидзе, 56 фран</td></tr>\n",
       "\t<tr><td>0</td><td>13851</td><td>2013-01-20</td><td>0</td><td> 265</td><td>1</td><td>01</td><td>2013</td><td>ЛЕДНИКОВЫЙ ПЕРИОД 4:КОНТИНЕНТАЛЬНЫЙ ДРЕЙФ                                                           </td><td>40</td><td>!Якутск Орджоникидзе, 56 фран</td></tr>\n",
       "\t<tr><td>0</td><td>17007</td><td>2013-01-28</td><td>0</td><td> 437</td><td>1</td><td>01</td><td>2013</td><td>ПИКНИК  30 световых лет  3CD (фирм)                                                                 </td><td>55</td><td>!Якутск Орджоникидзе, 56 фран</td></tr>\n",
       "\t<tr><td>0</td><td>13350</td><td>2013-02-14</td><td>1</td><td>  15</td><td>1</td><td>02</td><td>2013</td><td>Компактдиск Mirex CD-RW 700 Мб 4-12x Slim case                                                      </td><td>82</td><td>!Якутск Орджоникидзе, 56 фран</td></tr>\n",
       "\t<tr><td>0</td><td> 4265</td><td>2013-02-08</td><td>1</td><td> 177</td><td>1</td><td>02</td><td>2013</td><td>Kingdoms of Amalur: Reckoning [PC, английская версия]                                               </td><td>30</td><td>!Якутск Орджоникидзе, 56 фран</td></tr>\n",
       "\t<tr><td>⋮</td><td>⋮</td><td>⋮</td><td>⋮</td><td>⋮</td><td>⋮</td><td>⋮</td><td>⋮</td><td>⋮</td><td>⋮</td><td>⋮</td></tr>\n",
       "\t<tr><td>59</td><td>20124</td><td>2014-04-07</td><td>15</td><td> 349.0</td><td>1</td><td>04</td><td>2014</td><td>УЦЕЛЕВШИЙ                                                                          </td><td>40</td><td>Ярославль ТЦ \"Альтаир\"</td></tr>\n",
       "\t<tr><td>59</td><td>15496</td><td>2015-07-24</td><td>30</td><td> 499.0</td><td>1</td><td>07</td><td>2015</td><td>Мягкая игрушка-антистресс Миньон Стюарт 15см                                       </td><td>63</td><td>Ярославль ТЦ \"Альтаир\"</td></tr>\n",
       "\t<tr><td>59</td><td>21613</td><td>2013-06-11</td><td> 5</td><td> 149.0</td><td>1</td><td>06</td><td>2013</td><td>ЧЕБУРАШКА И КРОКОДИЛ ГЕНА (Регион)                                                 </td><td>40</td><td>Ярославль ТЦ \"Альтаир\"</td></tr>\n",
       "\t<tr><td>59</td><td>13901</td><td>2013-11-02</td><td>10</td><td> 349.0</td><td>1</td><td>11</td><td>2013</td><td>ЛЕПС ГРИГОРИЙ  Полный вперед (фирм.)                                               </td><td>55</td><td>Ярославль ТЦ \"Альтаир\"</td></tr>\n",
       "\t<tr><td>59</td><td>14261</td><td>2013-03-24</td><td> 2</td><td> 249.0</td><td>1</td><td>03</td><td>2013</td><td>МАДАГАСКАР 3                                                                       </td><td>40</td><td>Ярославль ТЦ \"Альтаир\"</td></tr>\n",
       "\t<tr><td>59</td><td> 2730</td><td>2013-05-17</td><td> 4</td><td> 599.0</td><td>1</td><td>05</td><td>2013</td><td>Dead Island Riptide [PС, Jewel, русская версия]                                    </td><td>30</td><td>Ярославль ТЦ \"Альтаир\"</td></tr>\n",
       "\t<tr><td>59</td><td> 2536</td><td>2014-10-06</td><td>21</td><td> 399.0</td><td>1</td><td>10</td><td>2014</td><td>DEEP PURPLE  Now What?!  Gold Edition  2CD                                         </td><td>55</td><td>Ярославль ТЦ \"Альтаир\"</td></tr>\n",
       "\t<tr><td>59</td><td>14109</td><td>2014-03-30</td><td>14</td><td> 249.0</td><td>1</td><td>03</td><td>2014</td><td>ЛЮДИ В ЧЕРНОМ (1,2,3)                                                              </td><td>40</td><td>Ярославль ТЦ \"Альтаир\"</td></tr>\n",
       "\t<tr><td>59</td><td>  839</td><td>2014-06-20</td><td>17</td><td>3300.0</td><td>1</td><td>06</td><td>2014</td><td>1С:Упрощенка 8                                                                     </td><td>73</td><td>Ярославль ТЦ \"Альтаир\"</td></tr>\n",
       "\t<tr><td>59</td><td> 2416</td><td>2013-10-02</td><td> 9</td><td> 449.0</td><td>1</td><td>10</td><td>2013</td><td>Counter Strike. Global Offensive [PC, Jewel, русская версия]                       </td><td>30</td><td>Ярославль ТЦ \"Альтаир\"</td></tr>\n",
       "\t<tr><td>59</td><td> 2269</td><td>2013-11-10</td><td>10</td><td> 799.0</td><td>2</td><td>11</td><td>2013</td><td>Call of Duty. Ghosts [PС, Digipack, русская версия]                                </td><td>30</td><td>Ярославль ТЦ \"Альтаир\"</td></tr>\n",
       "\t<tr><td>59</td><td>10429</td><td>2015-07-05</td><td>30</td><td> 449.0</td><td>1</td><td>07</td><td>2015</td><td>ГНЕЗДО ДРАКОНА                                                                     </td><td>40</td><td>Ярославль ТЦ \"Альтаир\"</td></tr>\n",
       "\t<tr><td>59</td><td> 1916</td><td>2013-11-27</td><td>10</td><td> 249.0</td><td>1</td><td>11</td><td>2013</td><td>Bestseller. Sid Meier's Civilization V. Золотое издание [PC, Jewel, русская версия]</td><td>30</td><td>Ярославль ТЦ \"Альтаир\"</td></tr>\n",
       "\t<tr><td>59</td><td> 4245</td><td>2013-08-18</td><td> 7</td><td> 999.0</td><td>1</td><td>08</td><td>2013</td><td>Kinect Sports (только для MS Kinect) [Xbox 360] (YQC-00018)                        </td><td>23</td><td>Ярославль ТЦ \"Альтаир\"</td></tr>\n",
       "\t<tr><td>59</td><td>11788</td><td>2014-04-02</td><td>15</td><td> 169.0</td><td>1</td><td>04</td><td>2014</td><td>ЗОЛУШКА х/ф цветной (BD)                                                           </td><td>37</td><td>Ярославль ТЦ \"Альтаир\"</td></tr>\n",
       "\t<tr><td>59</td><td>10016</td><td>2013-08-20</td><td> 7</td><td> 349.0</td><td>1</td><td>08</td><td>2013</td><td>ВООБРАЖАРИУМ                                                                       </td><td>40</td><td>Ярославль ТЦ \"Альтаир\"</td></tr>\n",
       "\t<tr><td>59</td><td>19118</td><td>2014-12-06</td><td>23</td><td> 699.0</td><td>1</td><td>12</td><td>2014</td><td>СТРАЖИ ГАЛАКТИКИ (BD)                                                              </td><td>37</td><td>Ярославль ТЦ \"Альтаир\"</td></tr>\n",
       "\t<tr><td>59</td><td> 6229</td><td>2014-09-28</td><td>20</td><td> 299.0</td><td>1</td><td>09</td><td>2014</td><td>SCHULZ MARKUS  Buenos Aires ‘13  2CD (digipack)                                    </td><td>55</td><td>Ярославль ТЦ \"Альтаир\"</td></tr>\n",
       "\t<tr><td>59</td><td> 1513</td><td>2014-03-16</td><td>14</td><td>2599.0</td><td>1</td><td>03</td><td>2014</td><td>Assassin's Creed IV. Черный флаг. Special Edition [Xbox 360, русская версия]       </td><td>23</td><td>Ярославль ТЦ \"Альтаир\"</td></tr>\n",
       "\t<tr><td>59</td><td>11448</td><td>2013-12-25</td><td>11</td><td> 149.0</td><td>1</td><td>12</td><td>2013</td><td>ЖЕЛЕЗНЫЙ КУЛАК                                                                     </td><td>40</td><td>Ярославль ТЦ \"Альтаир\"</td></tr>\n",
       "\t<tr><td>59</td><td>12465</td><td>2014-07-11</td><td>18</td><td> 199.0</td><td>1</td><td>07</td><td>2014</td><td>КИНО  Звезда по имени Солнце                                                       </td><td>55</td><td>Ярославль ТЦ \"Альтаир\"</td></tr>\n",
       "\t<tr><td>59</td><td>19993</td><td>2013-12-25</td><td>11</td><td> 174.5</td><td>1</td><td>12</td><td>2013</td><td>Трансформеры: Битва за Кибертрон                                                   </td><td>30</td><td>Ярославль ТЦ \"Альтаир\"</td></tr>\n",
       "\t<tr><td>59</td><td> 3971</td><td>2014-07-15</td><td>18</td><td> 299.0</td><td>1</td><td>07</td><td>2014</td><td>JACKSON MICHAEL  Xscape                                                            </td><td>55</td><td>Ярославль ТЦ \"Альтаир\"</td></tr>\n",
       "\t<tr><td>59</td><td> 6112</td><td>2015-02-07</td><td>25</td><td> 998.0</td><td>1</td><td>02</td><td>2015</td><td>Remember me [PS3, русские субтитры]                                                </td><td>19</td><td>Ярославль ТЦ \"Альтаир\"</td></tr>\n",
       "\t<tr><td>59</td><td>19820</td><td>2013-02-06</td><td> 1</td><td> 149.0</td><td>1</td><td>02</td><td>2013</td><td>ТРИ ДНЯ ЛЕТЕНАНТА КРАВЦОВА (регион)                                                </td><td>40</td><td>Ярославль ТЦ \"Альтаир\"</td></tr>\n",
       "\t<tr><td>59</td><td> 3186</td><td>2013-05-30</td><td> 4</td><td> 599.0</td><td>1</td><td>05</td><td>2013</td><td>Elder Scrolls V: Skyrim [PC, Jewel, русская версия]                                </td><td>30</td><td>Ярославль ТЦ \"Альтаир\"</td></tr>\n",
       "\t<tr><td>59</td><td> 1486</td><td>2015-07-02</td><td>30</td><td>1199.0</td><td>1</td><td>07</td><td>2015</td><td>Assassin's Creed IV. Черный флаг (Classics) [Xbox 360, русская версия]             </td><td>23</td><td>Ярославль ТЦ \"Альтаир\"</td></tr>\n",
       "\t<tr><td>59</td><td>   32</td><td>2013-07-31</td><td> 6</td><td> 349.0</td><td>1</td><td>07</td><td>2013</td><td>1+1                                                                                </td><td>40</td><td>Ярославль ТЦ \"Альтаир\"</td></tr>\n",
       "\t<tr><td>59</td><td> 3734</td><td>2013-10-06</td><td> 9</td><td>2599.0</td><td>1</td><td>10</td><td>2013</td><td>Grand Theft Auto V [Xbox 360, русские субтитры]                                    </td><td>23</td><td>Ярославль ТЦ \"Альтаир\"</td></tr>\n",
       "\t<tr><td>59</td><td>18544</td><td>2013-08-10</td><td> 7</td><td> 149.0</td><td>1</td><td>08</td><td>2013</td><td>СВАТЫ 4 (1-4 серии) (регион)                                                       </td><td>40</td><td>Ярославль ТЦ \"Альтаир\"</td></tr>\n",
       "</tbody>\n",
       "</table>\n"
      ],
      "text/latex": [
       "A data.frame: 2935849 × 11\n",
       "\\begin{tabular}{lllllllllll}\n",
       " shop\\_id & item\\_id & date & date\\_block\\_num & item\\_price & item\\_cnt\\_day & month & year & item\\_name & item\\_category\\_id & shop\\_name\\\\\n",
       " <int> & <int> & <date> & <int> & <dbl> & <dbl> & <chr> & <chr> & <chr> & <int> & <chr>\\\\\n",
       "\\hline\n",
       "\t 0 & 10851 & 2013-01-20 & 0 &   66 & 1 & 01 & 2013 & ДЕНЬ ВЫБОРОВ (Регион)                                                                                & 40 & !Якутск Орджоникидзе, 56 фран\\\\\n",
       "\t 0 &  3394 & 2013-02-14 & 1 & 1249 & 1 & 02 & 2013 & Fable: Journey {[}только для Kinect{]} {[}Xbox 360, русская версия{]}                                        & 23 & !Якутск Орджоникидзе, 56 фран\\\\\n",
       "\t 0 &  4475 & 2013-02-11 & 1 &  483 & 1 & 02 & 2013 & LittleBigPlanet (Essentials) {[}PSP, русская документация{]}                                             & 21 & !Якутск Орджоникидзе, 56 фран\\\\\n",
       "\t 0 & 22014 & 2013-01-10 & 0 &  265 & 2 & 01 & 2013 & ЭВОЛЮЦИЯ БОРНА                                                                                       & 40 & !Якутск Орджоникидзе, 56 фран\\\\\n",
       "\t 0 &  1830 & 2013-01-11 & 0 &  353 & 1 & 01 & 2013 & Battlefield 3 {[}PC, Jewel, русская версия{]}                                                            & 30 & !Якутск Орджоникидзе, 56 фран\\\\\n",
       "\t 0 &  3528 & 2013-02-12 & 1 &  964 & 1 & 02 & 2013 & FloorPlan 3D. Версия 12.0 DeLuxe (Box)                                                               & 75 & !Якутск Орджоникидзе, 56 фран\\\\\n",
       "\t 0 & 13101 & 2013-02-28 & 1 & 1806 & 1 & 02 & 2013 & Карта памяти Memory Stick Pro Duo HX 16GB (50МБ/с - чтение, 15МБ/с - запись)                         &  4 & !Якутск Орджоникидзе, 56 фран\\\\\n",
       "\t 0 & 18281 & 2013-01-03 & 0 &  110 & 1 & 01 & 2013 & СБ. ВИА  Золотые хиты  Мой Адрес - Советский Союз                                                    & 55 & !Якутск Орджоникидзе, 56 фран\\\\\n",
       "\t 0 & 18424 & 2013-02-17 & 1 &  110 & 1 & 02 & 2013 & СБ. Посвящение Михею                                                                                 & 55 & !Якутск Орджоникидзе, 56 фран\\\\\n",
       "\t 0 &  5623 & 2013-02-10 & 1 &  294 & 1 & 02 & 2013 & PS3: Кабель HDMI IT 3м Defender PRO (ver. 1.4)                                                       &  2 & !Якутск Орджоникидзе, 56 фран\\\\\n",
       "\t 0 & 14158 & 2013-01-26 & 0 &  263 & 1 & 01 & 2013 & Ледниковый период 4. Континентальный дрейф. Арктические игры {[}PC, Jewel русская версия{]}              & 30 & !Якутск Орджоникидзе, 56 фран\\\\\n",
       "\t 0 & 12874 & 2013-01-08 & 0 &  247 & 1 & 01 & 2013 & КРАСНЫЕ ОГНИ (DVD+BD)                                                                                & 40 & !Якутск Орджоникидзе, 56 фран\\\\\n",
       "\t 0 & 10331 & 2013-01-17 & 0 &   76 & 1 & 01 & 2013 & ГАРРИ ПОТТЕР И ДАРЫ СМЕРТИ. ЧАСТЬ 2 (регион)                                                         & 40 & !Якутск Орджоникидзе, 56 фран\\\\\n",
       "\t 0 & 10949 & 2013-02-09 & 1 &  167 & 1 & 02 & 2013 & ДЕТЯМ Лучшие Песни Из Мультфильмов МР3                                                               & 57 & !Якутск Орджоникидзе, 56 фран\\\\\n",
       "\t 0 & 13355 & 2013-01-06 & 0 &   97 & 1 & 01 & 2013 & Компактдиск Mirex DVD-R 4.7 Гб 16х Cake box 10                                                       & 81 & !Якутск Орджоникидзе, 56 фран\\\\\n",
       "\t 0 & 16326 & 2013-02-26 & 1 &  161 & 1 & 02 & 2013 & Никольский Константин. Антология (mp3-CD) (Jewel)                                                    & 57 & !Якутск Орджоникидзе, 56 фран\\\\\n",
       "\t 0 & 14137 & 2013-02-11 & 1 &  190 & 1 & 02 & 2013 & ЛЮДИ Х: НАЧАЛО. РОСОМАХА (BD)                                                                        & 37 & !Якутск Орджоникидзе, 56 фран\\\\\n",
       "\t 0 & 17317 & 2013-01-05 & 0 &  266 & 1 & 01 & 2013 & ПРЕЗИДЕНТ ЛИНКОЛЬН: ОХОТНИК НА ВАМПИРОВ                                                              & 40 & !Якутск Орджоникидзе, 56 фран\\\\\n",
       "\t 0 & 14810 & 2013-02-24 & 1 &   70 & 1 & 02 & 2013 & МСТИТЕЛИ WD (регион)                                                                                 & 40 & !Якутск Орджоникидзе, 56 фран\\\\\n",
       "\t 0 & 21789 & 2013-02-08 & 1 &   27 & 1 & 02 & 2013 & Чехол URBAN TOOL slyDog national TR                                                                  & 71 & !Якутск Орджоникидзе, 56 фран\\\\\n",
       "\t 0 & 14782 & 2013-02-14 & 1 &   75 & 1 & 02 & 2013 & МОСКВА 2017 (регион)                                                                                 & 40 & !Якутск Орджоникидзе, 56 фран\\\\\n",
       "\t 0 &  7893 & 2013-02-23 & 1 & 1473 & 6 & 02 & 2013 & X360: Геймпад беспроводной черный - Wireless Controller BLACK (NSF-00002: Microsoft)                 &  6 & !Якутск Орджоникидзе, 56 фран\\\\\n",
       "\t 0 &  8621 & 2013-01-08 & 0 &   77 & 1 & 01 & 2013 & БАРБИ И ВОЛШЕБСТВО ПЕГАСA (регион)                                                                   & 40 & !Якутск Орджоникидзе, 56 фран\\\\\n",
       "\t 0 &   700 & 2013-02-13 & 1 &  143 & 1 & 02 & 2013 & 1С:Познавательная коллекция. Интерактивный тренажер вождения по городу.С правилами ПДД 2013(DVD-box) & 77 & !Якутск Орджоникидзе, 56 фран\\\\\n",
       "\t 0 &  2321 & 2013-01-05 & 0 &  735 & 1 & 01 & 2013 & Call of Duty: Black Ops II. Расширенное издание {[}PС, русская версия{]}                                 & 28 & !Якутск Орджоникидзе, 56 фран\\\\\n",
       "\t 0 &  7893 & 2013-02-07 & 1 & 1473 & 1 & 02 & 2013 & X360: Геймпад беспроводной черный - Wireless Controller BLACK (NSF-00002: Microsoft)                 &  6 & !Якутск Орджоникидзе, 56 фран\\\\\n",
       "\t 0 & 13851 & 2013-01-20 & 0 &  265 & 1 & 01 & 2013 & ЛЕДНИКОВЫЙ ПЕРИОД 4:КОНТИНЕНТАЛЬНЫЙ ДРЕЙФ                                                            & 40 & !Якутск Орджоникидзе, 56 фран\\\\\n",
       "\t 0 & 17007 & 2013-01-28 & 0 &  437 & 1 & 01 & 2013 & ПИКНИК  30 световых лет  3CD (фирм)                                                                  & 55 & !Якутск Орджоникидзе, 56 фран\\\\\n",
       "\t 0 & 13350 & 2013-02-14 & 1 &   15 & 1 & 02 & 2013 & Компактдиск Mirex CD-RW 700 Мб 4-12x Slim case                                                       & 82 & !Якутск Орджоникидзе, 56 фран\\\\\n",
       "\t 0 &  4265 & 2013-02-08 & 1 &  177 & 1 & 02 & 2013 & Kingdoms of Amalur: Reckoning {[}PC, английская версия{]}                                                & 30 & !Якутск Орджоникидзе, 56 фран\\\\\n",
       "\t ⋮ & ⋮ & ⋮ & ⋮ & ⋮ & ⋮ & ⋮ & ⋮ & ⋮ & ⋮ & ⋮\\\\\n",
       "\t 59 & 20124 & 2014-04-07 & 15 &  349.0 & 1 & 04 & 2014 & УЦЕЛЕВШИЙ                                                                           & 40 & Ярославль ТЦ \"Альтаир\"\\\\\n",
       "\t 59 & 15496 & 2015-07-24 & 30 &  499.0 & 1 & 07 & 2015 & Мягкая игрушка-антистресс Миньон Стюарт 15см                                        & 63 & Ярославль ТЦ \"Альтаир\"\\\\\n",
       "\t 59 & 21613 & 2013-06-11 &  5 &  149.0 & 1 & 06 & 2013 & ЧЕБУРАШКА И КРОКОДИЛ ГЕНА (Регион)                                                  & 40 & Ярославль ТЦ \"Альтаир\"\\\\\n",
       "\t 59 & 13901 & 2013-11-02 & 10 &  349.0 & 1 & 11 & 2013 & ЛЕПС ГРИГОРИЙ  Полный вперед (фирм.)                                                & 55 & Ярославль ТЦ \"Альтаир\"\\\\\n",
       "\t 59 & 14261 & 2013-03-24 &  2 &  249.0 & 1 & 03 & 2013 & МАДАГАСКАР 3                                                                        & 40 & Ярославль ТЦ \"Альтаир\"\\\\\n",
       "\t 59 &  2730 & 2013-05-17 &  4 &  599.0 & 1 & 05 & 2013 & Dead Island Riptide {[}PС, Jewel, русская версия{]}                                     & 30 & Ярославль ТЦ \"Альтаир\"\\\\\n",
       "\t 59 &  2536 & 2014-10-06 & 21 &  399.0 & 1 & 10 & 2014 & DEEP PURPLE  Now What?!  Gold Edition  2CD                                          & 55 & Ярославль ТЦ \"Альтаир\"\\\\\n",
       "\t 59 & 14109 & 2014-03-30 & 14 &  249.0 & 1 & 03 & 2014 & ЛЮДИ В ЧЕРНОМ (1,2,3)                                                               & 40 & Ярославль ТЦ \"Альтаир\"\\\\\n",
       "\t 59 &   839 & 2014-06-20 & 17 & 3300.0 & 1 & 06 & 2014 & 1С:Упрощенка 8                                                                      & 73 & Ярославль ТЦ \"Альтаир\"\\\\\n",
       "\t 59 &  2416 & 2013-10-02 &  9 &  449.0 & 1 & 10 & 2013 & Counter Strike. Global Offensive {[}PC, Jewel, русская версия{]}                        & 30 & Ярославль ТЦ \"Альтаир\"\\\\\n",
       "\t 59 &  2269 & 2013-11-10 & 10 &  799.0 & 2 & 11 & 2013 & Call of Duty. Ghosts {[}PС, Digipack, русская версия{]}                                 & 30 & Ярославль ТЦ \"Альтаир\"\\\\\n",
       "\t 59 & 10429 & 2015-07-05 & 30 &  449.0 & 1 & 07 & 2015 & ГНЕЗДО ДРАКОНА                                                                      & 40 & Ярославль ТЦ \"Альтаир\"\\\\\n",
       "\t 59 &  1916 & 2013-11-27 & 10 &  249.0 & 1 & 11 & 2013 & Bestseller. Sid Meier's Civilization V. Золотое издание {[}PC, Jewel, русская версия{]} & 30 & Ярославль ТЦ \"Альтаир\"\\\\\n",
       "\t 59 &  4245 & 2013-08-18 &  7 &  999.0 & 1 & 08 & 2013 & Kinect Sports (только для MS Kinect) {[}Xbox 360{]} (YQC-00018)                         & 23 & Ярославль ТЦ \"Альтаир\"\\\\\n",
       "\t 59 & 11788 & 2014-04-02 & 15 &  169.0 & 1 & 04 & 2014 & ЗОЛУШКА х/ф цветной (BD)                                                            & 37 & Ярославль ТЦ \"Альтаир\"\\\\\n",
       "\t 59 & 10016 & 2013-08-20 &  7 &  349.0 & 1 & 08 & 2013 & ВООБРАЖАРИУМ                                                                        & 40 & Ярославль ТЦ \"Альтаир\"\\\\\n",
       "\t 59 & 19118 & 2014-12-06 & 23 &  699.0 & 1 & 12 & 2014 & СТРАЖИ ГАЛАКТИКИ (BD)                                                               & 37 & Ярославль ТЦ \"Альтаир\"\\\\\n",
       "\t 59 &  6229 & 2014-09-28 & 20 &  299.0 & 1 & 09 & 2014 & SCHULZ MARKUS  Buenos Aires ‘13  2CD (digipack)                                     & 55 & Ярославль ТЦ \"Альтаир\"\\\\\n",
       "\t 59 &  1513 & 2014-03-16 & 14 & 2599.0 & 1 & 03 & 2014 & Assassin's Creed IV. Черный флаг. Special Edition {[}Xbox 360, русская версия{]}        & 23 & Ярославль ТЦ \"Альтаир\"\\\\\n",
       "\t 59 & 11448 & 2013-12-25 & 11 &  149.0 & 1 & 12 & 2013 & ЖЕЛЕЗНЫЙ КУЛАК                                                                      & 40 & Ярославль ТЦ \"Альтаир\"\\\\\n",
       "\t 59 & 12465 & 2014-07-11 & 18 &  199.0 & 1 & 07 & 2014 & КИНО  Звезда по имени Солнце                                                        & 55 & Ярославль ТЦ \"Альтаир\"\\\\\n",
       "\t 59 & 19993 & 2013-12-25 & 11 &  174.5 & 1 & 12 & 2013 & Трансформеры: Битва за Кибертрон                                                    & 30 & Ярославль ТЦ \"Альтаир\"\\\\\n",
       "\t 59 &  3971 & 2014-07-15 & 18 &  299.0 & 1 & 07 & 2014 & JACKSON MICHAEL  Xscape                                                             & 55 & Ярославль ТЦ \"Альтаир\"\\\\\n",
       "\t 59 &  6112 & 2015-02-07 & 25 &  998.0 & 1 & 02 & 2015 & Remember me {[}PS3, русские субтитры{]}                                                 & 19 & Ярославль ТЦ \"Альтаир\"\\\\\n",
       "\t 59 & 19820 & 2013-02-06 &  1 &  149.0 & 1 & 02 & 2013 & ТРИ ДНЯ ЛЕТЕНАНТА КРАВЦОВА (регион)                                                 & 40 & Ярославль ТЦ \"Альтаир\"\\\\\n",
       "\t 59 &  3186 & 2013-05-30 &  4 &  599.0 & 1 & 05 & 2013 & Elder Scrolls V: Skyrim {[}PC, Jewel, русская версия{]}                                 & 30 & Ярославль ТЦ \"Альтаир\"\\\\\n",
       "\t 59 &  1486 & 2015-07-02 & 30 & 1199.0 & 1 & 07 & 2015 & Assassin's Creed IV. Черный флаг (Classics) {[}Xbox 360, русская версия{]}              & 23 & Ярославль ТЦ \"Альтаир\"\\\\\n",
       "\t 59 &    32 & 2013-07-31 &  6 &  349.0 & 1 & 07 & 2013 & 1+1                                                                                 & 40 & Ярославль ТЦ \"Альтаир\"\\\\\n",
       "\t 59 &  3734 & 2013-10-06 &  9 & 2599.0 & 1 & 10 & 2013 & Grand Theft Auto V {[}Xbox 360, русские субтитры{]}                                     & 23 & Ярославль ТЦ \"Альтаир\"\\\\\n",
       "\t 59 & 18544 & 2013-08-10 &  7 &  149.0 & 1 & 08 & 2013 & СВАТЫ 4 (1-4 серии) (регион)                                                        & 40 & Ярославль ТЦ \"Альтаир\"\\\\\n",
       "\\end{tabular}\n"
      ],
      "text/markdown": [
       "\n",
       "A data.frame: 2935849 × 11\n",
       "\n",
       "| shop_id &lt;int&gt; | item_id &lt;int&gt; | date &lt;date&gt; | date_block_num &lt;int&gt; | item_price &lt;dbl&gt; | item_cnt_day &lt;dbl&gt; | month &lt;chr&gt; | year &lt;chr&gt; | item_name &lt;chr&gt; | item_category_id &lt;int&gt; | shop_name &lt;chr&gt; |\n",
       "|---|---|---|---|---|---|---|---|---|---|---|\n",
       "| 0 | 10851 | 2013-01-20 | 0 |   66 | 1 | 01 | 2013 | ДЕНЬ ВЫБОРОВ (Регион)                                                                                | 40 | !Якутск Орджоникидзе, 56 фран |\n",
       "| 0 |  3394 | 2013-02-14 | 1 | 1249 | 1 | 02 | 2013 | Fable: Journey [только для Kinect] [Xbox 360, русская версия]                                        | 23 | !Якутск Орджоникидзе, 56 фран |\n",
       "| 0 |  4475 | 2013-02-11 | 1 |  483 | 1 | 02 | 2013 | LittleBigPlanet (Essentials) [PSP, русская документация]                                             | 21 | !Якутск Орджоникидзе, 56 фран |\n",
       "| 0 | 22014 | 2013-01-10 | 0 |  265 | 2 | 01 | 2013 | ЭВОЛЮЦИЯ БОРНА                                                                                       | 40 | !Якутск Орджоникидзе, 56 фран |\n",
       "| 0 |  1830 | 2013-01-11 | 0 |  353 | 1 | 01 | 2013 | Battlefield 3 [PC, Jewel, русская версия]                                                            | 30 | !Якутск Орджоникидзе, 56 фран |\n",
       "| 0 |  3528 | 2013-02-12 | 1 |  964 | 1 | 02 | 2013 | FloorPlan 3D. Версия 12.0 DeLuxe (Box)                                                               | 75 | !Якутск Орджоникидзе, 56 фран |\n",
       "| 0 | 13101 | 2013-02-28 | 1 | 1806 | 1 | 02 | 2013 | Карта памяти Memory Stick Pro Duo HX 16GB (50МБ/с - чтение, 15МБ/с - запись)                         |  4 | !Якутск Орджоникидзе, 56 фран |\n",
       "| 0 | 18281 | 2013-01-03 | 0 |  110 | 1 | 01 | 2013 | СБ. ВИА  Золотые хиты  Мой Адрес - Советский Союз                                                    | 55 | !Якутск Орджоникидзе, 56 фран |\n",
       "| 0 | 18424 | 2013-02-17 | 1 |  110 | 1 | 02 | 2013 | СБ. Посвящение Михею                                                                                 | 55 | !Якутск Орджоникидзе, 56 фран |\n",
       "| 0 |  5623 | 2013-02-10 | 1 |  294 | 1 | 02 | 2013 | PS3: Кабель HDMI IT 3м Defender PRO (ver. 1.4)                                                       |  2 | !Якутск Орджоникидзе, 56 фран |\n",
       "| 0 | 14158 | 2013-01-26 | 0 |  263 | 1 | 01 | 2013 | Ледниковый период 4. Континентальный дрейф. Арктические игры [PC, Jewel русская версия]              | 30 | !Якутск Орджоникидзе, 56 фран |\n",
       "| 0 | 12874 | 2013-01-08 | 0 |  247 | 1 | 01 | 2013 | КРАСНЫЕ ОГНИ (DVD+BD)                                                                                | 40 | !Якутск Орджоникидзе, 56 фран |\n",
       "| 0 | 10331 | 2013-01-17 | 0 |   76 | 1 | 01 | 2013 | ГАРРИ ПОТТЕР И ДАРЫ СМЕРТИ. ЧАСТЬ 2 (регион)                                                         | 40 | !Якутск Орджоникидзе, 56 фран |\n",
       "| 0 | 10949 | 2013-02-09 | 1 |  167 | 1 | 02 | 2013 | ДЕТЯМ Лучшие Песни Из Мультфильмов МР3                                                               | 57 | !Якутск Орджоникидзе, 56 фран |\n",
       "| 0 | 13355 | 2013-01-06 | 0 |   97 | 1 | 01 | 2013 | Компактдиск Mirex DVD-R 4.7 Гб 16х Cake box 10                                                       | 81 | !Якутск Орджоникидзе, 56 фран |\n",
       "| 0 | 16326 | 2013-02-26 | 1 |  161 | 1 | 02 | 2013 | Никольский Константин. Антология (mp3-CD) (Jewel)                                                    | 57 | !Якутск Орджоникидзе, 56 фран |\n",
       "| 0 | 14137 | 2013-02-11 | 1 |  190 | 1 | 02 | 2013 | ЛЮДИ Х: НАЧАЛО. РОСОМАХА (BD)                                                                        | 37 | !Якутск Орджоникидзе, 56 фран |\n",
       "| 0 | 17317 | 2013-01-05 | 0 |  266 | 1 | 01 | 2013 | ПРЕЗИДЕНТ ЛИНКОЛЬН: ОХОТНИК НА ВАМПИРОВ                                                              | 40 | !Якутск Орджоникидзе, 56 фран |\n",
       "| 0 | 14810 | 2013-02-24 | 1 |   70 | 1 | 02 | 2013 | МСТИТЕЛИ WD (регион)                                                                                 | 40 | !Якутск Орджоникидзе, 56 фран |\n",
       "| 0 | 21789 | 2013-02-08 | 1 |   27 | 1 | 02 | 2013 | Чехол URBAN TOOL slyDog national TR                                                                  | 71 | !Якутск Орджоникидзе, 56 фран |\n",
       "| 0 | 14782 | 2013-02-14 | 1 |   75 | 1 | 02 | 2013 | МОСКВА 2017 (регион)                                                                                 | 40 | !Якутск Орджоникидзе, 56 фран |\n",
       "| 0 |  7893 | 2013-02-23 | 1 | 1473 | 6 | 02 | 2013 | X360: Геймпад беспроводной черный - Wireless Controller BLACK (NSF-00002: Microsoft)                 |  6 | !Якутск Орджоникидзе, 56 фран |\n",
       "| 0 |  8621 | 2013-01-08 | 0 |   77 | 1 | 01 | 2013 | БАРБИ И ВОЛШЕБСТВО ПЕГАСA (регион)                                                                   | 40 | !Якутск Орджоникидзе, 56 фран |\n",
       "| 0 |   700 | 2013-02-13 | 1 |  143 | 1 | 02 | 2013 | 1С:Познавательная коллекция. Интерактивный тренажер вождения по городу.С правилами ПДД 2013(DVD-box) | 77 | !Якутск Орджоникидзе, 56 фран |\n",
       "| 0 |  2321 | 2013-01-05 | 0 |  735 | 1 | 01 | 2013 | Call of Duty: Black Ops II. Расширенное издание [PС, русская версия]                                 | 28 | !Якутск Орджоникидзе, 56 фран |\n",
       "| 0 |  7893 | 2013-02-07 | 1 | 1473 | 1 | 02 | 2013 | X360: Геймпад беспроводной черный - Wireless Controller BLACK (NSF-00002: Microsoft)                 |  6 | !Якутск Орджоникидзе, 56 фран |\n",
       "| 0 | 13851 | 2013-01-20 | 0 |  265 | 1 | 01 | 2013 | ЛЕДНИКОВЫЙ ПЕРИОД 4:КОНТИНЕНТАЛЬНЫЙ ДРЕЙФ                                                            | 40 | !Якутск Орджоникидзе, 56 фран |\n",
       "| 0 | 17007 | 2013-01-28 | 0 |  437 | 1 | 01 | 2013 | ПИКНИК  30 световых лет  3CD (фирм)                                                                  | 55 | !Якутск Орджоникидзе, 56 фран |\n",
       "| 0 | 13350 | 2013-02-14 | 1 |   15 | 1 | 02 | 2013 | Компактдиск Mirex CD-RW 700 Мб 4-12x Slim case                                                       | 82 | !Якутск Орджоникидзе, 56 фран |\n",
       "| 0 |  4265 | 2013-02-08 | 1 |  177 | 1 | 02 | 2013 | Kingdoms of Amalur: Reckoning [PC, английская версия]                                                | 30 | !Якутск Орджоникидзе, 56 фран |\n",
       "| ⋮ | ⋮ | ⋮ | ⋮ | ⋮ | ⋮ | ⋮ | ⋮ | ⋮ | ⋮ | ⋮ |\n",
       "| 59 | 20124 | 2014-04-07 | 15 |  349.0 | 1 | 04 | 2014 | УЦЕЛЕВШИЙ                                                                           | 40 | Ярославль ТЦ \"Альтаир\" |\n",
       "| 59 | 15496 | 2015-07-24 | 30 |  499.0 | 1 | 07 | 2015 | Мягкая игрушка-антистресс Миньон Стюарт 15см                                        | 63 | Ярославль ТЦ \"Альтаир\" |\n",
       "| 59 | 21613 | 2013-06-11 |  5 |  149.0 | 1 | 06 | 2013 | ЧЕБУРАШКА И КРОКОДИЛ ГЕНА (Регион)                                                  | 40 | Ярославль ТЦ \"Альтаир\" |\n",
       "| 59 | 13901 | 2013-11-02 | 10 |  349.0 | 1 | 11 | 2013 | ЛЕПС ГРИГОРИЙ  Полный вперед (фирм.)                                                | 55 | Ярославль ТЦ \"Альтаир\" |\n",
       "| 59 | 14261 | 2013-03-24 |  2 |  249.0 | 1 | 03 | 2013 | МАДАГАСКАР 3                                                                        | 40 | Ярославль ТЦ \"Альтаир\" |\n",
       "| 59 |  2730 | 2013-05-17 |  4 |  599.0 | 1 | 05 | 2013 | Dead Island Riptide [PС, Jewel, русская версия]                                     | 30 | Ярославль ТЦ \"Альтаир\" |\n",
       "| 59 |  2536 | 2014-10-06 | 21 |  399.0 | 1 | 10 | 2014 | DEEP PURPLE  Now What?!  Gold Edition  2CD                                          | 55 | Ярославль ТЦ \"Альтаир\" |\n",
       "| 59 | 14109 | 2014-03-30 | 14 |  249.0 | 1 | 03 | 2014 | ЛЮДИ В ЧЕРНОМ (1,2,3)                                                               | 40 | Ярославль ТЦ \"Альтаир\" |\n",
       "| 59 |   839 | 2014-06-20 | 17 | 3300.0 | 1 | 06 | 2014 | 1С:Упрощенка 8                                                                      | 73 | Ярославль ТЦ \"Альтаир\" |\n",
       "| 59 |  2416 | 2013-10-02 |  9 |  449.0 | 1 | 10 | 2013 | Counter Strike. Global Offensive [PC, Jewel, русская версия]                        | 30 | Ярославль ТЦ \"Альтаир\" |\n",
       "| 59 |  2269 | 2013-11-10 | 10 |  799.0 | 2 | 11 | 2013 | Call of Duty. Ghosts [PС, Digipack, русская версия]                                 | 30 | Ярославль ТЦ \"Альтаир\" |\n",
       "| 59 | 10429 | 2015-07-05 | 30 |  449.0 | 1 | 07 | 2015 | ГНЕЗДО ДРАКОНА                                                                      | 40 | Ярославль ТЦ \"Альтаир\" |\n",
       "| 59 |  1916 | 2013-11-27 | 10 |  249.0 | 1 | 11 | 2013 | Bestseller. Sid Meier's Civilization V. Золотое издание [PC, Jewel, русская версия] | 30 | Ярославль ТЦ \"Альтаир\" |\n",
       "| 59 |  4245 | 2013-08-18 |  7 |  999.0 | 1 | 08 | 2013 | Kinect Sports (только для MS Kinect) [Xbox 360] (YQC-00018)                         | 23 | Ярославль ТЦ \"Альтаир\" |\n",
       "| 59 | 11788 | 2014-04-02 | 15 |  169.0 | 1 | 04 | 2014 | ЗОЛУШКА х/ф цветной (BD)                                                            | 37 | Ярославль ТЦ \"Альтаир\" |\n",
       "| 59 | 10016 | 2013-08-20 |  7 |  349.0 | 1 | 08 | 2013 | ВООБРАЖАРИУМ                                                                        | 40 | Ярославль ТЦ \"Альтаир\" |\n",
       "| 59 | 19118 | 2014-12-06 | 23 |  699.0 | 1 | 12 | 2014 | СТРАЖИ ГАЛАКТИКИ (BD)                                                               | 37 | Ярославль ТЦ \"Альтаир\" |\n",
       "| 59 |  6229 | 2014-09-28 | 20 |  299.0 | 1 | 09 | 2014 | SCHULZ MARKUS  Buenos Aires ‘13  2CD (digipack)                                     | 55 | Ярославль ТЦ \"Альтаир\" |\n",
       "| 59 |  1513 | 2014-03-16 | 14 | 2599.0 | 1 | 03 | 2014 | Assassin's Creed IV. Черный флаг. Special Edition [Xbox 360, русская версия]        | 23 | Ярославль ТЦ \"Альтаир\" |\n",
       "| 59 | 11448 | 2013-12-25 | 11 |  149.0 | 1 | 12 | 2013 | ЖЕЛЕЗНЫЙ КУЛАК                                                                      | 40 | Ярославль ТЦ \"Альтаир\" |\n",
       "| 59 | 12465 | 2014-07-11 | 18 |  199.0 | 1 | 07 | 2014 | КИНО  Звезда по имени Солнце                                                        | 55 | Ярославль ТЦ \"Альтаир\" |\n",
       "| 59 | 19993 | 2013-12-25 | 11 |  174.5 | 1 | 12 | 2013 | Трансформеры: Битва за Кибертрон                                                    | 30 | Ярославль ТЦ \"Альтаир\" |\n",
       "| 59 |  3971 | 2014-07-15 | 18 |  299.0 | 1 | 07 | 2014 | JACKSON MICHAEL  Xscape                                                             | 55 | Ярославль ТЦ \"Альтаир\" |\n",
       "| 59 |  6112 | 2015-02-07 | 25 |  998.0 | 1 | 02 | 2015 | Remember me [PS3, русские субтитры]                                                 | 19 | Ярославль ТЦ \"Альтаир\" |\n",
       "| 59 | 19820 | 2013-02-06 |  1 |  149.0 | 1 | 02 | 2013 | ТРИ ДНЯ ЛЕТЕНАНТА КРАВЦОВА (регион)                                                 | 40 | Ярославль ТЦ \"Альтаир\" |\n",
       "| 59 |  3186 | 2013-05-30 |  4 |  599.0 | 1 | 05 | 2013 | Elder Scrolls V: Skyrim [PC, Jewel, русская версия]                                 | 30 | Ярославль ТЦ \"Альтаир\" |\n",
       "| 59 |  1486 | 2015-07-02 | 30 | 1199.0 | 1 | 07 | 2015 | Assassin's Creed IV. Черный флаг (Classics) [Xbox 360, русская версия]              | 23 | Ярославль ТЦ \"Альтаир\" |\n",
       "| 59 |    32 | 2013-07-31 |  6 |  349.0 | 1 | 07 | 2013 | 1+1                                                                                 | 40 | Ярославль ТЦ \"Альтаир\" |\n",
       "| 59 |  3734 | 2013-10-06 |  9 | 2599.0 | 1 | 10 | 2013 | Grand Theft Auto V [Xbox 360, русские субтитры]                                     | 23 | Ярославль ТЦ \"Альтаир\" |\n",
       "| 59 | 18544 | 2013-08-10 |  7 |  149.0 | 1 | 08 | 2013 | СВАТЫ 4 (1-4 серии) (регион)                                                        | 40 | Ярославль ТЦ \"Альтаир\" |\n",
       "\n"
      ],
      "text/plain": [
       "        shop_id item_id date       date_block_num item_price item_cnt_day month\n",
       "1       0       10851   2013-01-20 0                66       1            01   \n",
       "2       0        3394   2013-02-14 1              1249       1            02   \n",
       "3       0        4475   2013-02-11 1               483       1            02   \n",
       "4       0       22014   2013-01-10 0               265       2            01   \n",
       "5       0        1830   2013-01-11 0               353       1            01   \n",
       "6       0        3528   2013-02-12 1               964       1            02   \n",
       "7       0       13101   2013-02-28 1              1806       1            02   \n",
       "8       0       18281   2013-01-03 0               110       1            01   \n",
       "9       0       18424   2013-02-17 1               110       1            02   \n",
       "10      0        5623   2013-02-10 1               294       1            02   \n",
       "11      0       14158   2013-01-26 0               263       1            01   \n",
       "12      0       12874   2013-01-08 0               247       1            01   \n",
       "13      0       10331   2013-01-17 0                76       1            01   \n",
       "14      0       10949   2013-02-09 1               167       1            02   \n",
       "15      0       13355   2013-01-06 0                97       1            01   \n",
       "16      0       16326   2013-02-26 1               161       1            02   \n",
       "17      0       14137   2013-02-11 1               190       1            02   \n",
       "18      0       17317   2013-01-05 0               266       1            01   \n",
       "19      0       14810   2013-02-24 1                70       1            02   \n",
       "20      0       21789   2013-02-08 1                27       1            02   \n",
       "21      0       14782   2013-02-14 1                75       1            02   \n",
       "22      0        7893   2013-02-23 1              1473       6            02   \n",
       "23      0        8621   2013-01-08 0                77       1            01   \n",
       "24      0         700   2013-02-13 1               143       1            02   \n",
       "25      0        2321   2013-01-05 0               735       1            01   \n",
       "26      0        7893   2013-02-07 1              1473       1            02   \n",
       "27      0       13851   2013-01-20 0               265       1            01   \n",
       "28      0       17007   2013-01-28 0               437       1            01   \n",
       "29      0       13350   2013-02-14 1                15       1            02   \n",
       "30      0        4265   2013-02-08 1               177       1            02   \n",
       "⋮       ⋮       ⋮       ⋮          ⋮              ⋮          ⋮            ⋮    \n",
       "2935820 59      20124   2014-04-07 15              349.0     1            04   \n",
       "2935821 59      15496   2015-07-24 30              499.0     1            07   \n",
       "2935822 59      21613   2013-06-11  5              149.0     1            06   \n",
       "2935823 59      13901   2013-11-02 10              349.0     1            11   \n",
       "2935824 59      14261   2013-03-24  2              249.0     1            03   \n",
       "2935825 59       2730   2013-05-17  4              599.0     1            05   \n",
       "2935826 59       2536   2014-10-06 21              399.0     1            10   \n",
       "2935827 59      14109   2014-03-30 14              249.0     1            03   \n",
       "2935828 59        839   2014-06-20 17             3300.0     1            06   \n",
       "2935829 59       2416   2013-10-02  9              449.0     1            10   \n",
       "2935830 59       2269   2013-11-10 10              799.0     2            11   \n",
       "2935831 59      10429   2015-07-05 30              449.0     1            07   \n",
       "2935832 59       1916   2013-11-27 10              249.0     1            11   \n",
       "2935833 59       4245   2013-08-18  7              999.0     1            08   \n",
       "2935834 59      11788   2014-04-02 15              169.0     1            04   \n",
       "2935835 59      10016   2013-08-20  7              349.0     1            08   \n",
       "2935836 59      19118   2014-12-06 23              699.0     1            12   \n",
       "2935837 59       6229   2014-09-28 20              299.0     1            09   \n",
       "2935838 59       1513   2014-03-16 14             2599.0     1            03   \n",
       "2935839 59      11448   2013-12-25 11              149.0     1            12   \n",
       "2935840 59      12465   2014-07-11 18              199.0     1            07   \n",
       "2935841 59      19993   2013-12-25 11              174.5     1            12   \n",
       "2935842 59       3971   2014-07-15 18              299.0     1            07   \n",
       "2935843 59       6112   2015-02-07 25              998.0     1            02   \n",
       "2935844 59      19820   2013-02-06  1              149.0     1            02   \n",
       "2935845 59       3186   2013-05-30  4              599.0     1            05   \n",
       "2935846 59       1486   2015-07-02 30             1199.0     1            07   \n",
       "2935847 59         32   2013-07-31  6              349.0     1            07   \n",
       "2935848 59       3734   2013-10-06  9             2599.0     1            10   \n",
       "2935849 59      18544   2013-08-10  7              149.0     1            08   \n",
       "        year\n",
       "1       2013\n",
       "2       2013\n",
       "3       2013\n",
       "4       2013\n",
       "5       2013\n",
       "6       2013\n",
       "7       2013\n",
       "8       2013\n",
       "9       2013\n",
       "10      2013\n",
       "11      2013\n",
       "12      2013\n",
       "13      2013\n",
       "14      2013\n",
       "15      2013\n",
       "16      2013\n",
       "17      2013\n",
       "18      2013\n",
       "19      2013\n",
       "20      2013\n",
       "21      2013\n",
       "22      2013\n",
       "23      2013\n",
       "24      2013\n",
       "25      2013\n",
       "26      2013\n",
       "27      2013\n",
       "28      2013\n",
       "29      2013\n",
       "30      2013\n",
       "⋮       ⋮   \n",
       "2935820 2014\n",
       "2935821 2015\n",
       "2935822 2013\n",
       "2935823 2013\n",
       "2935824 2013\n",
       "2935825 2013\n",
       "2935826 2014\n",
       "2935827 2014\n",
       "2935828 2014\n",
       "2935829 2013\n",
       "2935830 2013\n",
       "2935831 2015\n",
       "2935832 2013\n",
       "2935833 2013\n",
       "2935834 2014\n",
       "2935835 2013\n",
       "2935836 2014\n",
       "2935837 2014\n",
       "2935838 2014\n",
       "2935839 2013\n",
       "2935840 2014\n",
       "2935841 2013\n",
       "2935842 2014\n",
       "2935843 2015\n",
       "2935844 2013\n",
       "2935845 2013\n",
       "2935846 2015\n",
       "2935847 2013\n",
       "2935848 2013\n",
       "2935849 2013\n",
       "        item_name                                                                                           \n",
       "1       ДЕНЬ ВЫБОРОВ (Регион)                                                                               \n",
       "2       Fable: Journey [только для Kinect] [Xbox 360, русская версия]                                       \n",
       "3       LittleBigPlanet (Essentials) [PSP, русская документация]                                            \n",
       "4       ЭВОЛЮЦИЯ БОРНА                                                                                      \n",
       "5       Battlefield 3 [PC, Jewel, русская версия]                                                           \n",
       "6       FloorPlan 3D. Версия 12.0 DeLuxe (Box)                                                              \n",
       "7       Карта памяти Memory Stick Pro Duo HX 16GB (50МБ/с - чтение, 15МБ/с - запись)                        \n",
       "8       СБ. ВИА  Золотые хиты  Мой Адрес - Советский Союз                                                   \n",
       "9       СБ. Посвящение Михею                                                                                \n",
       "10      PS3: Кабель HDMI IT 3м Defender PRO (ver. 1.4)                                                      \n",
       "11      Ледниковый период 4. Континентальный дрейф. Арктические игры [PC, Jewel русская версия]             \n",
       "12      КРАСНЫЕ ОГНИ (DVD+BD)                                                                               \n",
       "13      ГАРРИ ПОТТЕР И ДАРЫ СМЕРТИ. ЧАСТЬ 2 (регион)                                                        \n",
       "14      ДЕТЯМ Лучшие Песни Из Мультфильмов МР3                                                              \n",
       "15      Компактдиск Mirex DVD-R 4.7 Гб 16х Cake box 10                                                      \n",
       "16      Никольский Константин. Антология (mp3-CD) (Jewel)                                                   \n",
       "17      ЛЮДИ Х: НАЧАЛО. РОСОМАХА (BD)                                                                       \n",
       "18      ПРЕЗИДЕНТ ЛИНКОЛЬН: ОХОТНИК НА ВАМПИРОВ                                                             \n",
       "19      МСТИТЕЛИ WD (регион)                                                                                \n",
       "20      Чехол URBAN TOOL slyDog national TR                                                                 \n",
       "21      МОСКВА 2017 (регион)                                                                                \n",
       "22      X360: Геймпад беспроводной черный - Wireless Controller BLACK (NSF-00002: Microsoft)                \n",
       "23      БАРБИ И ВОЛШЕБСТВО ПЕГАСA (регион)                                                                  \n",
       "24      1С:Познавательная коллекция. Интерактивный тренажер вождения по городу.С правилами ПДД 2013(DVD-box)\n",
       "25      Call of Duty: Black Ops II. Расширенное издание [PС, русская версия]                                \n",
       "26      X360: Геймпад беспроводной черный - Wireless Controller BLACK (NSF-00002: Microsoft)                \n",
       "27      ЛЕДНИКОВЫЙ ПЕРИОД 4:КОНТИНЕНТАЛЬНЫЙ ДРЕЙФ                                                           \n",
       "28      ПИКНИК  30 световых лет  3CD (фирм)                                                                 \n",
       "29      Компактдиск Mirex CD-RW 700 Мб 4-12x Slim case                                                      \n",
       "30      Kingdoms of Amalur: Reckoning [PC, английская версия]                                               \n",
       "⋮       ⋮                                                                                                   \n",
       "2935820 УЦЕЛЕВШИЙ                                                                                           \n",
       "2935821 Мягкая игрушка-антистресс Миньон Стюарт 15см                                                        \n",
       "2935822 ЧЕБУРАШКА И КРОКОДИЛ ГЕНА (Регион)                                                                  \n",
       "2935823 ЛЕПС ГРИГОРИЙ  Полный вперед (фирм.)                                                                \n",
       "2935824 МАДАГАСКАР 3                                                                                        \n",
       "2935825 Dead Island Riptide [PС, Jewel, русская версия]                                                     \n",
       "2935826 DEEP PURPLE  Now What?!  Gold Edition  2CD                                                          \n",
       "2935827 ЛЮДИ В ЧЕРНОМ (1,2,3)                                                                               \n",
       "2935828 1С:Упрощенка 8                                                                                      \n",
       "2935829 Counter Strike. Global Offensive [PC, Jewel, русская версия]                                        \n",
       "2935830 Call of Duty. Ghosts [PС, Digipack, русская версия]                                                 \n",
       "2935831 ГНЕЗДО ДРАКОНА                                                                                      \n",
       "2935832 Bestseller. Sid Meier's Civilization V. Золотое издание [PC, Jewel, русская версия]                 \n",
       "2935833 Kinect Sports (только для MS Kinect) [Xbox 360] (YQC-00018)                                         \n",
       "2935834 ЗОЛУШКА х/ф цветной (BD)                                                                            \n",
       "2935835 ВООБРАЖАРИУМ                                                                                        \n",
       "2935836 СТРАЖИ ГАЛАКТИКИ (BD)                                                                               \n",
       "2935837 SCHULZ MARKUS  Buenos Aires ‘13  2CD (digipack)                                                     \n",
       "2935838 Assassin's Creed IV. Черный флаг. Special Edition [Xbox 360, русская версия]                        \n",
       "2935839 ЖЕЛЕЗНЫЙ КУЛАК                                                                                      \n",
       "2935840 КИНО  Звезда по имени Солнце                                                                        \n",
       "2935841 Трансформеры: Битва за Кибертрон                                                                    \n",
       "2935842 JACKSON MICHAEL  Xscape                                                                             \n",
       "2935843 Remember me [PS3, русские субтитры]                                                                 \n",
       "2935844 ТРИ ДНЯ ЛЕТЕНАНТА КРАВЦОВА (регион)                                                                 \n",
       "2935845 Elder Scrolls V: Skyrim [PC, Jewel, русская версия]                                                 \n",
       "2935846 Assassin's Creed IV. Черный флаг (Classics) [Xbox 360, русская версия]                              \n",
       "2935847 1+1                                                                                                 \n",
       "2935848 Grand Theft Auto V [Xbox 360, русские субтитры]                                                     \n",
       "2935849 СВАТЫ 4 (1-4 серии) (регион)                                                                        \n",
       "        item_category_id shop_name                    \n",
       "1       40               !Якутск Орджоникидзе, 56 фран\n",
       "2       23               !Якутск Орджоникидзе, 56 фран\n",
       "3       21               !Якутск Орджоникидзе, 56 фран\n",
       "4       40               !Якутск Орджоникидзе, 56 фран\n",
       "5       30               !Якутск Орджоникидзе, 56 фран\n",
       "6       75               !Якутск Орджоникидзе, 56 фран\n",
       "7        4               !Якутск Орджоникидзе, 56 фран\n",
       "8       55               !Якутск Орджоникидзе, 56 фран\n",
       "9       55               !Якутск Орджоникидзе, 56 фран\n",
       "10       2               !Якутск Орджоникидзе, 56 фран\n",
       "11      30               !Якутск Орджоникидзе, 56 фран\n",
       "12      40               !Якутск Орджоникидзе, 56 фран\n",
       "13      40               !Якутск Орджоникидзе, 56 фран\n",
       "14      57               !Якутск Орджоникидзе, 56 фран\n",
       "15      81               !Якутск Орджоникидзе, 56 фран\n",
       "16      57               !Якутск Орджоникидзе, 56 фран\n",
       "17      37               !Якутск Орджоникидзе, 56 фран\n",
       "18      40               !Якутск Орджоникидзе, 56 фран\n",
       "19      40               !Якутск Орджоникидзе, 56 фран\n",
       "20      71               !Якутск Орджоникидзе, 56 фран\n",
       "21      40               !Якутск Орджоникидзе, 56 фран\n",
       "22       6               !Якутск Орджоникидзе, 56 фран\n",
       "23      40               !Якутск Орджоникидзе, 56 фран\n",
       "24      77               !Якутск Орджоникидзе, 56 фран\n",
       "25      28               !Якутск Орджоникидзе, 56 фран\n",
       "26       6               !Якутск Орджоникидзе, 56 фран\n",
       "27      40               !Якутск Орджоникидзе, 56 фран\n",
       "28      55               !Якутск Орджоникидзе, 56 фран\n",
       "29      82               !Якутск Орджоникидзе, 56 фран\n",
       "30      30               !Якутск Орджоникидзе, 56 фран\n",
       "⋮       ⋮                ⋮                            \n",
       "2935820 40               Ярославль ТЦ \"Альтаир\"       \n",
       "2935821 63               Ярославль ТЦ \"Альтаир\"       \n",
       "2935822 40               Ярославль ТЦ \"Альтаир\"       \n",
       "2935823 55               Ярославль ТЦ \"Альтаир\"       \n",
       "2935824 40               Ярославль ТЦ \"Альтаир\"       \n",
       "2935825 30               Ярославль ТЦ \"Альтаир\"       \n",
       "2935826 55               Ярославль ТЦ \"Альтаир\"       \n",
       "2935827 40               Ярославль ТЦ \"Альтаир\"       \n",
       "2935828 73               Ярославль ТЦ \"Альтаир\"       \n",
       "2935829 30               Ярославль ТЦ \"Альтаир\"       \n",
       "2935830 30               Ярославль ТЦ \"Альтаир\"       \n",
       "2935831 40               Ярославль ТЦ \"Альтаир\"       \n",
       "2935832 30               Ярославль ТЦ \"Альтаир\"       \n",
       "2935833 23               Ярославль ТЦ \"Альтаир\"       \n",
       "2935834 37               Ярославль ТЦ \"Альтаир\"       \n",
       "2935835 40               Ярославль ТЦ \"Альтаир\"       \n",
       "2935836 37               Ярославль ТЦ \"Альтаир\"       \n",
       "2935837 55               Ярославль ТЦ \"Альтаир\"       \n",
       "2935838 23               Ярославль ТЦ \"Альтаир\"       \n",
       "2935839 40               Ярославль ТЦ \"Альтаир\"       \n",
       "2935840 55               Ярославль ТЦ \"Альтаир\"       \n",
       "2935841 30               Ярославль ТЦ \"Альтаир\"       \n",
       "2935842 55               Ярославль ТЦ \"Альтаир\"       \n",
       "2935843 19               Ярославль ТЦ \"Альтаир\"       \n",
       "2935844 40               Ярославль ТЦ \"Альтаир\"       \n",
       "2935845 30               Ярославль ТЦ \"Альтаир\"       \n",
       "2935846 23               Ярославль ТЦ \"Альтаир\"       \n",
       "2935847 40               Ярославль ТЦ \"Альтаир\"       \n",
       "2935848 23               Ярославль ТЦ \"Альтаир\"       \n",
       "2935849 40               Ярославль ТЦ \"Альтаир\"       "
      ]
     },
     "metadata": {},
     "output_type": "display_data"
    }
   ],
   "source": [
    "sales_train_data"
   ]
  },
  {
   "cell_type": "markdown",
   "id": "2cb254a0-6224-4568-98ca-7037ae77c3b1",
   "metadata": {},
   "source": [
    "# Time series visualization"
   ]
  },
  {
   "cell_type": "code",
   "execution_count": 17,
   "id": "605c3502-794d-4f15-b158-fbaed5b08dfe",
   "metadata": {
    "execution": {
     "iopub.execute_input": "2024-03-30T20:28:41.861999Z",
     "iopub.status.busy": "2024-03-30T20:28:41.861504Z",
     "iopub.status.idle": "2024-03-30T20:29:07.987487Z",
     "shell.execute_reply": "2024-03-30T20:29:07.986851Z"
    },
    "vscode": {
     "languageId": "r"
    }
   },
   "outputs": [
    {
     "data": {
      "image/png": "[encoded data removed]",
      "text/plain": [
       "plot without title"
      ]
     },
     "metadata": {
      "image/png": {
       "height": 420,
       "width": 420
      }
     },
     "output_type": "display_data"
    }
   ],
   "source": [
    "monthly_sales$year_month <- as.numeric(paste0(monthly_sales$year,monthly_sales$month))\n",
    "\n",
    "library(ggplot2)\n",
    "ggplot(monthly_sales,aes(x=year_month,y=total_sales))+\n",
    "geom_line()+\n",
    "labs(x=\"Year-Month\",y=\"Total Sales\",title=\"Total Monthly Sales Over Time\")"
   ]
  },
  {
   "cell_type": "code",
   "execution_count": 18,
   "id": "a7fe6f2a-d8dd-4ba5-9d4f-409acf45338b",
   "metadata": {
    "execution": {
     "iopub.execute_input": "2024-03-30T20:29:07.988902Z",
     "iopub.status.busy": "2024-03-30T20:29:07.988411Z",
     "iopub.status.idle": "2024-03-30T20:30:24.443982Z",
     "shell.execute_reply": "2024-03-30T20:30:24.442765Z"
    },
    "vscode": {
     "languageId": "r"
    }
   },
   "outputs": [
    {
     "data": {
      "image/png": "[encoded data removed]",
      "text/plain": [
       "plot without title"
      ]
     },
     "metadata": {
      "image/png": {
       "height": 420,
       "width": 420
      }
     },
     "output_type": "display_data"
    }
   ],
   "source": [
    "decomp <- decompose(ts(monthly_sales$total_sales,frequency=12))\n",
    "\n",
    "plot(decomp)"
   ]
  },
  {
   "cell_type": "code",
   "execution_count": 19,
   "id": "e4588f8b-6413-4472-bb34-35d753ef2751",
   "metadata": {
    "execution": {
     "iopub.execute_input": "2024-03-30T20:30:24.446839Z",
     "iopub.status.busy": "2024-03-30T20:30:24.445873Z",
     "iopub.status.idle": "2024-03-30T20:31:38.254106Z",
     "shell.execute_reply": "2024-03-30T20:31:38.253326Z"
    },
    "vscode": {
     "languageId": "r"
    }
   },
   "outputs": [
    {
     "name": "stderr",
     "output_type": "stream",
     "text": [
      "Registered S3 method overwritten by 'quantmod':\n",
      "  method            from\n",
      "  as.zoo.data.frame zoo \n",
      "\n"
     ]
    }
   ],
   "source": [
    "library(forecast)\n",
    "\n",
    "arima_model <- auto.arima(monthly_sales$total_sales)"
   ]
  },
  {
   "cell_type": "code",
   "execution_count": 20,
   "id": "eaeb08d5-7eb8-4c11-9dc1-ce81e9a6d65f",
   "metadata": {
    "execution": {
     "iopub.execute_input": "2024-03-30T20:31:38.255660Z",
     "iopub.status.busy": "2024-03-30T20:31:38.255029Z",
     "iopub.status.idle": "2024-03-30T20:31:38.268641Z",
     "shell.execute_reply": "2024-03-30T20:31:38.267893Z"
    },
    "vscode": {
     "languageId": "r"
    }
   },
   "outputs": [],
   "source": [
    "forecast_arima <-forecast(arima_model,h=4)"
   ]
  },
  {
   "cell_type": "code",
   "execution_count": 21,
   "id": "99f191ef-68a6-4bdd-a7c3-531dbd1ece70",
   "metadata": {
    "execution": {
     "iopub.execute_input": "2024-03-30T20:31:38.270099Z",
     "iopub.status.busy": "2024-03-30T20:31:38.269641Z",
     "iopub.status.idle": "2024-03-30T20:31:38.275770Z",
     "shell.execute_reply": "2024-03-30T20:31:38.275183Z"
    },
    "vscode": {
     "languageId": "r"
    }
   },
   "outputs": [
    {
     "data": {
      "text/html": [
       "A Time Series:<br><style>\n",
       ".list-inline {list-style: none; margin:0; padding: 0}\n",
       ".list-inline>li {display: inline-block}\n",
       ".list-inline>li:not(:last-child)::after {content: \"\\00b7\"; padding: 0 .5ex}\n",
       "</style>\n",
       "<ol class=list-inline><li>970.825551541556</li><li>970.825551541556</li><li>970.825551541556</li><li>970.825551541556</li></ol>\n"
      ],
      "text/latex": [
       "A Time Series:\\\\\\begin{enumerate*}\n",
       "\\item 970.825551541556\n",
       "\\item 970.825551541556\n",
       "\\item 970.825551541556\n",
       "\\item 970.825551541556\n",
       "\\end{enumerate*}\n"
      ],
      "text/markdown": [
       "A Time Series:  \n",
       "1. 970.825551541556\n",
       "2. 970.825551541556\n",
       "3. 970.825551541556\n",
       "4. 970.825551541556\n",
       "\n",
       "\n"
      ],
      "text/plain": [
       "A Time Series:\n",
       "[1] 970.8256 970.8256 970.8256 970.8256"
      ]
     },
     "metadata": {},
     "output_type": "display_data"
    }
   ],
   "source": [
    "forecast_arima$mean"
   ]
  },
  {
   "cell_type": "code",
   "execution_count": 22,
   "id": "89381cbc",
   "metadata": {
    "execution": {
     "iopub.execute_input": "2024-03-30T20:31:38.277196Z",
     "iopub.status.busy": "2024-03-30T20:31:38.276746Z",
     "iopub.status.idle": "2024-03-30T20:31:38.475754Z",
     "shell.execute_reply": "2024-03-30T20:31:38.474852Z"
    },
    "vscode": {
     "languageId": "r"
    }
   },
   "outputs": [],
   "source": [
    "set.seed(123)\n",
    "train_index <- sample(1:nrow(monthly_sales),0.8*nrow(monthly_sales))\n",
    "train_set <- monthly_sales[train_index,]\n",
    "test_set <- monthly_sales[-train_index,]"
   ]
  },
  {
   "cell_type": "code",
   "execution_count": 23,
   "id": "35137a14",
   "metadata": {
    "editable": true,
    "execution": {
     "iopub.execute_input": "2024-03-30T20:31:38.477288Z",
     "iopub.status.busy": "2024-03-30T20:31:38.476764Z",
     "iopub.status.idle": "2024-03-30T20:41:20.296342Z",
     "shell.execute_reply": "2024-03-30T20:41:20.295400Z"
    },
    "slideshow": {
     "slide_type": ""
    },
    "tags": [],
    "vscode": {
     "languageId": "r"
    }
   },
   "outputs": [
    {
     "name": "stderr",
     "output_type": "stream",
     "text": [
      "randomForest 4.7-1.1\n",
      "\n",
      "Type rfNews() to see new features/changes/bug fixes.\n",
      "\n",
      "\n",
      "Attaching package: ‘randomForest’\n",
      "\n",
      "\n",
      "The following object is masked from ‘package:ggplot2’:\n",
      "\n",
      "    margin\n",
      "\n",
      "\n",
      "The following object is masked from ‘package:dplyr’:\n",
      "\n",
      "    combine\n",
      "\n",
      "\n"
     ]
    }
   ],
   "source": [
    "library(randomForest)\n",
    "num_trees <- 3\n",
    "mtry <- sqrt(ncol(train_set)-1)\n",
    "\n",
    "rf_model <- randomForest(total_sales ~ .,data=train_set,ntree=num_trees,mtry=mtry)"
   ]
  },
  {
   "cell_type": "code",
   "execution_count": 24,
   "id": "59f4d52a",
   "metadata": {
    "execution": {
     "iopub.execute_input": "2024-03-30T20:41:20.298150Z",
     "iopub.status.busy": "2024-03-30T20:41:20.297539Z",
     "iopub.status.idle": "2024-03-30T20:41:20.575198Z",
     "shell.execute_reply": "2024-03-30T20:41:20.574135Z"
    },
    "vscode": {
     "languageId": "r"
    }
   },
   "outputs": [],
   "source": [
    "predictions <- predict(rf_model,newdata=test_set)"
   ]
  },
  {
   "cell_type": "code",
   "execution_count": 25,
   "id": "abdac123-aebd-4d9f-b787-e106efe58dc4",
   "metadata": {
    "execution": {
     "iopub.execute_input": "2024-03-30T20:41:20.577238Z",
     "iopub.status.busy": "2024-03-30T20:41:20.576517Z",
     "iopub.status.idle": "2024-03-30T20:41:20.706272Z",
     "shell.execute_reply": "2024-03-30T20:41:20.705126Z"
    }
   },
   "outputs": [],
   "source": [
    "rmse <- sqrt(mean((test_set$total_sales - predictions)^2))\n",
    "mae <- mean(abs(test_set$total_sales - predictions))\n",
    "mape <- mean(abs((test_set$total_sales - predictions) / test_set$total_sales)) * 100"
   ]
  },
  {
   "cell_type": "code",
   "execution_count": 26,
   "id": "72e8e5b2-f8da-4411-abd3-40826b583fdc",
   "metadata": {
    "execution": {
     "iopub.execute_input": "2024-03-30T20:41:20.708280Z",
     "iopub.status.busy": "2024-03-30T20:41:20.707585Z",
     "iopub.status.idle": "2024-03-30T20:41:25.977317Z",
     "shell.execute_reply": "2024-03-30T20:41:25.976479Z"
    }
   },
   "outputs": [
    {
     "data": {
      "image/png": "[encoded data removed]",
      "text/plain": [
       "Plot with title “Actual vs. Predicted Sales”"
      ]
     },
     "metadata": {
      "image/png": {
       "height": 420,
       "width": 420
      }
     },
     "output_type": "display_data"
    }
   ],
   "source": [
    "plot(test_set$total_sales, predictions, col = \"blue\", xlab = \"Actual Sales\", ylab = \"Predicted Sales\", main = \"Actual vs. Predicted Sales\")\n",
    "abline(0, 1, col = \"red\")"
   ]
  },
  {
   "cell_type": "markdown",
   "id": "6837997d-0f5d-4445-ae2f-83e196704380",
   "metadata": {},
   "source": [
    "## Data Cleaning"
   ]
  },
  {
   "cell_type": "code",
   "execution_count": 27,
   "id": "d501b7ce-8425-4699-8acd-d177092e44cc",
   "metadata": {
    "execution": {
     "iopub.execute_input": "2024-03-30T20:41:25.979038Z",
     "iopub.status.busy": "2024-03-30T20:41:25.978436Z",
     "iopub.status.idle": "2024-03-30T20:41:30.714106Z",
     "shell.execute_reply": "2024-03-30T20:41:30.713268Z"
    }
   },
   "outputs": [
    {
     "name": "stdout",
     "output_type": "stream",
     "text": [
      "There are no rows containing null values.\n"
     ]
    }
   ],
   "source": [
    "# Check for null values in rows\n",
    "any_null_row <- apply(monthly_sales, 1, function(x) any(is.na(x)))\n",
    "if (any(any_null_row)) {\n",
    "  cat(\"There are rows containing null values.\\n\")\n",
    "} else {\n",
    "  cat(\"There are no rows containing null values.\\n\")\n",
    "}"
   ]
  },
  {
   "cell_type": "code",
   "execution_count": 28,
   "id": "c70c368f-2f4a-4a05-a04d-935529ab7e8a",
   "metadata": {
    "execution": {
     "iopub.execute_input": "2024-03-30T20:41:30.715671Z",
     "iopub.status.busy": "2024-03-30T20:41:30.715130Z",
     "iopub.status.idle": "2024-03-30T20:41:30.846990Z",
     "shell.execute_reply": "2024-03-30T20:41:30.846184Z"
    }
   },
   "outputs": [
    {
     "data": {
      "text/plain": [
       "     year              month              shop_id         item_id     \n",
       " Length:1609124     Length:1609124     Min.   : 0.00   Min.   :    0  \n",
       " Class :character   Class :character   1st Qu.:21.00   1st Qu.: 5045  \n",
       " Mode  :character   Mode  :character   Median :31.00   Median :10497  \n",
       "                                       Mean   :32.81   Mean   :10681  \n",
       "                                       3rd Qu.:47.00   3rd Qu.:16060  \n",
       "                                       Max.   :59.00   Max.   :22169  \n",
       "  total_sales        year_month    \n",
       " Min.   : -33787   Min.   :201301  \n",
       " 1st Qu.:    249   1st Qu.:201307  \n",
       " Median :    537   Median :201403  \n",
       " Mean   :   2112   Mean   :201385  \n",
       " 3rd Qu.:   1490   3rd Qu.:201412  \n",
       " Max.   :6264230   Max.   :201510  "
      ]
     },
     "metadata": {},
     "output_type": "display_data"
    }
   ],
   "source": [
    "summary(monthly_sales)"
   ]
  },
  {
   "cell_type": "code",
   "execution_count": 29,
   "id": "16ae519a-5f62-4d0b-9762-3bf73d7e4020",
   "metadata": {
    "execution": {
     "iopub.execute_input": "2024-03-30T20:41:30.848643Z",
     "iopub.status.busy": "2024-03-30T20:41:30.848077Z",
     "iopub.status.idle": "2024-03-30T20:41:33.368882Z",
     "shell.execute_reply": "2024-03-30T20:41:33.368179Z"
    }
   },
   "outputs": [
    {
     "data": {
      "image/png": "[encoded data removed]",
      "text/plain": [
       "Plot with title “Boxplot of item_id”"
      ]
     },
     "metadata": {
      "image/png": {
       "height": 420,
       "width": 420
      }
     },
     "output_type": "display_data"
    }
   ],
   "source": [
    "boxplot(monthly_sales$total_sales,main=\"Boxplot of item_id\")"
   ]
  },
  {
   "cell_type": "code",
   "execution_count": 30,
   "id": "f627c67a-b7b6-44e3-8094-11ad020bfa09",
   "metadata": {
    "execution": {
     "iopub.execute_input": "2024-03-30T20:41:33.370453Z",
     "iopub.status.busy": "2024-03-30T20:41:33.369902Z",
     "iopub.status.idle": "2024-03-30T20:41:33.486688Z",
     "shell.execute_reply": "2024-03-30T20:41:33.485789Z"
    }
   },
   "outputs": [],
   "source": [
    "# Calculating IQR to get outliers\n",
    "Q1 <- quantile(monthly_sales$total_sales, 0.25)\n",
    "Q3 <- quantile(monthly_sales$total_sales, 0.75)\n",
    "IQR <- Q3 - Q1\n",
    "\n",
    "# Calculating threshold for detecting outliers\n",
    "threshold <- 1.5 * IQR\n",
    "\n",
    "outliers <- monthly_sales$total_sales < (Q1 - threshold) | monthly_sales$total_sales > (Q3 + threshold)\n",
    "\n",
    "# cleaned_dataset removing outliers\n",
    "cleaned_dataset <- monthly_sales[!outliers, ]"
   ]
  },
  {
   "cell_type": "code",
   "execution_count": 31,
   "id": "5173d1c9-b3ab-4894-b31b-ac263d8b0294",
   "metadata": {
    "execution": {
     "iopub.execute_input": "2024-03-30T20:41:33.488380Z",
     "iopub.status.busy": "2024-03-30T20:41:33.487811Z",
     "iopub.status.idle": "2024-03-30T20:41:37.382307Z",
     "shell.execute_reply": "2024-03-30T20:41:37.381460Z"
    }
   },
   "outputs": [
    {
     "data": {
      "image/png": "[encoded data removed]",
      "text/plain": [
       "Plot with title “Boxplot before Removing Outliers”"
      ]
     },
     "metadata": {
      "image/png": {
       "height": 420,
       "width": 420
      }
     },
     "output_type": "display_data"
    },
    {
     "data": {
      "image/png": "[encoded data removed]",
      "text/plain": [
       "Plot with title “Boxplot after Removing Outliers”"
      ]
     },
     "metadata": {
      "image/png": {
       "height": 420,
       "width": 420
      }
     },
     "output_type": "display_data"
    }
   ],
   "source": [
    "boxplot(monthly_sales$total_sales, main = \"Boxplot before Removing Outliers\")\n",
    "\n",
    "boxplot(cleaned_dataset$total_sales, main = \"Boxplot after Removing Outliers\")"
   ]
  },
  {
   "cell_type": "code",
   "execution_count": 32,
   "id": "ae5b416f-0757-4a93-8b94-907ea7a4b3d4",
   "metadata": {
    "execution": {
     "iopub.execute_input": "2024-03-30T20:41:37.383942Z",
     "iopub.status.busy": "2024-03-30T20:41:37.383332Z",
     "iopub.status.idle": "2024-03-30T20:41:37.390454Z",
     "shell.execute_reply": "2024-03-30T20:41:37.389745Z"
    }
   },
   "outputs": [
    {
     "data": {
      "text/html": [
       "1440055"
      ],
      "text/latex": [
       "1440055"
      ],
      "text/markdown": [
       "1440055"
      ],
      "text/plain": [
       "[1] 1440055"
      ]
     },
     "metadata": {},
     "output_type": "display_data"
    }
   ],
   "source": [
    "nrow(cleaned_dataset)"
   ]
  },
  {
   "cell_type": "markdown",
   "id": "316f7f49-0192-44fe-b6e5-984f350434e6",
   "metadata": {},
   "source": [
    "# Random Forest"
   ]
  },
  {
   "cell_type": "markdown",
   "id": "02b72c42-3067-4fd7-b16a-538bc23c9a20",
   "metadata": {},
   "source": [
    "## 1. randomForest from `library(randomForest)`"
   ]
  },
  {
   "cell_type": "code",
   "execution_count": 33,
   "id": "8b2f349c-570b-456a-9875-bfb788ebd7b4",
   "metadata": {
    "execution": {
     "iopub.execute_input": "2024-03-30T20:41:37.391911Z",
     "iopub.status.busy": "2024-03-30T20:41:37.391405Z",
     "iopub.status.idle": "2024-03-30T20:41:37.396858Z",
     "shell.execute_reply": "2024-03-30T20:41:37.396035Z"
    }
   },
   "outputs": [],
   "source": [
    "library(randomForest)"
   ]
  },
  {
   "cell_type": "code",
   "execution_count": 34,
   "id": "8ae4956f-3286-4550-b0cd-66095f8437fa",
   "metadata": {
    "execution": {
     "iopub.execute_input": "2024-03-30T20:41:37.398549Z",
     "iopub.status.busy": "2024-03-30T20:41:37.397897Z",
     "iopub.status.idle": "2024-03-30T20:58:59.921704Z",
     "shell.execute_reply": "2024-03-30T20:58:59.920866Z"
    }
   },
   "outputs": [],
   "source": [
    "train_index <- sample(1:nrow(cleaned_dataset),0.8*nrow(cleaned_dataset))\n",
    "train_set <- cleaned_dataset[train_index,]\n",
    "test_set <- cleaned_dataset[-train_index,]\n",
    "num_trees <- 5\n",
    "mtry <- sqrt(ncol(train_set)-1)\n",
    "registerDoParallel(cores=4)\n",
    "rf_model <- randomForest(total_sales ~ .,data=train_set,ntree=num_trees,mtry=mtry,cluster=cl)"
   ]
  },
  {
   "cell_type": "code",
   "execution_count": 35,
   "id": "553ffa7a-a95d-4b08-9297-ae6671e8079f",
   "metadata": {
    "execution": {
     "iopub.execute_input": "2024-03-30T20:58:59.923113Z",
     "iopub.status.busy": "2024-03-30T20:58:59.922644Z",
     "iopub.status.idle": "2024-03-30T20:59:00.149725Z",
     "shell.execute_reply": "2024-03-30T20:59:00.148891Z"
    }
   },
   "outputs": [],
   "source": [
    "predictions <- predict(rf_model,newdata=test_set)"
   ]
  },
  {
   "cell_type": "code",
   "execution_count": 36,
   "id": "b0ebc0cc-7b08-4a88-8a4b-cb190c88a712",
   "metadata": {
    "execution": {
     "iopub.execute_input": "2024-03-30T20:59:00.151140Z",
     "iopub.status.busy": "2024-03-30T20:59:00.150659Z",
     "iopub.status.idle": "2024-03-30T20:59:00.226728Z",
     "shell.execute_reply": "2024-03-30T20:59:00.225842Z"
    }
   },
   "outputs": [],
   "source": [
    "rmse <- sqrt(mean((test_set$total_sales - predictions)^2))\n",
    "mae <- mean(abs(test_set$total_sales - predictions))\n",
    "mape <- mean(abs((test_set$total_sales - predictions) / test_set$total_sales)) * 100"
   ]
  },
  {
   "cell_type": "code",
   "execution_count": 37,
   "id": "699be9f4-d9e1-4d6a-af54-ff9729a47b4a",
   "metadata": {
    "execution": {
     "iopub.execute_input": "2024-03-30T20:59:00.228157Z",
     "iopub.status.busy": "2024-03-30T20:59:00.227669Z",
     "iopub.status.idle": "2024-03-30T20:59:00.233233Z",
     "shell.execute_reply": "2024-03-30T20:59:00.232537Z"
    }
   },
   "outputs": [
    {
     "name": "stdout",
     "output_type": "stream",
     "text": [
      "[1] \"RMSE using randomForest:  610.189845058805\"\n"
     ]
    }
   ],
   "source": [
    "print(paste(\"RMSE using randomForest: \",rmse))"
   ]
  },
  {
   "cell_type": "markdown",
   "id": "72801bd7-c621-4fa1-ad7c-cd7be13017ef",
   "metadata": {},
   "source": [
    "## 2.ranger from `library(ranger)`\n",
    "This uses randomForest with parallel processing on all cores or specified cores.<br>\n",
    "Execution speed is 100 times faster than randomForest library and can handle complex datasets"
   ]
  },
  {
   "cell_type": "code",
   "execution_count": 38,
   "id": "8461bd0f-abf4-481e-a00b-fd41338f6ed5",
   "metadata": {
    "execution": {
     "iopub.execute_input": "2024-03-30T20:59:00.234562Z",
     "iopub.status.busy": "2024-03-30T20:59:00.234110Z",
     "iopub.status.idle": "2024-03-30T20:59:00.825640Z",
     "shell.execute_reply": "2024-03-30T20:59:00.824903Z"
    }
   },
   "outputs": [
    {
     "name": "stderr",
     "output_type": "stream",
     "text": [
      "\n",
      "Attaching package: ‘ranger’\n",
      "\n",
      "\n",
      "The following object is masked from ‘package:randomForest’:\n",
      "\n",
      "    importance\n",
      "\n",
      "\n"
     ]
    }
   ],
   "source": [
    "library(ranger)"
   ]
  },
  {
   "cell_type": "code",
   "execution_count": 39,
   "id": "236a9607-cafd-454b-8fa3-f234ff45ba47",
   "metadata": {
    "execution": {
     "iopub.execute_input": "2024-03-30T20:59:00.827011Z",
     "iopub.status.busy": "2024-03-30T20:59:00.826570Z",
     "iopub.status.idle": "2024-03-30T20:59:19.512213Z",
     "shell.execute_reply": "2024-03-30T20:59:19.511424Z"
    }
   },
   "outputs": [],
   "source": [
    "rf_model <- ranger(total_sales ~ ., data=train_set,num.tree=100,num.threads=detectCores())"
   ]
  },
  {
   "cell_type": "code",
   "execution_count": 40,
   "id": "d6d6e920-e60b-46bf-b9c2-faef99701375",
   "metadata": {
    "execution": {
     "iopub.execute_input": "2024-03-30T20:59:19.513766Z",
     "iopub.status.busy": "2024-03-30T20:59:19.513262Z",
     "iopub.status.idle": "2024-03-30T20:59:20.145743Z",
     "shell.execute_reply": "2024-03-30T20:59:20.144889Z"
    }
   },
   "outputs": [
    {
     "name": "stdout",
     "output_type": "stream",
     "text": [
      "[1] \"RMSE using ranger library (randomForest):  602.6295888357\"\n"
     ]
    }
   ],
   "source": [
    "predictions <- predict(rf_model, data = test_set)$predictions\n",
    "rmse <- sqrt(mean((test_set$total_sales - predictions)^2))\n",
    "print(paste(\"RMSE using ranger library (randomForest): \",rmse))"
   ]
  },
  {
   "cell_type": "markdown",
   "id": "fe28b710-c894-40c9-bd26-86600762eba2",
   "metadata": {},
   "source": [
    "# Gradient Boosting"
   ]
  },
  {
   "cell_type": "code",
   "execution_count": 43,
   "id": "dd722a04-7c41-4004-a9b7-1826fc556b4f",
   "metadata": {
    "execution": {
     "iopub.execute_input": "2024-03-30T22:18:32.741986Z",
     "iopub.status.busy": "2024-03-30T22:18:32.739238Z",
     "iopub.status.idle": "2024-03-30T22:18:32.852652Z",
     "shell.execute_reply": "2024-03-30T22:18:32.851988Z"
    }
   },
   "outputs": [
    {
     "name": "stderr",
     "output_type": "stream",
     "text": [
      "\n",
      "Attaching package: ‘xgboost’\n",
      "\n",
      "\n",
      "The following object is masked from ‘package:dplyr’:\n",
      "\n",
      "    slice\n",
      "\n",
      "\n"
     ]
    }
   ],
   "source": [
    "library(xgboost)"
   ]
  },
  {
   "cell_type": "code",
   "execution_count": 51,
   "id": "3002caf4-396f-414b-8170-941f13ffdf20",
   "metadata": {
    "execution": {
     "iopub.execute_input": "2024-03-30T22:35:20.652006Z",
     "iopub.status.busy": "2024-03-30T22:35:20.651356Z",
     "iopub.status.idle": "2024-03-30T22:35:20.805819Z",
     "shell.execute_reply": "2024-03-30T22:35:20.805073Z"
    }
   },
   "outputs": [],
   "source": [
    "train_set$year <- as.numeric(train_set$year)\n",
    "train_set$month <- as.numeric(train_set$month)\n",
    "test_set$year <- as.numeric(test_set$year)\n",
    "test_set$month <- as.numeric(test_set$month)\n",
    "predictor_variable <- as.matrix(train_set[,c(\"year\",\"month\",\"shop_id\",\"item_id\")])\n",
    "target_variable <- as.matrix(train_set$total_sales)"
   ]
  },
  {
   "cell_type": "code",
   "execution_count": 44,
   "id": "77176fbe-bad9-40e6-98aa-aea01347d23f",
   "metadata": {
    "execution": {
     "iopub.execute_input": "2024-03-30T22:18:35.160130Z",
     "iopub.status.busy": "2024-03-30T22:18:35.158657Z",
     "iopub.status.idle": "2024-03-30T22:19:18.758701Z",
     "shell.execute_reply": "2024-03-30T22:19:18.757548Z"
    },
    "scrolled": true
   },
   "outputs": [
    {
     "name": "stdout",
     "output_type": "stream",
     "text": [
      "[1]\ttrain-rmse:898.463034 \n",
      "[2]\ttrain-rmse:815.889962 \n",
      "[3]\ttrain-rmse:717.623833 \n",
      "[4]\ttrain-rmse:691.931186 \n",
      "[5]\ttrain-rmse:645.316115 \n",
      "[6]\ttrain-rmse:638.122012 \n",
      "[7]\ttrain-rmse:634.938118 \n",
      "[8]\ttrain-rmse:632.890574 \n",
      "[9]\ttrain-rmse:631.843303 \n",
      "[10]\ttrain-rmse:611.209309 \n",
      "[11]\ttrain-rmse:589.511785 \n",
      "[12]\ttrain-rmse:589.074543 \n",
      "[13]\ttrain-rmse:574.388194 \n",
      "[14]\ttrain-rmse:565.654242 \n",
      "[15]\ttrain-rmse:561.346437 \n",
      "[16]\ttrain-rmse:556.605902 \n",
      "[17]\ttrain-rmse:548.913486 \n",
      "[18]\ttrain-rmse:546.598640 \n",
      "[19]\ttrain-rmse:539.846797 \n",
      "[20]\ttrain-rmse:536.872401 \n",
      "[21]\ttrain-rmse:534.094677 \n",
      "[22]\ttrain-rmse:532.597975 \n",
      "[23]\ttrain-rmse:530.626802 \n",
      "[24]\ttrain-rmse:526.510338 \n",
      "[25]\ttrain-rmse:526.376802 \n",
      "[26]\ttrain-rmse:523.925496 \n",
      "[27]\ttrain-rmse:519.981190 \n",
      "[28]\ttrain-rmse:519.760474 \n",
      "[29]\ttrain-rmse:517.288244 \n",
      "[30]\ttrain-rmse:516.006638 \n",
      "[31]\ttrain-rmse:514.482215 \n",
      "[32]\ttrain-rmse:511.778286 \n",
      "[33]\ttrain-rmse:511.741753 \n",
      "[34]\ttrain-rmse:511.654154 \n",
      "[35]\ttrain-rmse:510.226554 \n",
      "[36]\ttrain-rmse:508.668166 \n",
      "[37]\ttrain-rmse:505.798263 \n",
      "[38]\ttrain-rmse:503.964932 \n",
      "[39]\ttrain-rmse:502.338289 \n",
      "[40]\ttrain-rmse:501.136712 \n",
      "[41]\ttrain-rmse:501.049103 \n",
      "[42]\ttrain-rmse:499.729496 \n",
      "[43]\ttrain-rmse:498.205208 \n",
      "[44]\ttrain-rmse:497.409563 \n",
      "[45]\ttrain-rmse:496.080124 \n",
      "[46]\ttrain-rmse:494.783902 \n",
      "[47]\ttrain-rmse:493.479310 \n",
      "[48]\ttrain-rmse:493.409904 \n",
      "[49]\ttrain-rmse:492.339831 \n",
      "[50]\ttrain-rmse:492.309670 \n",
      "[51]\ttrain-rmse:492.296311 \n",
      "[52]\ttrain-rmse:491.058403 \n",
      "[53]\ttrain-rmse:490.545846 \n",
      "[54]\ttrain-rmse:490.538803 \n",
      "[55]\ttrain-rmse:490.471919 \n",
      "[56]\ttrain-rmse:490.438868 \n",
      "[57]\ttrain-rmse:490.409492 \n",
      "[58]\ttrain-rmse:490.403066 \n",
      "[59]\ttrain-rmse:490.401206 \n",
      "[60]\ttrain-rmse:489.076079 \n",
      "[61]\ttrain-rmse:489.069430 \n",
      "[62]\ttrain-rmse:489.065748 \n",
      "[63]\ttrain-rmse:488.346611 \n",
      "[64]\ttrain-rmse:488.344549 \n",
      "[65]\ttrain-rmse:487.735931 \n",
      "[66]\ttrain-rmse:487.734773 \n",
      "[67]\ttrain-rmse:486.553144 \n",
      "[68]\ttrain-rmse:486.537669 \n",
      "[69]\ttrain-rmse:486.536724 \n",
      "[70]\ttrain-rmse:486.536095 \n",
      "[71]\ttrain-rmse:485.478073 \n",
      "[72]\ttrain-rmse:485.477142 \n",
      "[73]\ttrain-rmse:485.476502 \n",
      "[74]\ttrain-rmse:484.982212 \n",
      "[75]\ttrain-rmse:484.582011 \n",
      "[76]\ttrain-rmse:483.662966 \n",
      "[77]\ttrain-rmse:483.661856 \n",
      "[78]\ttrain-rmse:482.342045 \n",
      "[79]\ttrain-rmse:481.546943 \n",
      "[80]\ttrain-rmse:480.607830 \n",
      "[81]\ttrain-rmse:480.275198 \n",
      "[82]\ttrain-rmse:480.270335 \n",
      "[83]\ttrain-rmse:479.778709 \n",
      "[84]\ttrain-rmse:479.775995 \n",
      "[85]\ttrain-rmse:478.738031 \n",
      "[86]\ttrain-rmse:477.354156 \n",
      "[87]\ttrain-rmse:477.350751 \n",
      "[88]\ttrain-rmse:477.349715 \n",
      "[89]\ttrain-rmse:477.345401 \n",
      "[90]\ttrain-rmse:477.345141 \n",
      "[91]\ttrain-rmse:476.683961 \n",
      "[92]\ttrain-rmse:476.366654 \n",
      "[93]\ttrain-rmse:476.365388 \n",
      "[94]\ttrain-rmse:476.364966 \n",
      "[95]\ttrain-rmse:476.364838 \n",
      "[96]\ttrain-rmse:475.969974 \n",
      "[97]\ttrain-rmse:475.026388 \n",
      "[98]\ttrain-rmse:474.537448 \n",
      "[99]\ttrain-rmse:473.815673 \n",
      "[100]\ttrain-rmse:473.308395 \n"
     ]
    }
   ],
   "source": [
    "xgb_params <- list(\n",
    "    objective=\"reg:squarederror\",\n",
    "    eta=0.3,\n",
    "    max_depth = 10,\n",
    "    subsample=0.8,\n",
    "    colsample_bytree=0.7\n",
    ")\n",
    "xgb_model <- xgboost(data=predictor_variable,label=target_variable,params=xgb_params,nrounds=100,nthread=detectCores())"
   ]
  },
  {
   "cell_type": "markdown",
   "id": "9081d731-d41d-4a96-9c25-26a9af9d9ae1",
   "metadata": {},
   "source": [
    "# LightGBM"
   ]
  },
  {
   "cell_type": "code",
   "execution_count": 49,
   "id": "a20d791c-a1af-456e-857a-3b83e8b22480",
   "metadata": {
    "execution": {
     "iopub.execute_input": "2024-03-30T22:35:01.063133Z",
     "iopub.status.busy": "2024-03-30T22:35:01.062487Z",
     "iopub.status.idle": "2024-03-30T22:35:01.078780Z",
     "shell.execute_reply": "2024-03-30T22:35:01.078097Z"
    }
   },
   "outputs": [
    {
     "name": "stderr",
     "output_type": "stream",
     "text": [
      "\n",
      "Attaching package: ‘lightgbm’\n",
      "\n",
      "\n",
      "The following object is masked from ‘package:xgboost’:\n",
      "\n",
      "    slice\n",
      "\n",
      "\n",
      "The following object is masked from ‘package:dplyr’:\n",
      "\n",
      "    slice\n",
      "\n",
      "\n"
     ]
    }
   ],
   "source": [
    "library(lightgbm)"
   ]
  },
  {
   "cell_type": "code",
   "execution_count": 52,
   "id": "6f029d0a-f034-4ddb-9d0c-6139419317ec",
   "metadata": {
    "execution": {
     "iopub.execute_input": "2024-03-30T22:35:34.753864Z",
     "iopub.status.busy": "2024-03-30T22:35:34.753129Z",
     "iopub.status.idle": "2024-03-30T22:35:36.718166Z",
     "shell.execute_reply": "2024-03-30T22:35:36.717311Z"
    }
   },
   "outputs": [
    {
     "name": "stdout",
     "output_type": "stream",
     "text": [
      "[LightGBM] [Info] Auto-choosing col-wise multi-threading, the overhead of testing was 0.044594 seconds.\n",
      "You can set `force_col_wise=true` to remove the overhead.\n",
      "[LightGBM] [Info] Total Bins 332\n",
      "[LightGBM] [Info] Number of data points in the train set: 1152044, number of used features: 4\n",
      "[LightGBM] [Info] Start training from score 748.642233\n"
     ]
    }
   ],
   "source": [
    "train_data <- lgb.Dataset(data = as.matrix(predictor_variable), label = as.numeric(target_variable))\n",
    "\n",
    "params <- list(\n",
    "  objective = \"regression\",\n",
    "  metric = \"rmse\",\n",
    "  learning_rate = 0.1,\n",
    "  num_leaves = 31,\n",
    "  feature_fraction = 0.8,\n",
    "  bagging_fraction = 0.8,\n",
    "  bagging_freq = 5\n",
    ")\n",
    "\n",
    "gbm_model <- lgb.train(params, train_data, nrounds = 100)"
   ]
  },
  {
   "cell_type": "code",
   "execution_count": 54,
   "id": "8cca5e3c-3a7a-46e4-a35b-37de666b34df",
   "metadata": {
    "execution": {
     "iopub.execute_input": "2024-03-30T22:36:26.470106Z",
     "iopub.status.busy": "2024-03-30T22:36:26.467684Z",
     "iopub.status.idle": "2024-03-30T22:36:26.597695Z",
     "shell.execute_reply": "2024-03-30T22:36:26.596804Z"
    }
   },
   "outputs": [
    {
     "name": "stdout",
     "output_type": "stream",
     "text": [
      "[1] \"RMSE using lightgbm:  632.606684488972\"\n"
     ]
    }
   ],
   "source": [
    "predictions <- predict(gbm_model, as.matrix(test_set[,c(\"year\",\"month\",\"shop_id\",\"item_id\")]))\n",
    "rmse <- sqrt(mean((predictions - test_set$total_sales)^2))\n",
    "print(paste(\"RMSE using lightgbm: \",rmse))"
   ]
  },
  {
   "cell_type": "markdown",
   "id": "2cd3ffe4-f250-462b-90b8-27bbb70b4ec1",
   "metadata": {},
   "source": [
    "# Support Vector Machine"
   ]
  },
  {
   "cell_type": "code",
   "execution_count": null,
   "id": "abf8f4cb-e25d-4dc8-ab9f-f223c172bf32",
   "metadata": {},
   "outputs": [],
   "source": []
  }
 ],
 "metadata": {
  "kernelspec": {
   "display_name": "R",
   "language": "R",
   "name": "ir"
  },
  "language_info": {
   "codemirror_mode": "r",
   "file_extension": ".r",
   "mimetype": "text/x-r-source",
   "name": "R",
   "pygments_lexer": "r",
   "version": "4.3.1"
  }
 },
 "nbformat": 4,
 "nbformat_minor": 5
}
