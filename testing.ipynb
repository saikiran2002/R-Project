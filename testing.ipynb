{
 "cells": [
  {
   "cell_type": "code",
   "execution_count": 1,
   "id": "1b99748e-36d6-4b63-804a-11b4472f102e",
   "metadata": {
    "execution": {
     "iopub.execute_input": "2024-04-17T04:08:40.525430Z",
     "iopub.status.busy": "2024-04-17T04:08:40.522082Z",
     "iopub.status.idle": "2024-04-17T04:08:41.017182Z",
     "shell.execute_reply": "2024-04-17T04:08:41.016563Z"
    },
    "scrolled": true
   },
   "outputs": [
    {
     "name": "stderr",
     "output_type": "stream",
     "text": [
      "\n",
      "Attaching package: ‘dplyr’\n",
      "\n",
      "\n",
      "The following objects are masked from ‘package:stats’:\n",
      "\n",
      "    filter, lag\n",
      "\n",
      "\n",
      "The following objects are masked from ‘package:base’:\n",
      "\n",
      "    intersect, setdiff, setequal, union\n",
      "\n",
      "\n",
      "\n",
      "Attaching package: ‘lubridate’\n",
      "\n",
      "\n",
      "The following objects are masked from ‘package:base’:\n",
      "\n",
      "    date, intersect, setdiff, union\n",
      "\n",
      "\n",
      "\n",
      "----------------------------------------------------------------------\n",
      "\n",
      "Your next step is to start H2O:\n",
      "    > h2o.init()\n",
      "\n",
      "For H2O package documentation, ask for help:\n",
      "    > ??h2o\n",
      "\n",
      "After starting H2O, you can use the Web UI at http://localhost:54321\n",
      "For more information visit https://docs.h2o.ai\n",
      "\n",
      "----------------------------------------------------------------------\n",
      "\n",
      "\n",
      "\n",
      "Attaching package: ‘h2o’\n",
      "\n",
      "\n",
      "The following objects are masked from ‘package:lubridate’:\n",
      "\n",
      "    day, hour, month, week, year\n",
      "\n",
      "\n",
      "The following objects are masked from ‘package:stats’:\n",
      "\n",
      "    cor, sd, var\n",
      "\n",
      "\n",
      "The following objects are masked from ‘package:base’:\n",
      "\n",
      "    &&, %*%, %in%, ||, apply, as.factor, as.numeric, colnames,\n",
      "    colnames<-, ifelse, is.character, is.factor, is.numeric, log,\n",
      "    log10, log1p, log2, round, signif, trunc\n",
      "\n",
      "\n"
     ]
    }
   ],
   "source": [
    "library(dplyr)\n",
    "library(ggplot2)\n",
    "library(lubridate)\n",
    "library(reshape2)\n",
    "library(h2o)"
   ]
  },
  {
   "cell_type": "code",
   "execution_count": 2,
   "id": "b08df07f-b7b2-4c65-8fc9-97a68578bc4f",
   "metadata": {
    "execution": {
     "iopub.execute_input": "2024-04-17T04:08:41.975290Z",
     "iopub.status.busy": "2024-04-17T04:08:41.935782Z",
     "iopub.status.idle": "2024-04-17T04:08:44.377829Z",
     "shell.execute_reply": "2024-04-17T04:08:44.377164Z"
    }
   },
   "outputs": [],
   "source": [
    "sales_train <- read.csv(\"./dataset/sales_train.csv\")\n",
    "test <- read.csv(\"./dataset/test.csv\")\n",
    "items <- read.csv(\"./dataset/items.csv\")\n",
    "item_categories <- read.csv(\"./dataset/item_categories.csv\")\n",
    "shops <- read.csv(\"./dataset/shops.csv\")"
   ]
  },
  {
   "cell_type": "markdown",
   "id": "071e84b4-e05c-4718-bfcb-695257fa1af1",
   "metadata": {},
   "source": [
    "# 1. Data Cleaning and Preprocessing"
   ]
  },
  {
   "cell_type": "markdown",
   "id": "d01018b5-2ca7-4f73-a5b3-44a1b1222891",
   "metadata": {},
   "source": [
    "## 1.1 Loading and cleaning data"
   ]
  },
  {
   "cell_type": "code",
   "execution_count": 3,
   "id": "41cd7372-b6b1-4d71-b681-a1c64394a4e8",
   "metadata": {
    "execution": {
     "iopub.execute_input": "2024-04-17T04:08:44.379288Z",
     "iopub.status.busy": "2024-04-17T04:08:44.378788Z",
     "iopub.status.idle": "2024-04-17T04:08:51.011225Z",
     "shell.execute_reply": "2024-04-17T04:08:51.010434Z"
    }
   },
   "outputs": [],
   "source": [
    "sales_train_data <- merge(sales_train,items,by=\"item_id\",all.x=TRUE)\n",
    "sales_train_data <- merge(sales_train_data,shops,by=\"shop_id\",all.x=TRUE)"
   ]
  },
  {
   "cell_type": "code",
   "execution_count": 4,
   "id": "a420f5c3-2b64-44f2-8fc0-f36abed9edf4",
   "metadata": {
    "execution": {
     "iopub.execute_input": "2024-04-17T04:08:51.012695Z",
     "iopub.status.busy": "2024-04-17T04:08:51.012217Z",
     "iopub.status.idle": "2024-04-17T04:08:51.231998Z",
     "shell.execute_reply": "2024-04-17T04:08:51.231390Z"
    }
   },
   "outputs": [
    {
     "data": {
      "text/html": [
       "<table class=\"dataframe\">\n",
       "<caption>A matrix: 9 × 1 of type dbl</caption>\n",
       "<tbody>\n",
       "\t<tr><th scope=row>shop_id</th><td>0</td></tr>\n",
       "\t<tr><th scope=row>item_id</th><td>0</td></tr>\n",
       "\t<tr><th scope=row>date</th><td>0</td></tr>\n",
       "\t<tr><th scope=row>date_block_num</th><td>0</td></tr>\n",
       "\t<tr><th scope=row>item_price</th><td>0</td></tr>\n",
       "\t<tr><th scope=row>item_cnt_day</th><td>0</td></tr>\n",
       "\t<tr><th scope=row>item_name</th><td>0</td></tr>\n",
       "\t<tr><th scope=row>item_category_id</th><td>0</td></tr>\n",
       "\t<tr><th scope=row>shop_name</th><td>0</td></tr>\n",
       "</tbody>\n",
       "</table>\n"
      ],
      "text/latex": [
       "A matrix: 9 × 1 of type dbl\n",
       "\\begin{tabular}{r|l}\n",
       "\tshop\\_id & 0\\\\\n",
       "\titem\\_id & 0\\\\\n",
       "\tdate & 0\\\\\n",
       "\tdate\\_block\\_num & 0\\\\\n",
       "\titem\\_price & 0\\\\\n",
       "\titem\\_cnt\\_day & 0\\\\\n",
       "\titem\\_name & 0\\\\\n",
       "\titem\\_category\\_id & 0\\\\\n",
       "\tshop\\_name & 0\\\\\n",
       "\\end{tabular}\n"
      ],
      "text/markdown": [
       "\n",
       "A matrix: 9 × 1 of type dbl\n",
       "\n",
       "| shop_id | 0 |\n",
       "| item_id | 0 |\n",
       "| date | 0 |\n",
       "| date_block_num | 0 |\n",
       "| item_price | 0 |\n",
       "| item_cnt_day | 0 |\n",
       "| item_name | 0 |\n",
       "| item_category_id | 0 |\n",
       "| shop_name | 0 |\n",
       "\n"
      ],
      "text/plain": [
       "                 [,1]\n",
       "shop_id          0   \n",
       "item_id          0   \n",
       "date             0   \n",
       "date_block_num   0   \n",
       "item_price       0   \n",
       "item_cnt_day     0   \n",
       "item_name        0   \n",
       "item_category_id 0   \n",
       "shop_name        0   "
      ]
     },
     "metadata": {},
     "output_type": "display_data"
    }
   ],
   "source": [
    "cbind(colSums(is.na(sales_train_data)))"
   ]
  },
  {
   "cell_type": "markdown",
   "id": "826aee02-96d7-4b47-8026-d9305255e3f4",
   "metadata": {},
   "source": [
    "## 1.2 Formatting the data"
   ]
  },
  {
   "cell_type": "code",
   "execution_count": 5,
   "id": "1eba525f-ddb5-4fb1-9606-ecfa5d70b361",
   "metadata": {
    "execution": {
     "iopub.execute_input": "2024-04-17T04:08:51.233310Z",
     "iopub.status.busy": "2024-04-17T04:08:51.232837Z",
     "iopub.status.idle": "2024-04-17T04:08:59.742934Z",
     "shell.execute_reply": "2024-04-17T04:08:59.742214Z"
    }
   },
   "outputs": [],
   "source": [
    "sales_train$date <- as.Date(sales_train$date,format=\"%d.%m.%Y\")\n",
    "\n",
    "sales_train$month <- lubridate::month(sales_train$date)\n",
    "sales_train$year <- lubridate::year(sales_train$date)\n",
    "sales_train$day <- lubridate::day(sales_train$date)\n",
    "\n",
    "# sales_train$month <- format(sales_train$date,\"%m\")\n",
    "# sales_train$year <- format(sales_train$date,\"%Y\")\n",
    "# sales_train$date <- format(sales_train$date,\"%d\")"
   ]
  },
  {
   "cell_type": "markdown",
   "id": "5f319dcb-0df4-4ca2-8b74-b7b514379a1f",
   "metadata": {},
   "source": [
    "## 1.3 Grouping the data"
   ]
  },
  {
   "cell_type": "code",
   "execution_count": 6,
   "id": "90527928-234f-49ab-b26f-bb104bfc9a7b",
   "metadata": {
    "execution": {
     "iopub.execute_input": "2024-04-17T04:08:59.744327Z",
     "iopub.status.busy": "2024-04-17T04:08:59.743857Z",
     "iopub.status.idle": "2024-04-17T04:09:05.157236Z",
     "shell.execute_reply": "2024-04-17T04:09:05.156517Z"
    }
   },
   "outputs": [
    {
     "name": "stderr",
     "output_type": "stream",
     "text": [
      "\u001b[1m\u001b[22m`summarise()` has grouped output by 'year', 'month', 'day', 'shop_id', 'item_id', 'item_cnt_day'.\n",
      "You can override using the `.groups` argument.\n"
     ]
    }
   ],
   "source": [
    "monthly_sales <- sales_train %>%\n",
    "    group_by(year,month,day,shop_id,item_id,item_cnt_day,item_price) %>%\n",
    "    summarise(total_sales = sum(item_cnt_day*item_price))"
   ]
  },
  {
   "cell_type": "markdown",
   "id": "64bf9a9f-00fb-4a7c-91c7-1eec438c7d6c",
   "metadata": {},
   "source": [
    "## 1.4 Data Analysis\n",
    "###  > Outliers"
   ]
  },
  {
   "cell_type": "code",
   "execution_count": 7,
   "id": "2f086ecc-2ba0-429d-ad31-8906a4cc2a55",
   "metadata": {
    "execution": {
     "iopub.execute_input": "2024-04-17T04:09:05.158531Z",
     "iopub.status.busy": "2024-04-17T04:09:05.158095Z",
     "iopub.status.idle": "2024-04-17T04:09:05.163675Z",
     "shell.execute_reply": "2024-04-17T04:09:05.163137Z"
    }
   },
   "outputs": [
    {
     "data": {
      "text/html": [
       "2935843"
      ],
      "text/latex": [
       "2935843"
      ],
      "text/markdown": [
       "2935843"
      ],
      "text/plain": [
       "[1] 2935843"
      ]
     },
     "metadata": {},
     "output_type": "display_data"
    }
   ],
   "source": [
    "nrow(monthly_sales)"
   ]
  },
  {
   "cell_type": "code",
   "execution_count": 8,
   "id": "431efb9b-fe42-4a6a-b677-c904ef32c6d4",
   "metadata": {
    "execution": {
     "iopub.execute_input": "2024-04-17T04:09:05.164963Z",
     "iopub.status.busy": "2024-04-17T04:09:05.164517Z",
     "iopub.status.idle": "2024-04-17T04:09:05.208140Z",
     "shell.execute_reply": "2024-04-17T04:09:05.207492Z"
    }
   },
   "outputs": [
    {
     "name": "stdout",
     "output_type": "stream",
     "text": [
      "Rows: 2,935,843\n",
      "Columns: 8\n",
      "Groups: year, month, day, shop_id, item_id, item_cnt_day [2,935,825]\n",
      "$ year         \u001b[3m\u001b[90m<dbl>\u001b[39m\u001b[23m 2013, 2013, 2013, 2013, 2013, 2013, 2013, 2013, 2013, 201…\n",
      "$ month        \u001b[3m\u001b[90m<dbl>\u001b[39m\u001b[23m 1, 1, 1, 1, 1, 1, 1, 1, 1, 1, 1, 1, 1, 1, 1, 1, 1, 1, 1, …\n",
      "$ day          \u001b[3m\u001b[90m<int>\u001b[39m\u001b[23m 1, 1, 1, 1, 1, 1, 1, 1, 1, 1, 1, 1, 1, 1, 1, 1, 1, 1, 1, …\n",
      "$ shop_id      \u001b[3m\u001b[90m<int>\u001b[39m\u001b[23m 2, 2, 2, 2, 2, 2, 2, 2, 2, 2, 2, 2, 2, 2, 2, 2, 2, 2, 2, …\n",
      "$ item_id      \u001b[3m\u001b[90m<int>\u001b[39m\u001b[23m 991, 1472, 1905, 2920, 3320, 4464, 4724, 5649, 6911, 6916…\n",
      "$ item_cnt_day \u001b[3m\u001b[90m<dbl>\u001b[39m\u001b[23m 1, 1, 1, 2, 1, 1, 1, 1, 1, 1, 1, 1, 1, 1, 1, 1, 1, 1, 1, …\n",
      "$ item_price   \u001b[3m\u001b[90m<dbl>\u001b[39m\u001b[23m 99.0, 2599.0, 249.0, 599.0, 1999.0, 599.0, 1399.0, 2190.0…\n",
      "$ total_sales  \u001b[3m\u001b[90m<dbl>\u001b[39m\u001b[23m 99.0, 2599.0, 249.0, 1198.0, 1999.0, 599.0, 1399.0, 2190.…\n"
     ]
    }
   ],
   "source": [
    "glimpse(monthly_sales)"
   ]
  },
  {
   "cell_type": "code",
   "execution_count": 9,
   "id": "b22111d8-fff9-4fac-aa32-3d8f03b14461",
   "metadata": {
    "execution": {
     "iopub.execute_input": "2024-04-17T04:09:05.209541Z",
     "iopub.status.busy": "2024-04-17T04:09:05.209078Z",
     "iopub.status.idle": "2024-04-17T04:09:11.473856Z",
     "shell.execute_reply": "2024-04-17T04:09:11.473268Z"
    },
    "scrolled": true
   },
   "outputs": [
    {
     "data": {
      "image/png": "[encoded data removed]",
      "text/plain": [
       "Plot with title “Boxplot before Removing Outliers”"
      ]
     },
     "metadata": {
      "image/png": {
       "height": 420,
       "width": 420
      }
     },
     "output_type": "display_data"
    },
    {
     "data": {
      "image/png": "[encoded data removed]",
      "text/plain": [
       "Plot with title “Boxplot after Removing Outliers”"
      ]
     },
     "metadata": {
      "image/png": {
       "height": 420,
       "width": 420
      }
     },
     "output_type": "display_data"
    }
   ],
   "source": [
    "Q1 <- quantile(monthly_sales$total_sales, 0.25)\n",
    "Q3 <- quantile(monthly_sales$total_sales, 0.75)\n",
    "IQR <- Q3 - Q1\n",
    "\n",
    "threshold <- 1.5 * IQR\n",
    "\n",
    "outliers <- monthly_sales$total_sales < (Q1 - threshold) | monthly_sales$total_sales > (Q3 + threshold)\n",
    "cleaned_dataset <- monthly_sales[!outliers, ]\n",
    "# cleaned_dataset <- cleaned_dataset[cleaned_dataset$total_sales >=0,]\n",
    "boxplot(monthly_sales$total_sales, main = \"Boxplot before Removing Outliers\")\n",
    "\n",
    "boxplot(cleaned_dataset$total_sales, main = \"Boxplot after Removing Outliers\")"
   ]
  },
  {
   "cell_type": "markdown",
   "id": "fc383cff-618a-469c-95dc-88276cf56750",
   "metadata": {},
   "source": [
    "# 2. Exploratory Data Analysis (EDA)"
   ]
  },
  {
   "cell_type": "code",
   "execution_count": 10,
   "id": "b81115fc-47e4-4dc6-83eb-e2830c6507a6",
   "metadata": {
    "execution": {
     "iopub.execute_input": "2024-04-17T04:09:11.475208Z",
     "iopub.status.busy": "2024-04-17T04:09:11.474761Z",
     "iopub.status.idle": "2024-04-17T04:09:11.500573Z",
     "shell.execute_reply": "2024-04-17T04:09:11.499965Z"
    },
    "scrolled": true
   },
   "outputs": [
    {
     "name": "stdout",
     "output_type": "stream",
     "text": [
      "Rows: 2,638,592\n",
      "Columns: 8\n",
      "Groups: year, month, day, shop_id, item_id, item_cnt_day [2,638,574]\n",
      "$ year         \u001b[3m\u001b[90m<dbl>\u001b[39m\u001b[23m 2013, 2013, 2013, 2013, 2013, 2013, 2013, 2013, 2013, 201…\n",
      "$ month        \u001b[3m\u001b[90m<dbl>\u001b[39m\u001b[23m 1, 1, 1, 1, 1, 1, 1, 1, 1, 1, 1, 1, 1, 1, 1, 1, 1, 1, 1, …\n",
      "$ day          \u001b[3m\u001b[90m<int>\u001b[39m\u001b[23m 1, 1, 1, 1, 1, 1, 1, 1, 1, 1, 1, 1, 1, 1, 1, 1, 1, 1, 1, …\n",
      "$ shop_id      \u001b[3m\u001b[90m<int>\u001b[39m\u001b[23m 2, 2, 2, 2, 2, 2, 2, 2, 2, 2, 2, 2, 2, 2, 2, 2, 2, 2, 2, …\n",
      "$ item_id      \u001b[3m\u001b[90m<int>\u001b[39m\u001b[23m 991, 1905, 2920, 3320, 4464, 4724, 5649, 6911, 6916, 8665…\n",
      "$ item_cnt_day \u001b[3m\u001b[90m<dbl>\u001b[39m\u001b[23m 1, 1, 2, 1, 1, 1, 1, 1, 1, 1, 1, 1, 1, 1, 1, 1, 1, 1, 1, …\n",
      "$ item_price   \u001b[3m\u001b[90m<dbl>\u001b[39m\u001b[23m 99.0, 249.0, 599.0, 1999.0, 599.0, 1399.0, 2190.0, 599.0,…\n",
      "$ total_sales  \u001b[3m\u001b[90m<dbl>\u001b[39m\u001b[23m 99.0, 249.0, 1198.0, 1999.0, 599.0, 1399.0, 2190.0, 599.0…\n"
     ]
    }
   ],
   "source": [
    "#cleaned_dataset$month <- as.factor(cleaned_dataset$month)\n",
    "glimpse(cleaned_dataset)"
   ]
  },
  {
   "cell_type": "code",
   "execution_count": 11,
   "id": "3bbd6608-4e78-4a11-8b3b-3bbd654e3c2a",
   "metadata": {
    "execution": {
     "iopub.execute_input": "2024-04-17T04:09:11.501896Z",
     "iopub.status.busy": "2024-04-17T04:09:11.501440Z",
     "iopub.status.idle": "2024-04-17T04:09:42.058701Z",
     "shell.execute_reply": "2024-04-17T04:09:42.058112Z"
    }
   },
   "outputs": [
    {
     "data": {
      "image/png": "[encoded data removed]",
      "text/plain": [
       "plot without title"
      ]
     },
     "metadata": {
      "image/png": {
       "height": 420,
       "width": 420
      }
     },
     "output_type": "display_data"
    },
    {
     "data": {
      "image/png": "[encoded data removed]",
      "text/plain": [
       "plot without title"
      ]
     },
     "metadata": {
      "image/png": {
       "height": 420,
       "width": 420
      }
     },
     "output_type": "display_data"
    }
   ],
   "source": [
    "ggplot(cleaned_dataset, aes(x = month, y = total_sales)) +\n",
    "  geom_point()\n",
    "\n",
    "ggplot(cleaned_dataset, aes(x = total_sales)) +\n",
    "  geom_histogram(binwidth = 1, fill = \"skyblue\", color = \"black\") +\n",
    "  labs(title = \"Histogram of Numerical Variable\")"
   ]
  },
  {
   "cell_type": "code",
   "execution_count": 12,
   "id": "4e1e7f28-5caf-4c41-b23e-ae2a78195223",
   "metadata": {
    "execution": {
     "iopub.execute_input": "2024-04-17T04:09:42.060045Z",
     "iopub.status.busy": "2024-04-17T04:09:42.059589Z",
     "iopub.status.idle": "2024-04-17T04:09:42.927181Z",
     "shell.execute_reply": "2024-04-17T04:09:42.926470Z"
    },
    "scrolled": true
   },
   "outputs": [
    {
     "data": {
      "text/html": [
       "<table class=\"dataframe\">\n",
       "<caption>A grouped_df: 6 × 7</caption>\n",
       "<thead>\n",
       "\t<tr><th scope=col>total_sales</th><th scope=col>shop_id</th><th scope=col>item_id</th><th scope=col>year</th><th scope=col>month</th><th scope=col>day</th><th scope=col>item_cnt_day</th></tr>\n",
       "\t<tr><th scope=col>&lt;int&gt;</th><th scope=col>&lt;int&gt;</th><th scope=col>&lt;int&gt;</th><th scope=col>&lt;int&gt;</th><th scope=col>&lt;int&gt;</th><th scope=col>&lt;int&gt;</th><th scope=col>&lt;dbl&gt;</th></tr>\n",
       "</thead>\n",
       "<tbody>\n",
       "\t<tr><td>  99</td><td>2</td><td> 991</td><td>2013</td><td>1</td><td>1</td><td>1</td></tr>\n",
       "\t<tr><td> 249</td><td>2</td><td>1905</td><td>2013</td><td>1</td><td>1</td><td>1</td></tr>\n",
       "\t<tr><td>1198</td><td>2</td><td>2920</td><td>2013</td><td>1</td><td>1</td><td>2</td></tr>\n",
       "\t<tr><td>1999</td><td>2</td><td>3320</td><td>2013</td><td>1</td><td>1</td><td>1</td></tr>\n",
       "\t<tr><td> 599</td><td>2</td><td>4464</td><td>2013</td><td>1</td><td>1</td><td>1</td></tr>\n",
       "\t<tr><td>1399</td><td>2</td><td>4724</td><td>2013</td><td>1</td><td>1</td><td>1</td></tr>\n",
       "</tbody>\n",
       "</table>\n"
      ],
      "text/latex": [
       "A grouped\\_df: 6 × 7\n",
       "\\begin{tabular}{lllllll}\n",
       " total\\_sales & shop\\_id & item\\_id & year & month & day & item\\_cnt\\_day\\\\\n",
       " <int> & <int> & <int> & <int> & <int> & <int> & <dbl>\\\\\n",
       "\\hline\n",
       "\t   99 & 2 &  991 & 2013 & 1 & 1 & 1\\\\\n",
       "\t  249 & 2 & 1905 & 2013 & 1 & 1 & 1\\\\\n",
       "\t 1198 & 2 & 2920 & 2013 & 1 & 1 & 2\\\\\n",
       "\t 1999 & 2 & 3320 & 2013 & 1 & 1 & 1\\\\\n",
       "\t  599 & 2 & 4464 & 2013 & 1 & 1 & 1\\\\\n",
       "\t 1399 & 2 & 4724 & 2013 & 1 & 1 & 1\\\\\n",
       "\\end{tabular}\n"
      ],
      "text/markdown": [
       "\n",
       "A grouped_df: 6 × 7\n",
       "\n",
       "| total_sales &lt;int&gt; | shop_id &lt;int&gt; | item_id &lt;int&gt; | year &lt;int&gt; | month &lt;int&gt; | day &lt;int&gt; | item_cnt_day &lt;dbl&gt; |\n",
       "|---|---|---|---|---|---|---|\n",
       "|   99 | 2 |  991 | 2013 | 1 | 1 | 1 |\n",
       "|  249 | 2 | 1905 | 2013 | 1 | 1 | 1 |\n",
       "| 1198 | 2 | 2920 | 2013 | 1 | 1 | 2 |\n",
       "| 1999 | 2 | 3320 | 2013 | 1 | 1 | 1 |\n",
       "|  599 | 2 | 4464 | 2013 | 1 | 1 | 1 |\n",
       "| 1399 | 2 | 4724 | 2013 | 1 | 1 | 1 |\n",
       "\n"
      ],
      "text/plain": [
       "  total_sales shop_id item_id year month day item_cnt_day\n",
       "1   99        2        991    2013 1     1   1           \n",
       "2  249        2       1905    2013 1     1   1           \n",
       "3 1198        2       2920    2013 1     1   2           \n",
       "4 1999        2       3320    2013 1     1   1           \n",
       "5  599        2       4464    2013 1     1   1           \n",
       "6 1399        2       4724    2013 1     1   1           "
      ]
     },
     "metadata": {},
     "output_type": "display_data"
    }
   ],
   "source": [
    "cleaned_dataset$total_sales <- as.integer(cleaned_dataset$total_sales)\n",
    "cleaned_dataset$year <- as.integer(cleaned_dataset$year)\n",
    "cleaned_dataset$month <- as.integer(cleaned_dataset$month)\n",
    "cleaned_dataset$day <- as.integer(cleaned_dataset$day)\n",
    "selected_columns <- c(\"total_sales\", \"shop_id\", \"item_id\",\"year\", \"month\", \"day\",\"item_cnt_day\")\n",
    "subset_data <- cleaned_dataset %>% select(all_of(selected_columns))\n",
    "head(subset_data)"
   ]
  },
  {
   "cell_type": "markdown",
   "id": "8bee1852-621a-47cc-bc10-2696f88b4925",
   "metadata": {},
   "source": [
    "## 2.1 Correlation "
   ]
  },
  {
   "cell_type": "code",
   "execution_count": 13,
   "id": "edae544a-9b28-40e7-ab32-f2a76241ecf6",
   "metadata": {
    "execution": {
     "iopub.execute_input": "2024-04-17T04:09:42.928579Z",
     "iopub.status.busy": "2024-04-17T04:09:42.928125Z",
     "iopub.status.idle": "2024-04-17T04:09:43.088820Z",
     "shell.execute_reply": "2024-04-17T04:09:43.088154Z"
    },
    "scrolled": true
   },
   "outputs": [
    {
     "name": "stdout",
     "output_type": "stream",
     "text": [
      "              total_sales      shop_id      item_id         year       month\n",
      "total_sales   1.000000000 -0.033204186 -0.240112146  0.083598378  0.02909994\n",
      "shop_id      -0.033204186  1.000000000  0.027668105  0.015517008  0.02546557\n",
      "item_id      -0.240112146  0.027668105  1.000000000  0.023899917  0.01032206\n",
      "year          0.083598378  0.015517008  0.023899917  1.000000000 -0.12910248\n",
      "month         0.029099941  0.025465568  0.010322062 -0.129102483  1.00000000\n",
      "day           0.008608964  0.000363224  0.000818515 -0.014375332  0.08673711\n",
      "item_cnt_day  0.019030416  0.001436620  0.053763706 -0.001594517  0.01086544\n",
      "                      day item_cnt_day\n",
      "total_sales   0.008608964  0.019030416\n",
      "shop_id       0.000363224  0.001436620\n",
      "item_id       0.000818515  0.053763706\n",
      "year         -0.014375332 -0.001594517\n",
      "month         0.086737112  0.010865441\n",
      "day           1.000000000  0.002514523\n",
      "item_cnt_day  0.002514523  1.000000000\n"
     ]
    }
   ],
   "source": [
    "correlation_matrix <- cor(subset_data)\n",
    "print(correlation_matrix)"
   ]
  },
  {
   "cell_type": "code",
   "execution_count": 14,
   "id": "081feb28-12ad-4c1e-bf60-635baf3286c6",
   "metadata": {
    "execution": {
     "iopub.execute_input": "2024-04-17T04:09:43.090245Z",
     "iopub.status.busy": "2024-04-17T04:09:43.089774Z",
     "iopub.status.idle": "2024-04-17T04:09:43.193756Z",
     "shell.execute_reply": "2024-04-17T04:09:43.193145Z"
    }
   },
   "outputs": [
    {
     "data": {
      "image/png": "[encoded data removed]",
      "text/plain": [
       "plot without title"
      ]
     },
     "metadata": {
      "image/png": {
       "height": 420,
       "width": 420
      }
     },
     "output_type": "display_data"
    }
   ],
   "source": [
    "ggplot(data = melt(correlation_matrix), aes(x = Var1, y = Var2, fill = value)) +\n",
    "  geom_tile() +\n",
    "  scale_fill_gradient2(low = \"blue\", mid = \"white\", high = \"red\", midpoint = 0) +\n",
    "  theme_minimal() +\n",
    "  labs(title = \"Correlation Heatmap\")"
   ]
  },
  {
   "cell_type": "markdown",
   "id": "7936cae3-e88b-457b-a75f-0ddf6f2ba9a2",
   "metadata": {},
   "source": [
    "## 2.2 Missing Values"
   ]
  },
  {
   "cell_type": "code",
   "execution_count": 15,
   "id": "d96c1c97-e7da-4d04-851f-1fe5e46aee1b",
   "metadata": {
    "execution": {
     "iopub.execute_input": "2024-04-17T04:09:43.195099Z",
     "iopub.status.busy": "2024-04-17T04:09:43.194653Z",
     "iopub.status.idle": "2024-04-17T04:09:43.366715Z",
     "shell.execute_reply": "2024-04-17T04:09:43.366048Z"
    },
    "scrolled": true
   },
   "outputs": [
    {
     "name": "stdout",
     "output_type": "stream",
     "text": [
      "        year        month          day      shop_id      item_id item_cnt_day \n",
      "           0            0            0            0            0            0 \n",
      "  item_price  total_sales \n",
      "           0            0 \n"
     ]
    }
   ],
   "source": [
    "na_count <- colSums(is.na(cleaned_dataset))\n",
    "print(na_count)"
   ]
  },
  {
   "cell_type": "code",
   "execution_count": 16,
   "id": "32480f0f-1cea-4957-a6d9-82645fc069b4",
   "metadata": {
    "execution": {
     "iopub.execute_input": "2024-04-17T04:09:43.368021Z",
     "iopub.status.busy": "2024-04-17T04:09:43.367584Z",
     "iopub.status.idle": "2024-04-17T04:09:45.644401Z",
     "shell.execute_reply": "2024-04-17T04:09:45.643735Z"
    }
   },
   "outputs": [
    {
     "data": {
      "image/png": "[encoded data removed]",
      "text/plain": [
       "plot without title"
      ]
     },
     "metadata": {
      "image/png": {
       "height": 420,
       "width": 420
      }
     },
     "output_type": "display_data"
    }
   ],
   "source": [
    "ggplot(cleaned_dataset, aes(y = total_sales)) +\n",
    "  geom_boxplot(fill = \"skyblue\", color = \"black\") +\n",
    "  labs(title = \"Boxplot of Numerical Variable\")"
   ]
  },
  {
   "cell_type": "markdown",
   "id": "acc59d7a-ec8f-432c-a1fb-674545e48bcc",
   "metadata": {},
   "source": [
    "## Descriptive Analytics"
   ]
  },
  {
   "cell_type": "code",
   "execution_count": 17,
   "id": "2b8bf0e8-7aec-43e2-b6a1-fd7e19af84fe",
   "metadata": {
    "execution": {
     "iopub.execute_input": "2024-04-17T04:09:45.645806Z",
     "iopub.status.busy": "2024-04-17T04:09:45.645353Z",
     "iopub.status.idle": "2024-04-17T04:09:45.676139Z",
     "shell.execute_reply": "2024-04-17T04:09:45.675453Z"
    }
   },
   "outputs": [
    {
     "data": {
      "text/plain": [
       "   Min. 1st Qu.  Median    Mean 3rd Qu.    Max. \n",
       "   0.00   22.00   31.00   33.15   48.00   59.00 "
      ]
     },
     "metadata": {},
     "output_type": "display_data"
    }
   ],
   "source": [
    "summary(cleaned_dataset$shop_id)"
   ]
  },
  {
   "cell_type": "code",
   "execution_count": 18,
   "id": "25797afc-7df1-474f-b407-e5102d9f5fa9",
   "metadata": {
    "execution": {
     "iopub.execute_input": "2024-04-17T04:09:45.677647Z",
     "iopub.status.busy": "2024-04-17T04:09:45.677186Z",
     "iopub.status.idle": "2024-04-17T04:09:45.729351Z",
     "shell.execute_reply": "2024-04-17T04:09:45.728677Z"
    }
   },
   "outputs": [
    {
     "data": {
      "text/plain": [
       "   Min. 1st Qu.  Median    Mean 3rd Qu.    Max. \n",
       " -993.0   229.0   399.0   597.6   799.0  2322.0 "
      ]
     },
     "metadata": {},
     "output_type": "display_data"
    }
   ],
   "source": [
    "summary(cleaned_dataset$total_sales)"
   ]
  },
  {
   "cell_type": "code",
   "execution_count": 19,
   "id": "c0766bd4-7abe-4b02-8578-5d27a59a5f8b",
   "metadata": {
    "execution": {
     "iopub.execute_input": "2024-04-17T04:09:45.730741Z",
     "iopub.status.busy": "2024-04-17T04:09:45.730283Z",
     "iopub.status.idle": "2024-04-17T04:09:45.782819Z",
     "shell.execute_reply": "2024-04-17T04:09:45.782183Z"
    }
   },
   "outputs": [
    {
     "data": {
      "image/png": "[encoded data removed]",
      "text/plain": [
       "Plot with title “Histogram of cleaned_dataset$shop_id”"
      ]
     },
     "metadata": {
      "image/png": {
       "height": 420,
       "width": 420
      }
     },
     "output_type": "display_data"
    }
   ],
   "source": [
    "hist(cleaned_dataset$shop_id)"
   ]
  },
  {
   "cell_type": "code",
   "execution_count": 20,
   "id": "d7dea9e8-c4ce-4b90-932f-5600bd79a3cb",
   "metadata": {
    "execution": {
     "iopub.execute_input": "2024-04-17T04:09:45.784246Z",
     "iopub.status.busy": "2024-04-17T04:09:45.783755Z",
     "iopub.status.idle": "2024-04-17T04:09:45.866255Z",
     "shell.execute_reply": "2024-04-17T04:09:45.865653Z"
    }
   },
   "outputs": [
    {
     "data": {
      "image/png": "[encoded data removed]",
      "text/plain": [
       "Plot with title “Mean Total Sales by Month”"
      ]
     },
     "metadata": {
      "image/png": {
       "height": 420,
       "width": 420
      }
     },
     "output_type": "display_data"
    }
   ],
   "source": [
    "mean_y <- tapply(cleaned_dataset$total_sales, cleaned_dataset$month, mean)\n",
    "\n",
    "barplot(mean_y, main = \"Mean Total Sales by Month\", \n",
    "        xlab = \"months\", ylab = \"total_sales\", col = \"skyblue\")"
   ]
  },
  {
   "cell_type": "code",
   "execution_count": 21,
   "id": "9ec062c1-1d8f-45d0-80a5-a97b3bbf5a0b",
   "metadata": {
    "execution": {
     "iopub.execute_input": "2024-04-17T04:09:45.867582Z",
     "iopub.status.busy": "2024-04-17T04:09:45.867141Z",
     "iopub.status.idle": "2024-04-17T04:09:45.872553Z",
     "shell.execute_reply": "2024-04-17T04:09:45.871965Z"
    }
   },
   "outputs": [
    {
     "data": {
      "text/html": [
       "2638592"
      ],
      "text/latex": [
       "2638592"
      ],
      "text/markdown": [
       "2638592"
      ],
      "text/plain": [
       "[1] 2638592"
      ]
     },
     "metadata": {},
     "output_type": "display_data"
    }
   ],
   "source": [
    "nrow(subset_data)"
   ]
  },
  {
   "cell_type": "markdown",
   "id": "9460d71d-411e-4f8a-af11-fc5f12d4a975",
   "metadata": {},
   "source": [
    "## Machine Learning"
   ]
  },
  {
   "cell_type": "markdown",
   "id": "37b2f93b-1e46-4d18-a308-87700ca211e2",
   "metadata": {},
   "source": [
    "## 1. Random Forest"
   ]
  },
  {
   "cell_type": "code",
   "execution_count": 22,
   "id": "01d47899-47f1-4b23-bffc-e846f595a705",
   "metadata": {
    "execution": {
     "iopub.execute_input": "2024-04-17T04:09:45.873878Z",
     "iopub.status.busy": "2024-04-17T04:09:45.873456Z",
     "iopub.status.idle": "2024-04-17T04:09:46.184756Z",
     "shell.execute_reply": "2024-04-17T04:09:46.184073Z"
    }
   },
   "outputs": [
    {
     "name": "stderr",
     "output_type": "stream",
     "text": [
      "randomForest 4.7-1.1\n",
      "\n",
      "Type rfNews() to see new features/changes/bug fixes.\n",
      "\n",
      "\n",
      "Attaching package: ‘randomForest’\n",
      "\n",
      "\n",
      "The following object is masked from ‘package:ggplot2’:\n",
      "\n",
      "    margin\n",
      "\n",
      "\n",
      "The following object is masked from ‘package:dplyr’:\n",
      "\n",
      "    combine\n",
      "\n",
      "\n",
      "Loading required package: foreach\n",
      "\n",
      "Loading required package: iterators\n",
      "\n",
      "Loading required package: parallel\n",
      "\n"
     ]
    }
   ],
   "source": [
    "library(randomForest)\n",
    "library(doParallel)\n",
    "\n",
    "num_cores <- 10\n",
    "cl <- makeCluster(num_cores)\n",
    "registerDoParallel(cl)"
   ]
  },
  {
   "cell_type": "code",
   "execution_count": 23,
   "id": "9ff40268-c3b4-4bb1-9c0f-52d08110a1e3",
   "metadata": {
    "execution": {
     "iopub.execute_input": "2024-04-17T04:09:46.186168Z",
     "iopub.status.busy": "2024-04-17T04:09:46.185712Z",
     "iopub.status.idle": "2024-04-17T04:09:47.015867Z",
     "shell.execute_reply": "2024-04-17T04:09:47.015170Z"
    }
   },
   "outputs": [],
   "source": [
    "train_index <- sample(1:nrow(subset_data),0.8*nrow(subset_data))\n",
    "train_set <- subset_data[train_index,]\n",
    "test_set <- subset_data[-train_index,]\n",
    "\n",
    "# train_set$year <- as.numeric(train_set$year)\n",
    "# train_set$month <- as.numeric(train_set$month)\n",
    "# test_set$year <- as.numeric(test_set$year)\n",
    "# test_set$month <- as.numeric(test_set$month)\n",
    "\n",
    "subset_indices <- sample(1:nrow(train_set), 300000)\n",
    "subset_data <- train_set[subset_indices, ]\n",
    "\n",
    "\n",
    "subset_index <- sample(1:nrow(test_set),1000)\n",
    "subset_test <- test_set[subset_index, ]\n",
    "\n",
    "# boxplot(monthly_sales$total_sales, main = \"Boxplot before Removing Outliers\")\n",
    "\n",
    "# boxplot(subset_data$total_sales, main = \"Boxplot after Removing Outliers\")"
   ]
  },
  {
   "cell_type": "code",
   "execution_count": 24,
   "id": "b6836efc-185a-41d8-a934-40ce90847092",
   "metadata": {
    "execution": {
     "iopub.execute_input": "2024-04-17T04:09:47.017223Z",
     "iopub.status.busy": "2024-04-17T04:09:47.016769Z",
     "iopub.status.idle": "2024-04-17T04:09:47.055434Z",
     "shell.execute_reply": "2024-04-17T04:09:47.054770Z"
    }
   },
   "outputs": [],
   "source": [
    "predictor_variable <- as.matrix(subset_data[,c(\"year\",\"month\",\"day\",\"shop_id\",\"item_id\")])\n",
    "test_predictor <- as.matrix(subset_test[,c(\"year\",\"month\",\"day\",\"shop_id\",\"item_id\")])\n",
    "target_test <- as.matrix(subset_test$total_sales)\n",
    "target_variable <- as.matrix(subset_data$total_sales)"
   ]
  },
  {
   "cell_type": "code",
   "execution_count": 26,
   "id": "ce4e7301-9bfb-4423-b951-dcad8a3dba8a",
   "metadata": {
    "execution": {
     "iopub.execute_input": "2024-04-16T05:28:05.507699Z",
     "iopub.status.busy": "2024-04-16T05:28:05.507261Z",
     "iopub.status.idle": "2024-04-16T05:43:05.337729Z",
     "shell.execute_reply": "2024-04-16T05:43:05.332156Z"
    }
   },
   "outputs": [],
   "source": [
    "rf_model <- randomForest(x=subset_data[,c(\"year\",\"month\",\"day\",\"shop_id\",\"item_id\")],y=subset_data$total_sales,ntrees=5,cluster=cl)"
   ]
  },
  {
   "cell_type": "code",
   "execution_count": 29,
   "id": "93626aab-2bad-431e-a495-fe104172fd32",
   "metadata": {
    "execution": {
     "iopub.execute_input": "2024-04-16T06:10:08.818742Z",
     "iopub.status.busy": "2024-04-16T06:10:08.816242Z",
     "iopub.status.idle": "2024-04-16T06:10:09.177280Z",
     "shell.execute_reply": "2024-04-16T06:10:09.176429Z"
    }
   },
   "outputs": [
    {
     "data": {
      "text/html": [
       "463.192446845478"
      ],
      "text/latex": [
       "463.192446845478"
      ],
      "text/markdown": [
       "463.192446845478"
      ],
      "text/plain": [
       "[1] 463.1924"
      ]
     },
     "metadata": {},
     "output_type": "display_data"
    }
   ],
   "source": [
    "predictions <- predict(rf_model, newdata = test_predictor)\n",
    "rmse <- sqrt(mean((predictions - target_test)^2))\n",
    "rmse"
   ]
  },
  {
   "cell_type": "markdown",
   "id": "b4c0ae7d-05e6-4548-8f0e-c25cd1aedc0b",
   "metadata": {},
   "source": [
    "## 2. ranger"
   ]
  },
  {
   "cell_type": "code",
   "execution_count": 25,
   "id": "f52ba28f-624a-49a2-a40a-876231fb55a1",
   "metadata": {
    "execution": {
     "iopub.execute_input": "2024-04-17T04:09:47.056730Z",
     "iopub.status.busy": "2024-04-17T04:09:47.056298Z",
     "iopub.status.idle": "2024-04-17T04:09:47.359620Z",
     "shell.execute_reply": "2024-04-17T04:09:47.358912Z"
    }
   },
   "outputs": [
    {
     "name": "stderr",
     "output_type": "stream",
     "text": [
      "\n",
      "Attaching package: ‘ranger’\n",
      "\n",
      "\n",
      "The following object is masked from ‘package:randomForest’:\n",
      "\n",
      "    importance\n",
      "\n",
      "\n"
     ]
    }
   ],
   "source": [
    "library(ranger)"
   ]
  },
  {
   "cell_type": "code",
   "execution_count": 26,
   "id": "12d36560-da35-4add-bbdc-c72ddeef9658",
   "metadata": {
    "execution": {
     "iopub.execute_input": "2024-04-17T04:09:47.361058Z",
     "iopub.status.busy": "2024-04-17T04:09:47.360571Z",
     "iopub.status.idle": "2024-04-17T04:10:20.757235Z",
     "shell.execute_reply": "2024-04-17T04:10:20.753731Z"
    }
   },
   "outputs": [],
   "source": [
    "rf_model_parallel <- ranger(x=predictor_variable,y=target_variable,num.tree=1000,max.depth=100,num.threads=detectCores())"
   ]
  },
  {
   "cell_type": "code",
   "execution_count": 27,
   "id": "7887b184-879d-4c46-9488-6725e430effd",
   "metadata": {
    "execution": {
     "iopub.execute_input": "2024-04-17T04:10:20.758905Z",
     "iopub.status.busy": "2024-04-17T04:10:20.758346Z",
     "iopub.status.idle": "2024-04-17T04:10:24.146275Z",
     "shell.execute_reply": "2024-04-17T04:10:24.145477Z"
    }
   },
   "outputs": [
    {
     "name": "stdout",
     "output_type": "stream",
     "text": [
      "[1] \"RMSE using ranger library (randomForest):  402.37725270585\"\n"
     ]
    }
   ],
   "source": [
    "predictions <- predict(rf_model_parallel, data = test_predictor)$predictions\n",
    "rmse <- sqrt(mean((target_test - predictions)^2))\n",
    "print(paste(\"RMSE using ranger library (randomForest): \",rmse))"
   ]
  },
  {
   "cell_type": "code",
   "execution_count": 29,
   "id": "1cccd716-8f35-443c-995b-2802951f8be9",
   "metadata": {
    "execution": {
     "iopub.execute_input": "2024-04-17T04:13:06.531693Z",
     "iopub.status.busy": "2024-04-17T04:13:06.530144Z",
     "iopub.status.idle": "2024-04-17T04:14:57.919900Z",
     "shell.execute_reply": "2024-04-17T04:14:57.918603Z"
    }
   },
   "outputs": [
    {
     "name": "stdout",
     "output_type": "stream",
     "text": [
      "[1] \"RMSE using ranger library (randomForest) with number of trees  100  and depth  20  :  415.321841431599\"\n",
      "[1] \"RMSE using ranger library (randomForest) with number of trees  100  and depth  50  :  404.235540919602\"\n",
      "[1] \"RMSE using ranger library (randomForest) with number of trees  100  and depth  70  :  405.026895575782\"\n",
      "[1] \"RMSE using ranger library (randomForest) with number of trees  100  and depth  100  :  404.217087468705\"\n",
      "[1] \"RMSE using ranger library (randomForest) with number of trees  400  and depth  20  :  415.239843852667\"\n",
      "[1] \"RMSE using ranger library (randomForest) with number of trees  400  and depth  50  :  403.81459707779\"\n",
      "[1] \"RMSE using ranger library (randomForest) with number of trees  400  and depth  70  :  403.567320492724\"\n",
      "[1] \"RMSE using ranger library (randomForest) with number of trees  400  and depth  100  :  404.845585833223\"\n",
      "[1] \"RMSE using ranger library (randomForest) with number of trees  500  and depth  20  :  415.37680712673\"\n",
      "[1] \"RMSE using ranger library (randomForest) with number of trees  500  and depth  50  :  403.950397456688\"\n",
      "[1] \"RMSE using ranger library (randomForest) with number of trees  500  and depth  70  :  404.266598785955\"\n",
      "[1] \"RMSE using ranger library (randomForest) with number of trees  500  and depth  100  :  403.5211458096\"\n"
     ]
    }
   ],
   "source": [
    "trees = c(100,400,500)\n",
    "depths = c(20,50,70,100)\n",
    "for(tree in trees){\n",
    "    for (depth in depths){\n",
    "        rf_model_parallel <- ranger(x=predictor_variable,y=target_variable,num.tree=tree,max.depth=depth,num.threads=detectCores())\n",
    "        predictions <- predict(rf_model_parallel, data = test_predictor)$predictions\n",
    "        rmse <- sqrt(mean((target_test - predictions)^2))\n",
    "        print(paste(\"RMSE using ranger library (randomForest) with number of trees \",tree,\" and depth \",depth,\" : \",rmse))\n",
    "    }\n",
    "}"
   ]
  },
  {
   "cell_type": "markdown",
   "id": "84654bba-c4e6-436c-a551-f53755821970",
   "metadata": {},
   "source": [
    "## Gradient Boosting"
   ]
  },
  {
   "cell_type": "code",
   "execution_count": 31,
   "id": "e87dd6b7-0253-42c6-b99c-3574ececa767",
   "metadata": {
    "execution": {
     "iopub.execute_input": "2024-04-17T04:43:29.004626Z",
     "iopub.status.busy": "2024-04-17T04:43:29.003299Z",
     "iopub.status.idle": "2024-04-17T04:43:29.085937Z",
     "shell.execute_reply": "2024-04-17T04:43:29.085140Z"
    }
   },
   "outputs": [
    {
     "name": "stderr",
     "output_type": "stream",
     "text": [
      "\n",
      "Attaching package: ‘xgboost’\n",
      "\n",
      "\n",
      "The following object is masked from ‘package:dplyr’:\n",
      "\n",
      "    slice\n",
      "\n",
      "\n"
     ]
    }
   ],
   "source": [
    "library(xgboost)"
   ]
  },
  {
   "cell_type": "code",
   "execution_count": 47,
   "id": "067a964c-f9b9-4338-92be-0534d8e15279",
   "metadata": {
    "execution": {
     "iopub.execute_input": "2024-04-16T06:22:28.603111Z",
     "iopub.status.busy": "2024-04-16T06:22:28.602516Z",
     "iopub.status.idle": "2024-04-16T06:23:52.625714Z",
     "shell.execute_reply": "2024-04-16T06:23:52.624922Z"
    },
    "scrolled": true
   },
   "outputs": [
    {
     "name": "stdout",
     "output_type": "stream",
     "text": [
      "[1]\ttrain-rmse:580.276856 \n",
      "[2]\ttrain-rmse:439.044224 \n",
      "[3]\ttrain-rmse:381.614368 \n",
      "[4]\ttrain-rmse:309.395651 \n",
      "[5]\ttrain-rmse:259.732565 \n",
      "[6]\ttrain-rmse:245.465123 \n",
      "[7]\ttrain-rmse:215.829280 \n",
      "[8]\ttrain-rmse:195.961745 \n",
      "[9]\ttrain-rmse:179.918026 \n",
      "[10]\ttrain-rmse:168.621781 \n",
      "[11]\ttrain-rmse:160.734685 \n",
      "[12]\ttrain-rmse:154.220380 \n",
      "[13]\ttrain-rmse:153.787308 \n",
      "[14]\ttrain-rmse:153.569405 \n",
      "[15]\ttrain-rmse:148.388932 \n",
      "[16]\ttrain-rmse:147.293529 \n",
      "[17]\ttrain-rmse:141.203035 \n",
      "[18]\ttrain-rmse:137.295343 \n",
      "[19]\ttrain-rmse:133.114440 \n",
      "[20]\ttrain-rmse:132.782102 \n",
      "[21]\ttrain-rmse:130.077129 \n",
      "[22]\ttrain-rmse:128.405897 \n",
      "[23]\ttrain-rmse:125.350113 \n",
      "[24]\ttrain-rmse:123.527465 \n",
      "[25]\ttrain-rmse:121.563319 \n",
      "[26]\ttrain-rmse:119.801493 \n",
      "[27]\ttrain-rmse:119.080351 \n",
      "[28]\ttrain-rmse:117.739125 \n",
      "[29]\ttrain-rmse:117.701229 \n",
      "[30]\ttrain-rmse:117.598393 \n",
      "[31]\ttrain-rmse:115.352635 \n",
      "[32]\ttrain-rmse:113.191434 \n",
      "[33]\ttrain-rmse:113.171877 \n",
      "[34]\ttrain-rmse:112.558939 \n",
      "[35]\ttrain-rmse:112.060078 \n",
      "[36]\ttrain-rmse:111.237725 \n",
      "[37]\ttrain-rmse:110.894584 \n",
      "[38]\ttrain-rmse:109.928261 \n",
      "[39]\ttrain-rmse:109.918578 \n",
      "[40]\ttrain-rmse:108.842096 \n",
      "[41]\ttrain-rmse:108.800411 \n",
      "[42]\ttrain-rmse:107.055058 \n",
      "[43]\ttrain-rmse:106.853768 \n",
      "[44]\ttrain-rmse:106.724192 \n",
      "[45]\ttrain-rmse:104.724096 \n",
      "[46]\ttrain-rmse:104.704840 \n",
      "[47]\ttrain-rmse:103.351823 \n",
      "[48]\ttrain-rmse:103.218829 \n",
      "[49]\ttrain-rmse:102.268845 \n",
      "[50]\ttrain-rmse:101.524126 \n",
      "[51]\ttrain-rmse:101.186032 \n",
      "[52]\ttrain-rmse:101.176801 \n",
      "[53]\ttrain-rmse:101.166812 \n",
      "[54]\ttrain-rmse:99.473227 \n",
      "[55]\ttrain-rmse:99.468255 \n",
      "[56]\ttrain-rmse:99.462850 \n",
      "[57]\ttrain-rmse:98.693778 \n",
      "[58]\ttrain-rmse:98.437700 \n",
      "[59]\ttrain-rmse:96.466221 \n",
      "[60]\ttrain-rmse:95.238336 \n",
      "[61]\ttrain-rmse:94.658845 \n",
      "[62]\ttrain-rmse:94.402367 \n",
      "[63]\ttrain-rmse:94.397252 \n",
      "[64]\ttrain-rmse:94.393146 \n",
      "[65]\ttrain-rmse:93.867856 \n",
      "[66]\ttrain-rmse:93.801272 \n",
      "[67]\ttrain-rmse:93.764141 \n",
      "[68]\ttrain-rmse:93.407647 \n",
      "[69]\ttrain-rmse:92.613129 \n",
      "[70]\ttrain-rmse:91.086690 \n",
      "[71]\ttrain-rmse:90.374997 \n",
      "[72]\ttrain-rmse:90.352948 \n",
      "[73]\ttrain-rmse:89.984660 \n",
      "[74]\ttrain-rmse:89.440036 \n",
      "[75]\ttrain-rmse:89.252591 \n",
      "[76]\ttrain-rmse:87.893833 \n",
      "[77]\ttrain-rmse:87.057143 \n",
      "[78]\ttrain-rmse:85.852324 \n",
      "[79]\ttrain-rmse:85.424992 \n",
      "[80]\ttrain-rmse:84.974253 \n",
      "[81]\ttrain-rmse:84.966561 \n",
      "[82]\ttrain-rmse:83.674109 \n",
      "[83]\ttrain-rmse:83.441052 \n",
      "[84]\ttrain-rmse:83.419019 \n",
      "[85]\ttrain-rmse:83.283317 \n",
      "[86]\ttrain-rmse:83.031366 \n",
      "[87]\ttrain-rmse:82.870774 \n",
      "[88]\ttrain-rmse:82.308060 \n",
      "[89]\ttrain-rmse:80.309873 \n",
      "[90]\ttrain-rmse:79.860043 \n",
      "[91]\ttrain-rmse:78.952569 \n",
      "[92]\ttrain-rmse:78.933699 \n",
      "[93]\ttrain-rmse:78.029008 \n",
      "[94]\ttrain-rmse:76.169481 \n",
      "[95]\ttrain-rmse:75.534332 \n",
      "[96]\ttrain-rmse:75.526808 \n",
      "[97]\ttrain-rmse:75.343653 \n",
      "[98]\ttrain-rmse:75.340418 \n",
      "[99]\ttrain-rmse:74.132823 \n",
      "[100]\ttrain-rmse:73.747815 \n"
     ]
    }
   ],
   "source": [
    "xgb_params <- list(\n",
    "    objective=\"reg:squarederror\",\n",
    "    eta=0.3,\n",
    "    max_depth = 20,\n",
    "    subsample=0.8,\n",
    "    colsample_bytree=0.7\n",
    ")\n",
    "xgb_model <- xgboost(data=predictor_variable,label=target_variable,params=xgb_params,nrounds=100,nthread=detectCores())"
   ]
  },
  {
   "cell_type": "code",
   "execution_count": 51,
   "id": "a51c4afb-e42b-498d-bb81-fd48663ec5f2",
   "metadata": {
    "execution": {
     "iopub.execute_input": "2024-04-16T06:24:36.577913Z",
     "iopub.status.busy": "2024-04-16T06:24:36.577301Z",
     "iopub.status.idle": "2024-04-16T06:24:36.595174Z",
     "shell.execute_reply": "2024-04-16T06:24:36.594269Z"
    }
   },
   "outputs": [
    {
     "name": "stdout",
     "output_type": "stream",
     "text": [
      "[1] \"RMSE using ranger library (XGBoost):  203.537685192535\"\n"
     ]
    }
   ],
   "source": [
    "predictions <- predict(xgb_model, newdata = test_predictor)\n",
    "rmse <- sqrt(mean((target_test - predictions)^2))\n",
    "print(paste(\"RMSE using ranger library (XGBoost): \",rmse))"
   ]
  },
  {
   "cell_type": "code",
   "execution_count": 32,
   "id": "f0ead819-4bb0-48dc-a035-940973ff1403",
   "metadata": {
    "execution": {
     "iopub.execute_input": "2024-04-17T04:43:32.590497Z",
     "iopub.status.busy": "2024-04-17T04:43:32.589213Z",
     "iopub.status.idle": "2024-04-17T04:48:30.168641Z",
     "shell.execute_reply": "2024-04-17T04:48:30.166991Z"
    }
   },
   "outputs": [
    {
     "name": "stdout",
     "output_type": "stream",
     "text": [
      "[1]\ttrain-rmse:657.958642 \n",
      "[2]\ttrain-rmse:585.322740 \n",
      "[3]\ttrain-rmse:493.747857 \n",
      "[4]\ttrain-rmse:470.655086 \n",
      "[5]\ttrain-rmse:458.494258 \n",
      "[6]\ttrain-rmse:452.298808 \n",
      "[7]\ttrain-rmse:417.053086 \n",
      "[8]\ttrain-rmse:393.288021 \n",
      "[9]\ttrain-rmse:381.129846 \n",
      "[10]\ttrain-rmse:366.514404 \n",
      "[11]\ttrain-rmse:365.986860 \n",
      "[12]\ttrain-rmse:365.395567 \n",
      "[13]\ttrain-rmse:358.950311 \n",
      "[14]\ttrain-rmse:348.416864 \n",
      "[15]\ttrain-rmse:340.293463 \n",
      "[16]\ttrain-rmse:339.937942 \n",
      "[17]\ttrain-rmse:339.724962 \n",
      "[18]\ttrain-rmse:334.616345 \n",
      "[19]\ttrain-rmse:328.166306 \n",
      "[20]\ttrain-rmse:322.322060 \n",
      "[21]\ttrain-rmse:314.572251 \n",
      "[22]\ttrain-rmse:311.387257 \n",
      "[23]\ttrain-rmse:311.267572 \n",
      "[24]\ttrain-rmse:310.953095 \n",
      "[25]\ttrain-rmse:308.324988 \n",
      "[26]\ttrain-rmse:307.145137 \n",
      "[27]\ttrain-rmse:307.080606 \n",
      "[28]\ttrain-rmse:307.042655 \n",
      "[29]\ttrain-rmse:307.011371 \n",
      "[30]\ttrain-rmse:306.661842 \n",
      "[31]\ttrain-rmse:303.612177 \n",
      "[32]\ttrain-rmse:303.543476 \n",
      "[33]\ttrain-rmse:300.101743 \n",
      "[34]\ttrain-rmse:298.137627 \n",
      "[35]\ttrain-rmse:297.817470 \n",
      "[36]\ttrain-rmse:296.113948 \n",
      "[37]\ttrain-rmse:292.865176 \n",
      "[38]\ttrain-rmse:292.827912 \n",
      "[39]\ttrain-rmse:292.577016 \n",
      "[40]\ttrain-rmse:292.243516 \n",
      "[41]\ttrain-rmse:289.932326 \n",
      "[42]\ttrain-rmse:289.184329 \n",
      "[43]\ttrain-rmse:286.998180 \n",
      "[44]\ttrain-rmse:286.981145 \n",
      "[45]\ttrain-rmse:283.402993 \n",
      "[46]\ttrain-rmse:280.144476 \n",
      "[47]\ttrain-rmse:278.160808 \n",
      "[48]\ttrain-rmse:276.320419 \n",
      "[49]\ttrain-rmse:274.063853 \n",
      "[50]\ttrain-rmse:272.628666 \n",
      "[51]\ttrain-rmse:270.717515 \n",
      "[52]\ttrain-rmse:268.932819 \n",
      "[53]\ttrain-rmse:266.822903 \n",
      "[54]\ttrain-rmse:265.324676 \n",
      "[55]\ttrain-rmse:265.289983 \n",
      "[56]\ttrain-rmse:265.106747 \n",
      "[57]\ttrain-rmse:264.420091 \n",
      "[58]\ttrain-rmse:263.825109 \n",
      "[59]\ttrain-rmse:263.643141 \n",
      "[60]\ttrain-rmse:263.588743 \n",
      "[61]\ttrain-rmse:262.317594 \n",
      "[62]\ttrain-rmse:261.409129 \n",
      "[63]\ttrain-rmse:258.871438 \n",
      "[64]\ttrain-rmse:257.431335 \n",
      "[65]\ttrain-rmse:256.360990 \n",
      "[66]\ttrain-rmse:255.807466 \n",
      "[67]\ttrain-rmse:255.709876 \n",
      "[68]\ttrain-rmse:254.766069 \n",
      "[69]\ttrain-rmse:254.715264 \n",
      "[70]\ttrain-rmse:254.493582 \n",
      "[71]\ttrain-rmse:254.414769 \n",
      "[72]\ttrain-rmse:254.369038 \n",
      "[73]\ttrain-rmse:254.304004 \n",
      "[74]\ttrain-rmse:254.155910 \n",
      "[75]\ttrain-rmse:252.197770 \n",
      "[76]\ttrain-rmse:251.191825 \n",
      "[77]\ttrain-rmse:250.530271 \n",
      "[78]\ttrain-rmse:250.465666 \n",
      "[79]\ttrain-rmse:250.270160 \n",
      "[80]\ttrain-rmse:250.215468 \n",
      "[81]\ttrain-rmse:250.170295 \n",
      "[82]\ttrain-rmse:250.150847 \n",
      "[83]\ttrain-rmse:250.038980 \n",
      "[84]\ttrain-rmse:249.435134 \n",
      "[85]\ttrain-rmse:249.411850 \n",
      "[86]\ttrain-rmse:249.401698 \n",
      "[87]\ttrain-rmse:248.596391 \n",
      "[88]\ttrain-rmse:248.127400 \n",
      "[89]\ttrain-rmse:248.103809 \n",
      "[90]\ttrain-rmse:247.243685 \n",
      "[91]\ttrain-rmse:246.954285 \n",
      "[92]\ttrain-rmse:246.934613 \n",
      "[93]\ttrain-rmse:246.016235 \n",
      "[94]\ttrain-rmse:245.145330 \n",
      "[95]\ttrain-rmse:245.105492 \n",
      "[96]\ttrain-rmse:245.081366 \n",
      "[97]\ttrain-rmse:244.676048 \n",
      "[98]\ttrain-rmse:244.515139 \n",
      "[99]\ttrain-rmse:243.725577 \n",
      "[100]\ttrain-rmse:243.075298 \n",
      "[1] \"RMSE using ranger library (XGBoost) with depth  10  :  264.734788589339\"\n",
      "[1]\ttrain-rmse:657.257711 \n",
      "[2]\ttrain-rmse:493.142948 \n",
      "[3]\ttrain-rmse:380.698789 \n",
      "[4]\ttrain-rmse:348.480381 \n",
      "[5]\ttrain-rmse:287.490078 \n",
      "[6]\ttrain-rmse:244.907371 \n",
      "[7]\ttrain-rmse:238.300725 \n",
      "[8]\ttrain-rmse:211.402892 \n",
      "[9]\ttrain-rmse:193.617066 \n",
      "[10]\ttrain-rmse:192.055617 \n",
      "[11]\ttrain-rmse:191.264523 \n",
      "[12]\ttrain-rmse:180.053962 \n",
      "[13]\ttrain-rmse:171.752390 \n",
      "[14]\ttrain-rmse:171.459184 \n",
      "[15]\ttrain-rmse:171.189932 \n",
      "[16]\ttrain-rmse:169.421998 \n",
      "[17]\ttrain-rmse:168.402266 \n",
      "[18]\ttrain-rmse:159.023976 \n",
      "[19]\ttrain-rmse:158.410434 \n",
      "[20]\ttrain-rmse:158.318351 \n",
      "[21]\ttrain-rmse:158.275269 \n",
      "[22]\ttrain-rmse:157.909159 \n",
      "[23]\ttrain-rmse:157.846224 \n",
      "[24]\ttrain-rmse:150.105673 \n",
      "[25]\ttrain-rmse:145.139100 \n",
      "[26]\ttrain-rmse:140.814147 \n",
      "[27]\ttrain-rmse:140.754390 \n",
      "[28]\ttrain-rmse:140.724454 \n",
      "[29]\ttrain-rmse:136.977506 \n",
      "[30]\ttrain-rmse:136.923045 \n",
      "[31]\ttrain-rmse:133.671188 \n",
      "[32]\ttrain-rmse:131.617037 \n",
      "[33]\ttrain-rmse:128.616476 \n",
      "[34]\ttrain-rmse:128.358236 \n",
      "[35]\ttrain-rmse:126.732731 \n",
      "[36]\ttrain-rmse:122.507101 \n",
      "[37]\ttrain-rmse:122.474643 \n",
      "[38]\ttrain-rmse:121.317948 \n",
      "[39]\ttrain-rmse:120.446811 \n",
      "[40]\ttrain-rmse:117.772254 \n",
      "[41]\ttrain-rmse:116.559582 \n",
      "[42]\ttrain-rmse:114.910939 \n",
      "[43]\ttrain-rmse:113.513646 \n",
      "[44]\ttrain-rmse:112.776216 \n",
      "[45]\ttrain-rmse:112.752649 \n",
      "[46]\ttrain-rmse:110.334178 \n",
      "[47]\ttrain-rmse:110.318647 \n",
      "[48]\ttrain-rmse:108.178898 \n",
      "[49]\ttrain-rmse:107.343247 \n",
      "[50]\ttrain-rmse:106.167515 \n",
      "[51]\ttrain-rmse:103.681980 \n",
      "[52]\ttrain-rmse:103.614144 \n",
      "[53]\ttrain-rmse:102.566866 \n",
      "[54]\ttrain-rmse:102.531535 \n",
      "[55]\ttrain-rmse:102.523352 \n",
      "[56]\ttrain-rmse:101.803271 \n",
      "[57]\ttrain-rmse:100.485388 \n",
      "[58]\ttrain-rmse:99.259306 \n",
      "[59]\ttrain-rmse:99.252883 \n",
      "[60]\ttrain-rmse:99.226507 \n",
      "[61]\ttrain-rmse:99.222655 \n",
      "[62]\ttrain-rmse:99.011145 \n",
      "[63]\ttrain-rmse:98.905982 \n",
      "[64]\ttrain-rmse:98.895095 \n",
      "[65]\ttrain-rmse:97.622334 \n",
      "[66]\ttrain-rmse:97.004466 \n",
      "[67]\ttrain-rmse:95.590659 \n",
      "[68]\ttrain-rmse:95.216605 \n",
      "[69]\ttrain-rmse:94.496866 \n",
      "[70]\ttrain-rmse:94.474018 \n",
      "[71]\ttrain-rmse:94.463465 \n",
      "[72]\ttrain-rmse:94.202161 \n",
      "[73]\ttrain-rmse:93.771466 \n",
      "[74]\ttrain-rmse:92.782197 \n",
      "[75]\ttrain-rmse:92.697349 \n",
      "[76]\ttrain-rmse:92.684829 \n",
      "[77]\ttrain-rmse:91.228804 \n",
      "[78]\ttrain-rmse:90.230642 \n",
      "[79]\ttrain-rmse:90.224047 \n",
      "[80]\ttrain-rmse:90.211565 \n",
      "[81]\ttrain-rmse:89.804689 \n",
      "[82]\ttrain-rmse:89.440310 \n",
      "[83]\ttrain-rmse:89.432891 \n",
      "[84]\ttrain-rmse:89.273592 \n",
      "[85]\ttrain-rmse:88.589217 \n",
      "[86]\ttrain-rmse:88.585506 \n",
      "[87]\ttrain-rmse:88.582899 \n",
      "[88]\ttrain-rmse:88.581847 \n",
      "[89]\ttrain-rmse:88.581786 \n",
      "[90]\ttrain-rmse:88.581507 \n",
      "[91]\ttrain-rmse:88.287417 \n",
      "[92]\ttrain-rmse:88.281582 \n",
      "[93]\ttrain-rmse:88.061321 \n",
      "[94]\ttrain-rmse:87.690321 \n",
      "[95]\ttrain-rmse:87.294417 \n",
      "[96]\ttrain-rmse:87.135429 \n",
      "[97]\ttrain-rmse:86.218283 \n",
      "[98]\ttrain-rmse:86.211163 \n",
      "[99]\ttrain-rmse:86.017454 \n",
      "[100]\ttrain-rmse:86.010073 \n",
      "[1] \"RMSE using ranger library (XGBoost) with depth  20  :  209.992482402693\"\n",
      "[1]\ttrain-rmse:575.503687 \n",
      "[2]\ttrain-rmse:432.433931 \n",
      "[3]\ttrain-rmse:334.175566 \n",
      "[4]\ttrain-rmse:294.117190 \n",
      "[5]\ttrain-rmse:238.210111 \n",
      "[6]\ttrain-rmse:223.312369 \n",
      "[7]\ttrain-rmse:187.829030 \n",
      "[8]\ttrain-rmse:182.866505 \n",
      "[9]\ttrain-rmse:180.130542 \n",
      "[10]\ttrain-rmse:178.386106 \n",
      "[11]\ttrain-rmse:158.069097 \n",
      "[12]\ttrain-rmse:144.594772 \n",
      "[13]\ttrain-rmse:144.268404 \n",
      "[14]\ttrain-rmse:127.961733 \n",
      "[15]\ttrain-rmse:115.133349 \n",
      "[16]\ttrain-rmse:105.131777 \n",
      "[17]\ttrain-rmse:98.824272 \n",
      "[18]\ttrain-rmse:98.056646 \n",
      "[19]\ttrain-rmse:91.592254 \n",
      "[20]\ttrain-rmse:87.952205 \n",
      "[21]\ttrain-rmse:84.335898 \n",
      "[22]\ttrain-rmse:81.780608 \n",
      "[23]\ttrain-rmse:81.327081 \n",
      "[24]\ttrain-rmse:75.769930 \n",
      "[25]\ttrain-rmse:75.660231 \n",
      "[26]\ttrain-rmse:69.973232 \n",
      "[27]\ttrain-rmse:68.346528 \n",
      "[28]\ttrain-rmse:64.497795 \n",
      "[29]\ttrain-rmse:64.455536 \n",
      "[30]\ttrain-rmse:63.359085 \n",
      "[31]\ttrain-rmse:63.294244 \n",
      "[32]\ttrain-rmse:63.261053 \n",
      "[33]\ttrain-rmse:61.789242 \n",
      "[34]\ttrain-rmse:58.924519 \n",
      "[35]\ttrain-rmse:56.585899 \n",
      "[36]\ttrain-rmse:56.551105 \n",
      "[37]\ttrain-rmse:54.521337 \n",
      "[38]\ttrain-rmse:54.212518 \n",
      "[39]\ttrain-rmse:53.602564 \n",
      "[40]\ttrain-rmse:53.194421 \n",
      "[41]\ttrain-rmse:53.168538 \n",
      "[42]\ttrain-rmse:53.156156 \n",
      "[43]\ttrain-rmse:52.902151 \n",
      "[44]\ttrain-rmse:52.227716 \n",
      "[45]\ttrain-rmse:52.212939 \n",
      "[46]\ttrain-rmse:52.043252 \n",
      "[47]\ttrain-rmse:51.941766 \n",
      "[48]\ttrain-rmse:51.713594 \n",
      "[49]\ttrain-rmse:50.266095 \n",
      "[50]\ttrain-rmse:46.696942 \n",
      "[51]\ttrain-rmse:46.558410 \n",
      "[52]\ttrain-rmse:46.065118 \n",
      "[53]\ttrain-rmse:43.489104 \n",
      "[54]\ttrain-rmse:41.400100 \n",
      "[55]\ttrain-rmse:41.387577 \n",
      "[56]\ttrain-rmse:41.279819 \n",
      "[57]\ttrain-rmse:40.680063 \n",
      "[58]\ttrain-rmse:40.560944 \n",
      "[59]\ttrain-rmse:40.553852 \n",
      "[60]\ttrain-rmse:40.274620 \n",
      "[61]\ttrain-rmse:40.265875 \n",
      "[62]\ttrain-rmse:40.262273 \n",
      "[63]\ttrain-rmse:39.938971 \n",
      "[64]\ttrain-rmse:39.499607 \n",
      "[65]\ttrain-rmse:39.304315 \n",
      "[66]\ttrain-rmse:37.124211 \n",
      "[67]\ttrain-rmse:37.097968 \n",
      "[68]\ttrain-rmse:37.011038 \n",
      "[69]\ttrain-rmse:36.695039 \n",
      "[70]\ttrain-rmse:35.717519 \n",
      "[71]\ttrain-rmse:35.652177 \n",
      "[72]\ttrain-rmse:35.465245 \n",
      "[73]\ttrain-rmse:35.303462 \n",
      "[74]\ttrain-rmse:35.215168 \n",
      "[75]\ttrain-rmse:33.735957 \n",
      "[76]\ttrain-rmse:33.708718 \n",
      "[77]\ttrain-rmse:33.651362 \n",
      "[78]\ttrain-rmse:33.617349 \n",
      "[79]\ttrain-rmse:33.610245 \n",
      "[80]\ttrain-rmse:31.251241 \n",
      "[81]\ttrain-rmse:31.143479 \n",
      "[82]\ttrain-rmse:31.111004 \n",
      "[83]\ttrain-rmse:31.103947 \n",
      "[84]\ttrain-rmse:30.959445 \n",
      "[85]\ttrain-rmse:30.674018 \n",
      "[86]\ttrain-rmse:30.587062 \n",
      "[87]\ttrain-rmse:30.455852 \n",
      "[88]\ttrain-rmse:30.420326 \n",
      "[89]\ttrain-rmse:30.401860 \n",
      "[90]\ttrain-rmse:30.209807 \n",
      "[91]\ttrain-rmse:30.200406 \n",
      "[92]\ttrain-rmse:30.131553 \n",
      "[93]\ttrain-rmse:30.127283 \n",
      "[94]\ttrain-rmse:29.429578 \n",
      "[95]\ttrain-rmse:29.422984 \n",
      "[96]\ttrain-rmse:29.298848 \n",
      "[97]\ttrain-rmse:29.265608 \n",
      "[98]\ttrain-rmse:29.260397 \n",
      "[99]\ttrain-rmse:28.451815 \n",
      "[100]\ttrain-rmse:28.448931 \n",
      "[1] \"RMSE using ranger library (XGBoost) with depth  30  :  225.314178258377\"\n",
      "[1]\ttrain-rmse:657.270706 \n",
      "[2]\ttrain-rmse:583.272935 \n",
      "[3]\ttrain-rmse:543.364694 \n",
      "[4]\ttrain-rmse:521.623959 \n",
      "[5]\ttrain-rmse:395.507963 \n",
      "[6]\ttrain-rmse:307.717843 \n",
      "[7]\ttrain-rmse:245.911005 \n",
      "[8]\ttrain-rmse:203.762001 \n",
      "[9]\ttrain-rmse:201.522104 \n",
      "[10]\ttrain-rmse:199.944987 \n",
      "[11]\ttrain-rmse:168.649900 \n",
      "[12]\ttrain-rmse:167.981589 \n",
      "[13]\ttrain-rmse:148.567969 \n",
      "[14]\ttrain-rmse:130.774424 \n",
      "[15]\ttrain-rmse:128.992084 \n",
      "[16]\ttrain-rmse:115.962148 \n",
      "[17]\ttrain-rmse:115.788125 \n",
      "[18]\ttrain-rmse:115.506909 \n",
      "[19]\ttrain-rmse:105.727247 \n",
      "[20]\ttrain-rmse:99.240325 \n",
      "[21]\ttrain-rmse:93.637974 \n",
      "[22]\ttrain-rmse:90.209527 \n",
      "[23]\ttrain-rmse:85.273555 \n",
      "[24]\ttrain-rmse:85.201679 \n",
      "[25]\ttrain-rmse:79.537920 \n",
      "[26]\ttrain-rmse:79.506873 \n",
      "[27]\ttrain-rmse:79.453927 \n",
      "[28]\ttrain-rmse:79.428818 \n",
      "[29]\ttrain-rmse:71.122313 \n",
      "[30]\ttrain-rmse:70.513394 \n",
      "[31]\ttrain-rmse:66.650260 \n",
      "[32]\ttrain-rmse:63.633708 \n",
      "[33]\ttrain-rmse:63.618409 \n",
      "[34]\ttrain-rmse:61.834645 \n",
      "[35]\ttrain-rmse:55.983649 \n",
      "[36]\ttrain-rmse:55.966767 \n",
      "[37]\ttrain-rmse:54.553391 \n",
      "[38]\ttrain-rmse:49.611476 \n",
      "[39]\ttrain-rmse:49.280903 \n",
      "[40]\ttrain-rmse:49.192403 \n",
      "[41]\ttrain-rmse:49.149889 \n",
      "[42]\ttrain-rmse:47.398739 \n",
      "[43]\ttrain-rmse:46.544559 \n",
      "[44]\ttrain-rmse:46.512436 \n",
      "[45]\ttrain-rmse:42.722981 \n",
      "[46]\ttrain-rmse:42.153723 \n",
      "[47]\ttrain-rmse:42.143694 \n",
      "[48]\ttrain-rmse:41.736478 \n",
      "[49]\ttrain-rmse:39.771712 \n",
      "[50]\ttrain-rmse:39.457517 \n",
      "[51]\ttrain-rmse:36.528669 \n",
      "[52]\ttrain-rmse:36.520516 \n",
      "[53]\ttrain-rmse:36.490329 \n",
      "[54]\ttrain-rmse:36.264467 \n",
      "[55]\ttrain-rmse:35.903482 \n",
      "[56]\ttrain-rmse:35.672410 \n",
      "[57]\ttrain-rmse:35.661356 \n",
      "[58]\ttrain-rmse:34.227134 \n",
      "[59]\ttrain-rmse:34.081624 \n",
      "[60]\ttrain-rmse:33.543485 \n",
      "[61]\ttrain-rmse:33.537787 \n",
      "[62]\ttrain-rmse:32.565360 \n",
      "[63]\ttrain-rmse:32.390338 \n",
      "[64]\ttrain-rmse:31.659057 \n",
      "[65]\ttrain-rmse:29.410190 \n",
      "[66]\ttrain-rmse:28.837487 \n",
      "[67]\ttrain-rmse:28.535781 \n",
      "[68]\ttrain-rmse:28.530086 \n",
      "[69]\ttrain-rmse:28.382330 \n",
      "[70]\ttrain-rmse:28.127783 \n",
      "[71]\ttrain-rmse:28.097549 \n",
      "[72]\ttrain-rmse:27.901842 \n",
      "[73]\ttrain-rmse:27.793351 \n",
      "[74]\ttrain-rmse:27.566263 \n",
      "[75]\ttrain-rmse:27.559059 \n",
      "[76]\ttrain-rmse:27.096248 \n",
      "[77]\ttrain-rmse:27.091517 \n",
      "[78]\ttrain-rmse:27.026152 \n",
      "[79]\ttrain-rmse:26.986329 \n",
      "[80]\ttrain-rmse:26.620345 \n",
      "[81]\ttrain-rmse:26.364179 \n",
      "[82]\ttrain-rmse:26.128615 \n",
      "[83]\ttrain-rmse:26.123614 \n",
      "[84]\ttrain-rmse:25.975658 \n",
      "[85]\ttrain-rmse:25.898588 \n",
      "[86]\ttrain-rmse:25.858453 \n",
      "[87]\ttrain-rmse:24.973670 \n",
      "[88]\ttrain-rmse:24.916619 \n",
      "[89]\ttrain-rmse:24.890608 \n",
      "[90]\ttrain-rmse:23.159123 \n",
      "[91]\ttrain-rmse:23.154694 \n",
      "[92]\ttrain-rmse:23.141077 \n",
      "[93]\ttrain-rmse:21.747750 \n",
      "[94]\ttrain-rmse:21.143892 \n",
      "[95]\ttrain-rmse:21.097388 \n",
      "[96]\ttrain-rmse:21.069091 \n",
      "[97]\ttrain-rmse:20.914795 \n",
      "[98]\ttrain-rmse:20.817661 \n",
      "[99]\ttrain-rmse:20.449712 \n",
      "[100]\ttrain-rmse:20.285668 \n",
      "[1] \"RMSE using ranger library (XGBoost) with depth  40  :  234.10580408027\"\n"
     ]
    }
   ],
   "source": [
    "depths = c(10,20,30,40)\n",
    "for(depth in depths){\n",
    "    xgb_params <- list(\n",
    "        objective=\"reg:squarederror\",\n",
    "        eta=0.3,\n",
    "        max_depth = depth,\n",
    "        subsample=0.8,\n",
    "        colsample_bytree=0.7\n",
    "    )\n",
    "    xgb_model <- xgboost(data=predictor_variable,label=target_variable,params=xgb_params,nrounds=100,nthread=detectCores())\n",
    "    predictions <- predict(xgb_model, newdata = test_predictor)\n",
    "    rmse <- sqrt(mean((target_test - predictions)^2))\n",
    "    print(paste(\"RMSE using ranger library (XGBoost) with depth \",depth,\" : \",rmse))\n",
    "}"
   ]
  },
  {
   "cell_type": "markdown",
   "id": "b2dc418b-e007-4275-908a-33430e9bbc96",
   "metadata": {},
   "source": [
    "## Support Vector Machines (SVM)"
   ]
  },
  {
   "cell_type": "code",
   "execution_count": 52,
   "id": "22d71fd2-184d-44f2-b48d-2fffe8cecffd",
   "metadata": {
    "execution": {
     "iopub.execute_input": "2024-04-16T06:24:47.898219Z",
     "iopub.status.busy": "2024-04-16T06:24:47.897325Z",
     "iopub.status.idle": "2024-04-16T06:24:47.959913Z",
     "shell.execute_reply": "2024-04-16T06:24:47.958745Z"
    }
   },
   "outputs": [],
   "source": [
    "library(e1071)"
   ]
  },
  {
   "cell_type": "code",
   "execution_count": 53,
   "id": "054fa268-caee-4785-8e8b-d4e87e1b1f19",
   "metadata": {
    "execution": {
     "iopub.execute_input": "2024-04-16T06:24:58.275241Z",
     "iopub.status.busy": "2024-04-16T06:24:58.272780Z",
     "iopub.status.idle": "2024-04-16T07:51:44.712569Z",
     "shell.execute_reply": "2024-04-16T07:51:44.711791Z"
    }
   },
   "outputs": [],
   "source": [
    "svm_model <- svm(x = predictor_variable, y = target_variable)"
   ]
  },
  {
   "cell_type": "code",
   "execution_count": 54,
   "id": "c3b90f05-b6cc-446c-8719-35e37db9f753",
   "metadata": {
    "execution": {
     "iopub.execute_input": "2024-04-16T13:01:10.443678Z",
     "iopub.status.busy": "2024-04-16T13:01:10.442416Z",
     "iopub.status.idle": "2024-04-16T13:01:13.022614Z",
     "shell.execute_reply": "2024-04-16T13:01:13.021894Z"
    },
    "scrolled": true
   },
   "outputs": [
    {
     "data": {
      "text/html": [
       "497.669770498942"
      ],
      "text/latex": [
       "497.669770498942"
      ],
      "text/markdown": [
       "497.669770498942"
      ],
      "text/plain": [
       "[1] 497.6698"
      ]
     },
     "metadata": {},
     "output_type": "display_data"
    }
   ],
   "source": [
    "predictions <- predict(svm_model, newdata = test_predictor)\n",
    "rmse <- sqrt(mean((predictions - target_test)^2))\n",
    "rmse"
   ]
  },
  {
   "cell_type": "code",
   "execution_count": 55,
   "id": "8a40318f-d4d0-4395-87ba-3c0d3bc45893",
   "metadata": {
    "execution": {
     "iopub.execute_input": "2024-04-16T13:04:21.681334Z",
     "iopub.status.busy": "2024-04-16T13:04:21.678524Z",
     "iopub.status.idle": "2024-04-16T13:04:21.690872Z",
     "shell.execute_reply": "2024-04-16T13:04:21.689730Z"
    }
   },
   "outputs": [],
   "source": [
    "ss_total <- sum((target_test - mean(target_test))^2)\n",
    "ss_residual <- sum((target_test - predictions)^2)\n",
    "r_squared <- 1 - (ss_residual / ss_total)"
   ]
  },
  {
   "cell_type": "code",
   "execution_count": 56,
   "id": "4dd7fd7f-21a6-4c3b-9166-91429cba6aa6",
   "metadata": {
    "execution": {
     "iopub.execute_input": "2024-04-16T13:04:22.904700Z",
     "iopub.status.busy": "2024-04-16T13:04:22.903721Z",
     "iopub.status.idle": "2024-04-16T13:04:22.911477Z",
     "shell.execute_reply": "2024-04-16T13:04:22.910420Z"
    }
   },
   "outputs": [
    {
     "data": {
      "text/html": [
       "0.0524994028657331"
      ],
      "text/latex": [
       "0.0524994028657331"
      ],
      "text/markdown": [
       "0.0524994028657331"
      ],
      "text/plain": [
       "[1] 0.0524994"
      ]
     },
     "metadata": {},
     "output_type": "display_data"
    }
   ],
   "source": [
    "r_squared"
   ]
  },
  {
   "cell_type": "markdown",
   "id": "d1f5543c-1742-42c3-814a-6b2855743a78",
   "metadata": {},
   "source": [
    "## h2o (random forest) grid search"
   ]
  },
  {
   "cell_type": "code",
   "execution_count": 33,
   "id": "de8776a8-c785-4f03-80f2-459e1df6416c",
   "metadata": {
    "execution": {
     "iopub.execute_input": "2024-04-17T05:08:14.472268Z",
     "iopub.status.busy": "2024-04-17T05:08:14.470944Z",
     "iopub.status.idle": "2024-04-17T05:08:17.115585Z",
     "shell.execute_reply": "2024-04-17T05:08:17.114797Z"
    }
   },
   "outputs": [
    {
     "name": "stdout",
     "output_type": "stream",
     "text": [
      "\n",
      "H2O is not running yet, starting it now...\n",
      "\n",
      "Note:  In case of errors look at the following log files:\n",
      "    /tmp/RtmpP96qjF/file1d7030274a31/h2o_saikiranbattula_started_from_r.out\n",
      "    /tmp/RtmpP96qjF/file1d703ffcbd63/h2o_saikiranbattula_started_from_r.err\n",
      "\n",
      "\n",
      "Starting H2O JVM and connecting: .. Connection successful!\n",
      "\n",
      "R is connected to the H2O cluster: \n",
      "    H2O cluster uptime:         1 seconds 90 milliseconds \n",
      "    H2O cluster timezone:       America/New_York \n",
      "    H2O data parsing timezone:  UTC \n",
      "    H2O cluster version:        3.44.0.3 \n",
      "    H2O cluster version age:    3 months and 27 days \n",
      "    H2O cluster name:           H2O_started_from_R_saikiranbattula_wsx527 \n",
      "    H2O cluster total nodes:    1 \n",
      "    H2O cluster total memory:   4.44 GB \n",
      "    H2O cluster total cores:    24 \n",
      "    H2O cluster allowed cores:  24 \n",
      "    H2O cluster healthy:        TRUE \n",
      "    H2O Connection ip:          localhost \n",
      "    H2O Connection port:        54321 \n",
      "    H2O Connection proxy:       NA \n",
      "    H2O Internal Security:      FALSE \n",
      "    R Version:                  R version 4.3.1 (2023-06-16) \n"
     ]
    },
    {
     "name": "stderr",
     "output_type": "stream",
     "text": [
      "Warning message in h2o.clusterInfo():\n",
      "“\n",
      "Your H2O cluster version is (3 months and 27 days) old. There may be a newer version available.\n",
      "Please download and install the latest version from: https://h2o-release.s3.amazonaws.com/h2o/latest_stable.html”\n"
     ]
    },
    {
     "name": "stdout",
     "output_type": "stream",
     "text": [
      "\n"
     ]
    }
   ],
   "source": [
    "h2o.no_progress()\n",
    "h2o.init(max_mem_size = \"5g\")"
   ]
  },
  {
   "cell_type": "code",
   "execution_count": 34,
   "id": "2e1c7248-728f-40bd-af17-de18f5a00f57",
   "metadata": {
    "execution": {
     "iopub.execute_input": "2024-04-17T05:08:17.117083Z",
     "iopub.status.busy": "2024-04-17T05:08:17.116562Z",
     "iopub.status.idle": "2024-04-17T05:08:18.338462Z",
     "shell.execute_reply": "2024-04-17T05:08:18.337581Z"
    }
   },
   "outputs": [],
   "source": [
    "train_h2o <- as.h2o(subset_data)"
   ]
  },
  {
   "cell_type": "code",
   "execution_count": 35,
   "id": "f0c1a06e-9cba-4bf6-97f5-30aa102b6eff",
   "metadata": {
    "execution": {
     "iopub.execute_input": "2024-04-17T05:08:18.339868Z",
     "iopub.status.busy": "2024-04-17T05:08:18.339395Z",
     "iopub.status.idle": "2024-04-17T05:08:18.387602Z",
     "shell.execute_reply": "2024-04-17T05:08:18.386658Z"
    }
   },
   "outputs": [
    {
     "ename": "ERROR",
     "evalue": "Error in base::`||`(x, y): 'length = 300000' in coercion to 'logical(1)'\n",
     "output_type": "error",
     "traceback": [
      "Error in base::`||`(x, y): 'length = 300000' in coercion to 'logical(1)'\nTraceback:\n",
      "1. h2o.grid(algorithm = \"randomForest\", grid_id = \"rf_random_grid\", \n .     x = predictor_variable, y = target_variable, training_frame = train_h2o, \n .     hyper_params = hyper_grid, ntrees = n_features * 10, seed = 123, \n .     stopping_metric = \"RMSE\", stopping_rounds = 10, stopping_tolerance = 0.005, \n .     search_criteria = search_criteria)",
      "2. .h2o.prepareModelParameters(algo = algorithm, params = dots, \n .     is_supervised = is_supervised)",
      "3. .verify_dataxy(params$training_frame, x, y)",
      "4. y < 1L || y > length(cc)"
     ]
    }
   ],
   "source": [
    "n_features <- 5\n",
    "\n",
    "hyper_grid <- list(\n",
    "  mtries = pmax(1, floor(n_features * c(.05, .15, .25, .333, .4))),\n",
    "  min_rows = c(1, 3, 5, 10),\n",
    "  max_depth = c(10, 20, 30),\n",
    "  sample_rate = c(.55, .632, .70, .80)\n",
    ")\n",
    "\n",
    "search_criteria <- list(\n",
    "  strategy = \"RandomDiscrete\",\n",
    "  stopping_metric = \"mse\",\n",
    "  stopping_tolerance = 0.001,   \n",
    "  stopping_rounds = 10,        \n",
    "  max_runtime_secs = 60*5      \n",
    ")\n",
    "\n",
    "random_grid <- h2o.grid(\n",
    "  algorithm = \"randomForest\",\n",
    "  grid_id = \"rf_random_grid\",\n",
    "  x = predictor_variable,\n",
    "  y = target_variable,\n",
    "  training_frame = train_h2o,\n",
    "  hyper_params = hyper_grid,\n",
    "  ntrees = n_features * 10,\n",
    "  seed = 123,\n",
    "  stopping_metric = \"RMSE\",\n",
    "  stopping_rounds = 10,          \n",
    "  stopping_tolerance = 0.005,   \n",
    "  search_criteria = search_criteria\n",
    ")\n",
    "\n",
    "random_grid_perf <- h2o.getGrid(\n",
    "  grid_id = \"rf_random_grid\",\n",
    "  sort_by = \"mse\",\n",
    "  decreasing = FALSE\n",
    ")\n",
    "print(random_grid_perf)"
   ]
  },
  {
   "cell_type": "code",
   "execution_count": null,
   "id": "d8a1294c-55e2-4c9e-a59c-e6e9fe767cf7",
   "metadata": {},
   "outputs": [],
   "source": []
  },
  {
   "cell_type": "code",
   "execution_count": null,
   "id": "fa405867-32e6-439f-9d58-8c603d858f7c",
   "metadata": {},
   "outputs": [],
   "source": []
  }
 ],
 "metadata": {
  "kernelspec": {
   "display_name": "R",
   "language": "R",
   "name": "ir"
  },
  "language_info": {
   "codemirror_mode": "r",
   "file_extension": ".r",
   "mimetype": "text/x-r-source",
   "name": "R",
   "pygments_lexer": "r",
   "version": "4.3.1"
  }
 },
 "nbformat": 4,
 "nbformat_minor": 5
}
